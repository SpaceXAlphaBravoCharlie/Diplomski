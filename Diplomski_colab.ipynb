{
  "nbformat": 4,
  "nbformat_minor": 0,
  "metadata": {
    "colab": {
      "provenance": []
    },
    "kernelspec": {
      "name": "python3",
      "display_name": "Python 3"
    },
    "language_info": {
      "name": "python"
    }
  },
  "cells": [
    {
      "cell_type": "code",
      "execution_count": 52,
      "metadata": {
        "id": "PWBcqHqXG5iC"
      },
      "outputs": [],
      "source": [
        "import pandas as pd\n",
        "import numpy as np\n",
        "from tqdm import tqdm\n",
        "import matplotlib.pyplot as plt"
      ]
    },
    {
      "cell_type": "code",
      "source": [
        "from google.colab import drive\n",
        "drive.mount('/content/drive')"
      ],
      "metadata": {
        "colab": {
          "base_uri": "https://localhost:8080/"
        },
        "id": "JhJV90n4Hbc6",
        "outputId": "e49cb7de-dbc9-4e4b-ebd4-edeb7ce60f51"
      },
      "execution_count": 39,
      "outputs": [
        {
          "output_type": "stream",
          "name": "stdout",
          "text": [
            "Drive already mounted at /content/drive; to attempt to forcibly remount, call drive.mount(\"/content/drive\", force_remount=True).\n"
          ]
        }
      ]
    },
    {
      "cell_type": "code",
      "source": [
        "logs_df_statistical_method = pd.read_csv(\"/content/drive/MyDrive/logs_df_statistical_method.csv\")\n",
        "logs_df_statistical_method.head()"
      ],
      "metadata": {
        "colab": {
          "base_uri": "https://localhost:8080/",
          "height": 204
        },
        "id": "y0NEu34vG-XS",
        "outputId": "1c28d8bf-24d2-42ad-9168-40f9545e77fe"
      },
      "execution_count": 40,
      "outputs": [
        {
          "output_type": "execute_result",
          "data": {
            "text/plain": [
              "   Unnamed: 0  request_processing_time  target_processing_time  \\\n",
              "0           0                    0.000                   0.759   \n",
              "1           1                    0.001                   0.194   \n",
              "2           2                    0.001                   0.444   \n",
              "3           3                    0.000                   0.221   \n",
              "4           4                    0.001                   0.168   \n",
              "\n",
              "   response_processing_time  received_bytes  sent_bytes  number of requests  \n",
              "0                       0.0             375         542                   1  \n",
              "1                       0.0             374        2363                   5  \n",
              "2                       0.0             374         542                   7  \n",
              "3                       0.0             375        5641                   8  \n",
              "4                       0.0             375        2532                   8  "
            ],
            "text/html": [
              "\n",
              "  <div id=\"df-b6ba75ae-7f48-424b-88a5-c755257adb24\" class=\"colab-df-container\">\n",
              "    <div>\n",
              "<style scoped>\n",
              "    .dataframe tbody tr th:only-of-type {\n",
              "        vertical-align: middle;\n",
              "    }\n",
              "\n",
              "    .dataframe tbody tr th {\n",
              "        vertical-align: top;\n",
              "    }\n",
              "\n",
              "    .dataframe thead th {\n",
              "        text-align: right;\n",
              "    }\n",
              "</style>\n",
              "<table border=\"1\" class=\"dataframe\">\n",
              "  <thead>\n",
              "    <tr style=\"text-align: right;\">\n",
              "      <th></th>\n",
              "      <th>Unnamed: 0</th>\n",
              "      <th>request_processing_time</th>\n",
              "      <th>target_processing_time</th>\n",
              "      <th>response_processing_time</th>\n",
              "      <th>received_bytes</th>\n",
              "      <th>sent_bytes</th>\n",
              "      <th>number of requests</th>\n",
              "    </tr>\n",
              "  </thead>\n",
              "  <tbody>\n",
              "    <tr>\n",
              "      <th>0</th>\n",
              "      <td>0</td>\n",
              "      <td>0.000</td>\n",
              "      <td>0.759</td>\n",
              "      <td>0.0</td>\n",
              "      <td>375</td>\n",
              "      <td>542</td>\n",
              "      <td>1</td>\n",
              "    </tr>\n",
              "    <tr>\n",
              "      <th>1</th>\n",
              "      <td>1</td>\n",
              "      <td>0.001</td>\n",
              "      <td>0.194</td>\n",
              "      <td>0.0</td>\n",
              "      <td>374</td>\n",
              "      <td>2363</td>\n",
              "      <td>5</td>\n",
              "    </tr>\n",
              "    <tr>\n",
              "      <th>2</th>\n",
              "      <td>2</td>\n",
              "      <td>0.001</td>\n",
              "      <td>0.444</td>\n",
              "      <td>0.0</td>\n",
              "      <td>374</td>\n",
              "      <td>542</td>\n",
              "      <td>7</td>\n",
              "    </tr>\n",
              "    <tr>\n",
              "      <th>3</th>\n",
              "      <td>3</td>\n",
              "      <td>0.000</td>\n",
              "      <td>0.221</td>\n",
              "      <td>0.0</td>\n",
              "      <td>375</td>\n",
              "      <td>5641</td>\n",
              "      <td>8</td>\n",
              "    </tr>\n",
              "    <tr>\n",
              "      <th>4</th>\n",
              "      <td>4</td>\n",
              "      <td>0.001</td>\n",
              "      <td>0.168</td>\n",
              "      <td>0.0</td>\n",
              "      <td>375</td>\n",
              "      <td>2532</td>\n",
              "      <td>8</td>\n",
              "    </tr>\n",
              "  </tbody>\n",
              "</table>\n",
              "</div>\n",
              "    <div class=\"colab-df-buttons\">\n",
              "\n",
              "  <div class=\"colab-df-container\">\n",
              "    <button class=\"colab-df-convert\" onclick=\"convertToInteractive('df-b6ba75ae-7f48-424b-88a5-c755257adb24')\"\n",
              "            title=\"Convert this dataframe to an interactive table.\"\n",
              "            style=\"display:none;\">\n",
              "\n",
              "  <svg xmlns=\"http://www.w3.org/2000/svg\" height=\"24px\" viewBox=\"0 -960 960 960\">\n",
              "    <path d=\"M120-120v-720h720v720H120Zm60-500h600v-160H180v160Zm220 220h160v-160H400v160Zm0 220h160v-160H400v160ZM180-400h160v-160H180v160Zm440 0h160v-160H620v160ZM180-180h160v-160H180v160Zm440 0h160v-160H620v160Z\"/>\n",
              "  </svg>\n",
              "    </button>\n",
              "\n",
              "  <style>\n",
              "    .colab-df-container {\n",
              "      display:flex;\n",
              "      gap: 12px;\n",
              "    }\n",
              "\n",
              "    .colab-df-convert {\n",
              "      background-color: #E8F0FE;\n",
              "      border: none;\n",
              "      border-radius: 50%;\n",
              "      cursor: pointer;\n",
              "      display: none;\n",
              "      fill: #1967D2;\n",
              "      height: 32px;\n",
              "      padding: 0 0 0 0;\n",
              "      width: 32px;\n",
              "    }\n",
              "\n",
              "    .colab-df-convert:hover {\n",
              "      background-color: #E2EBFA;\n",
              "      box-shadow: 0px 1px 2px rgba(60, 64, 67, 0.3), 0px 1px 3px 1px rgba(60, 64, 67, 0.15);\n",
              "      fill: #174EA6;\n",
              "    }\n",
              "\n",
              "    .colab-df-buttons div {\n",
              "      margin-bottom: 4px;\n",
              "    }\n",
              "\n",
              "    [theme=dark] .colab-df-convert {\n",
              "      background-color: #3B4455;\n",
              "      fill: #D2E3FC;\n",
              "    }\n",
              "\n",
              "    [theme=dark] .colab-df-convert:hover {\n",
              "      background-color: #434B5C;\n",
              "      box-shadow: 0px 1px 3px 1px rgba(0, 0, 0, 0.15);\n",
              "      filter: drop-shadow(0px 1px 2px rgba(0, 0, 0, 0.3));\n",
              "      fill: #FFFFFF;\n",
              "    }\n",
              "  </style>\n",
              "\n",
              "    <script>\n",
              "      const buttonEl =\n",
              "        document.querySelector('#df-b6ba75ae-7f48-424b-88a5-c755257adb24 button.colab-df-convert');\n",
              "      buttonEl.style.display =\n",
              "        google.colab.kernel.accessAllowed ? 'block' : 'none';\n",
              "\n",
              "      async function convertToInteractive(key) {\n",
              "        const element = document.querySelector('#df-b6ba75ae-7f48-424b-88a5-c755257adb24');\n",
              "        const dataTable =\n",
              "          await google.colab.kernel.invokeFunction('convertToInteractive',\n",
              "                                                    [key], {});\n",
              "        if (!dataTable) return;\n",
              "\n",
              "        const docLinkHtml = 'Like what you see? Visit the ' +\n",
              "          '<a target=\"_blank\" href=https://colab.research.google.com/notebooks/data_table.ipynb>data table notebook</a>'\n",
              "          + ' to learn more about interactive tables.';\n",
              "        element.innerHTML = '';\n",
              "        dataTable['output_type'] = 'display_data';\n",
              "        await google.colab.output.renderOutput(dataTable, element);\n",
              "        const docLink = document.createElement('div');\n",
              "        docLink.innerHTML = docLinkHtml;\n",
              "        element.appendChild(docLink);\n",
              "      }\n",
              "    </script>\n",
              "  </div>\n",
              "\n",
              "\n",
              "<div id=\"df-d71b9286-82fc-4cc7-a66e-97b5ad2b3765\">\n",
              "  <button class=\"colab-df-quickchart\" onclick=\"quickchart('df-d71b9286-82fc-4cc7-a66e-97b5ad2b3765')\"\n",
              "            title=\"Suggest charts.\"\n",
              "            style=\"display:none;\">\n",
              "\n",
              "<svg xmlns=\"http://www.w3.org/2000/svg\" height=\"24px\"viewBox=\"0 0 24 24\"\n",
              "     width=\"24px\">\n",
              "    <g>\n",
              "        <path d=\"M19 3H5c-1.1 0-2 .9-2 2v14c0 1.1.9 2 2 2h14c1.1 0 2-.9 2-2V5c0-1.1-.9-2-2-2zM9 17H7v-7h2v7zm4 0h-2V7h2v10zm4 0h-2v-4h2v4z\"/>\n",
              "    </g>\n",
              "</svg>\n",
              "  </button>\n",
              "\n",
              "<style>\n",
              "  .colab-df-quickchart {\n",
              "      --bg-color: #E8F0FE;\n",
              "      --fill-color: #1967D2;\n",
              "      --hover-bg-color: #E2EBFA;\n",
              "      --hover-fill-color: #174EA6;\n",
              "      --disabled-fill-color: #AAA;\n",
              "      --disabled-bg-color: #DDD;\n",
              "  }\n",
              "\n",
              "  [theme=dark] .colab-df-quickchart {\n",
              "      --bg-color: #3B4455;\n",
              "      --fill-color: #D2E3FC;\n",
              "      --hover-bg-color: #434B5C;\n",
              "      --hover-fill-color: #FFFFFF;\n",
              "      --disabled-bg-color: #3B4455;\n",
              "      --disabled-fill-color: #666;\n",
              "  }\n",
              "\n",
              "  .colab-df-quickchart {\n",
              "    background-color: var(--bg-color);\n",
              "    border: none;\n",
              "    border-radius: 50%;\n",
              "    cursor: pointer;\n",
              "    display: none;\n",
              "    fill: var(--fill-color);\n",
              "    height: 32px;\n",
              "    padding: 0;\n",
              "    width: 32px;\n",
              "  }\n",
              "\n",
              "  .colab-df-quickchart:hover {\n",
              "    background-color: var(--hover-bg-color);\n",
              "    box-shadow: 0 1px 2px rgba(60, 64, 67, 0.3), 0 1px 3px 1px rgba(60, 64, 67, 0.15);\n",
              "    fill: var(--button-hover-fill-color);\n",
              "  }\n",
              "\n",
              "  .colab-df-quickchart-complete:disabled,\n",
              "  .colab-df-quickchart-complete:disabled:hover {\n",
              "    background-color: var(--disabled-bg-color);\n",
              "    fill: var(--disabled-fill-color);\n",
              "    box-shadow: none;\n",
              "  }\n",
              "\n",
              "  .colab-df-spinner {\n",
              "    border: 2px solid var(--fill-color);\n",
              "    border-color: transparent;\n",
              "    border-bottom-color: var(--fill-color);\n",
              "    animation:\n",
              "      spin 1s steps(1) infinite;\n",
              "  }\n",
              "\n",
              "  @keyframes spin {\n",
              "    0% {\n",
              "      border-color: transparent;\n",
              "      border-bottom-color: var(--fill-color);\n",
              "      border-left-color: var(--fill-color);\n",
              "    }\n",
              "    20% {\n",
              "      border-color: transparent;\n",
              "      border-left-color: var(--fill-color);\n",
              "      border-top-color: var(--fill-color);\n",
              "    }\n",
              "    30% {\n",
              "      border-color: transparent;\n",
              "      border-left-color: var(--fill-color);\n",
              "      border-top-color: var(--fill-color);\n",
              "      border-right-color: var(--fill-color);\n",
              "    }\n",
              "    40% {\n",
              "      border-color: transparent;\n",
              "      border-right-color: var(--fill-color);\n",
              "      border-top-color: var(--fill-color);\n",
              "    }\n",
              "    60% {\n",
              "      border-color: transparent;\n",
              "      border-right-color: var(--fill-color);\n",
              "    }\n",
              "    80% {\n",
              "      border-color: transparent;\n",
              "      border-right-color: var(--fill-color);\n",
              "      border-bottom-color: var(--fill-color);\n",
              "    }\n",
              "    90% {\n",
              "      border-color: transparent;\n",
              "      border-bottom-color: var(--fill-color);\n",
              "    }\n",
              "  }\n",
              "</style>\n",
              "\n",
              "  <script>\n",
              "    async function quickchart(key) {\n",
              "      const quickchartButtonEl =\n",
              "        document.querySelector('#' + key + ' button');\n",
              "      quickchartButtonEl.disabled = true;  // To prevent multiple clicks.\n",
              "      quickchartButtonEl.classList.add('colab-df-spinner');\n",
              "      try {\n",
              "        const charts = await google.colab.kernel.invokeFunction(\n",
              "            'suggestCharts', [key], {});\n",
              "      } catch (error) {\n",
              "        console.error('Error during call to suggestCharts:', error);\n",
              "      }\n",
              "      quickchartButtonEl.classList.remove('colab-df-spinner');\n",
              "      quickchartButtonEl.classList.add('colab-df-quickchart-complete');\n",
              "    }\n",
              "    (() => {\n",
              "      let quickchartButtonEl =\n",
              "        document.querySelector('#df-d71b9286-82fc-4cc7-a66e-97b5ad2b3765 button');\n",
              "      quickchartButtonEl.style.display =\n",
              "        google.colab.kernel.accessAllowed ? 'block' : 'none';\n",
              "    })();\n",
              "  </script>\n",
              "</div>\n",
              "    </div>\n",
              "  </div>\n"
            ]
          },
          "metadata": {},
          "execution_count": 40
        }
      ]
    },
    {
      "cell_type": "code",
      "source": [
        "logs_df_statistical_method.drop('Unnamed: 0', axis=1, inplace=True)"
      ],
      "metadata": {
        "id": "Ryd14uHy3svi"
      },
      "execution_count": 41,
      "outputs": []
    },
    {
      "cell_type": "code",
      "source": [
        "logs_df_statistical_method.shape"
      ],
      "metadata": {
        "colab": {
          "base_uri": "https://localhost:8080/"
        },
        "id": "gci1JdgEMp6D",
        "outputId": "41a5332d-0f0e-4d06-a158-19ecc50c80f6"
      },
      "execution_count": 42,
      "outputs": [
        {
          "output_type": "execute_result",
          "data": {
            "text/plain": [
              "(100000, 6)"
            ]
          },
          "metadata": {},
          "execution_count": 42
        }
      ]
    },
    {
      "cell_type": "markdown",
      "source": [
        "Cutoff hi > 2 * (p + 1) / n was too weak as all observations were marked as unusual. We will use hi > 3 * (p + 1) / n cutoff instead."
      ],
      "metadata": {
        "id": "tKWqhSfw7Vcx"
      }
    },
    {
      "cell_type": "code",
      "source": [
        "# statistical model unidimensional case\n",
        "anomalies_features = list()\n",
        "anomalies_indices = list()\n",
        "for column in logs_df_statistical_method.columns:\n",
        "    for i in tqdm(range(1, logs_df_statistical_method.shape[0])):\n",
        "        if i == 1:\n",
        "          current_mean = np.mean(logs_df_statistical_method[column][:2])\n",
        "        else:\n",
        "          current_mean = ((i - 1) * previous_mean + logs_df_statistical_method[column][i]) * 1/i\n",
        "        leverage_statistic = 1/i + np.power(logs_df_statistical_method[column][i] - current_mean, 2) / (np.var(logs_df_statistical_method[column][:i]) * 1/i)\n",
        "        if leverage_statistic > (3 * 2) / i: # hi > 3 * (p + 1) / n\n",
        "            anomalies_features.append(column)\n",
        "            anomalies_indices.append(i)\n",
        "        previous_mean = current_mean"
      ],
      "metadata": {
        "id": "10MEvPJoIHwJ",
        "colab": {
          "base_uri": "https://localhost:8080/"
        },
        "outputId": "c13ef757-c03a-400d-b6aa-6ab849dd451a"
      },
      "execution_count": 43,
      "outputs": [
        {
          "output_type": "stream",
          "name": "stderr",
          "text": [
            "  0%|          | 0/99999 [00:00<?, ?it/s]<ipython-input-43-b8314c851986>:10: RuntimeWarning: divide by zero encountered in double_scalars\n",
            "  leverage_statistic = 1/i + np.power(logs_df_statistical_method[column][i] - current_mean, 2) / (np.var(logs_df_statistical_method[column][:i]) * 1/i)\n",
            "100%|██████████| 99999/99999 [01:03<00:00, 1569.56it/s]\n",
            "100%|██████████| 99999/99999 [01:04<00:00, 1555.93it/s]\n",
            "  0%|          | 0/99999 [00:00<?, ?it/s]<ipython-input-43-b8314c851986>:10: RuntimeWarning: invalid value encountered in double_scalars\n",
            "  leverage_statistic = 1/i + np.power(logs_df_statistical_method[column][i] - current_mean, 2) / (np.var(logs_df_statistical_method[column][:i]) * 1/i)\n",
            "100%|██████████| 99999/99999 [01:02<00:00, 1598.15it/s]\n",
            "100%|██████████| 99999/99999 [00:48<00:00, 2072.03it/s]\n",
            "100%|██████████| 99999/99999 [00:48<00:00, 2055.89it/s]\n",
            "100%|██████████| 99999/99999 [00:50<00:00, 1978.70it/s]\n"
          ]
        }
      ]
    },
    {
      "cell_type": "code",
      "source": [
        "# analyzing the output\n",
        "len(set(anomalies_indices))"
      ],
      "metadata": {
        "colab": {
          "base_uri": "https://localhost:8080/"
        },
        "id": "9TMJ4r4tK7Yi",
        "outputId": "9f157cf6-6c2b-41c2-bedd-d91d6900a626"
      },
      "execution_count": 44,
      "outputs": [
        {
          "output_type": "execute_result",
          "data": {
            "text/plain": [
              "99998"
            ]
          },
          "metadata": {},
          "execution_count": 44
        }
      ]
    },
    {
      "cell_type": "code",
      "source": [
        "# analyzing the output\n",
        "np.unique(np.array(anomalies_features), return_counts=True)"
      ],
      "metadata": {
        "id": "qMgISAtMEMeL",
        "colab": {
          "base_uri": "https://localhost:8080/"
        },
        "outputId": "88acc655-50da-4145-e552-ee1b704c214c"
      },
      "execution_count": 45,
      "outputs": [
        {
          "output_type": "execute_result",
          "data": {
            "text/plain": [
              "(array(['number of requests', 'received_bytes', 'request_processing_time',\n",
              "        'response_processing_time', 'sent_bytes', 'target_processing_time'],\n",
              "       dtype='<U24'),\n",
              " array([99998, 99994, 99933, 99627, 99987, 99967]))"
            ]
          },
          "metadata": {},
          "execution_count": 45
        }
      ]
    },
    {
      "cell_type": "code",
      "source": [
        "# statistical model multidimensional case\n",
        "anomalies_indices_md = list()\n",
        "leverage_statistics = list()\n",
        "design_matrix_product_inverse = np.linalg.inv(np.dot(np.transpose(logs_df_statistical_method.to_numpy()), logs_df_statistical_method.to_numpy()))\n",
        "for i in tqdm(range(1, logs_df_statistical_method.shape[0])):\n",
        "  leverage_statistic = np.dot(np.dot(np.transpose(logs_df_statistical_method.iloc[0].to_numpy()), design_matrix_product_inverse), logs_df_statistical_method.iloc[0].to_numpy())\n",
        "  leverage_statistics.append(leverage_statistic)\n",
        "  if leverage_statistic > (3 * (7)) / i: # hi > 3 * (p + 1) / n\n",
        "    anomalies_indices_md.append(i)"
      ],
      "metadata": {
        "colab": {
          "base_uri": "https://localhost:8080/"
        },
        "id": "plybtNAr5gHq",
        "outputId": "3bdfb4d1-2b94-41b5-9f62-b537cc71a6e6"
      },
      "execution_count": 53,
      "outputs": [
        {
          "output_type": "stream",
          "name": "stderr",
          "text": [
            "100%|██████████| 99999/99999 [00:23<00:00, 4192.68it/s]\n"
          ]
        }
      ]
    },
    {
      "cell_type": "code",
      "source": [
        "# analyzing the output\n",
        "len(anomalies_indices_md)"
      ],
      "metadata": {
        "id": "1PQEa8EaFiVm",
        "colab": {
          "base_uri": "https://localhost:8080/"
        },
        "outputId": "c03d63b5-96bd-4896-c78f-d68a4002624b"
      },
      "execution_count": 54,
      "outputs": [
        {
          "output_type": "execute_result",
          "data": {
            "text/plain": [
              "0"
            ]
          },
          "metadata": {},
          "execution_count": 54
        }
      ]
    },
    {
      "cell_type": "code",
      "source": [
        "set(anomalies_indices).intersection(set(anomalies_indices_md))"
      ],
      "metadata": {
        "id": "W5Rs_fVbF-4S",
        "colab": {
          "base_uri": "https://localhost:8080/"
        },
        "outputId": "1cf3ca1b-b6e7-4e06-8793-143619e1f6bd"
      },
      "execution_count": 48,
      "outputs": [
        {
          "output_type": "execute_result",
          "data": {
            "text/plain": [
              "set()"
            ]
          },
          "metadata": {},
          "execution_count": 48
        }
      ]
    },
    {
      "cell_type": "code",
      "source": [
        "len(set(anomalies_indices).difference(set(anomalies_indices_md)))"
      ],
      "metadata": {
        "id": "J9yGRGdsFuRb",
        "colab": {
          "base_uri": "https://localhost:8080/"
        },
        "outputId": "86d9589e-1c4c-4bc4-fb05-4ff00ba6a900"
      },
      "execution_count": 51,
      "outputs": [
        {
          "output_type": "execute_result",
          "data": {
            "text/plain": [
              "99998"
            ]
          },
          "metadata": {},
          "execution_count": 51
        }
      ]
    }
  ]
}