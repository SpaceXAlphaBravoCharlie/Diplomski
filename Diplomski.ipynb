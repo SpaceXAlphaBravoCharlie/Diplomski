{
 "cells": [
  {
   "cell_type": "code",
   "execution_count": 259,
   "metadata": {},
   "outputs": [],
   "source": [
    "import pandas as pd\n",
    "import numpy as np\n",
    "import matplotlib.pyplot as plt"
   ]
  },
  {
   "cell_type": "markdown",
   "metadata": {},
   "source": [
    "# Loading data"
   ]
  },
  {
   "cell_type": "code",
   "execution_count": 184,
   "metadata": {},
   "outputs": [
    {
     "name": "stdout",
     "output_type": "stream",
     "text": [
      "[Errno 2] No such file or directory: './alb-logs'\n",
      "/Users/markojankuleski/Documents/Diplomski/alb-logs\n"
     ]
    }
   ],
   "source": [
    "%cd ./alb-logs"
   ]
  },
  {
   "cell_type": "code",
   "execution_count": 185,
   "metadata": {},
   "outputs": [],
   "source": [
    "def read_data(csv_file):\n",
    "    csv_file_df = pd.read_csv(csv_file, sep=\" \", header=0)\n",
    "    return csv_file_df"
   ]
  },
  {
   "cell_type": "code",
   "execution_count": 186,
   "metadata": {},
   "outputs": [
    {
     "data": {
      "text/html": [
       "<div>\n",
       "<style scoped>\n",
       "    .dataframe tbody tr th:only-of-type {\n",
       "        vertical-align: middle;\n",
       "    }\n",
       "\n",
       "    .dataframe tbody tr th {\n",
       "        vertical-align: top;\n",
       "    }\n",
       "\n",
       "    .dataframe thead th {\n",
       "        text-align: right;\n",
       "    }\n",
       "</style>\n",
       "<table border=\"1\" class=\"dataframe\">\n",
       "  <thead>\n",
       "    <tr style=\"text-align: right;\">\n",
       "      <th></th>\n",
       "      <th>type</th>\n",
       "      <th>time</th>\n",
       "      <th>elb</th>\n",
       "      <th>client_port</th>\n",
       "      <th>target_port</th>\n",
       "      <th>request_processing_time</th>\n",
       "      <th>target_processing_time</th>\n",
       "      <th>response_processing_time</th>\n",
       "      <th>elb_status_code</th>\n",
       "      <th>target_status_code</th>\n",
       "      <th>...</th>\n",
       "      <th>chosen_cert_arn</th>\n",
       "      <th>matched_rule_priority</th>\n",
       "      <th>request_creation_time</th>\n",
       "      <th>actions_executed</th>\n",
       "      <th>redirect_url</th>\n",
       "      <th>error_reason</th>\n",
       "      <th>target_port_list</th>\n",
       "      <th>target_status_code_list</th>\n",
       "      <th>classification</th>\n",
       "      <th>classification_reason</th>\n",
       "    </tr>\n",
       "  </thead>\n",
       "  <tbody>\n",
       "    <tr>\n",
       "      <th>0</th>\n",
       "      <td>h2</td>\n",
       "      <td>2023-05-02T23:55:00.853383Z</td>\n",
       "      <td>app/public-alb-123/321</td>\n",
       "      <td>107.122.173.65:17237</td>\n",
       "      <td>190.61.210.122:64070</td>\n",
       "      <td>0.000</td>\n",
       "      <td>0.143</td>\n",
       "      <td>0.0</td>\n",
       "      <td>200</td>\n",
       "      <td>200</td>\n",
       "      <td>...</td>\n",
       "      <td>arn:aws:acm:us-east-1:1337:certificate/12345678</td>\n",
       "      <td>1660</td>\n",
       "      <td>2023-05-02T23:55:00.709000Z</td>\n",
       "      <td>forward</td>\n",
       "      <td>-</td>\n",
       "      <td>-</td>\n",
       "      <td>172.32.152.128:9090</td>\n",
       "      <td>200</td>\n",
       "      <td>-</td>\n",
       "      <td>-</td>\n",
       "    </tr>\n",
       "    <tr>\n",
       "      <th>1</th>\n",
       "      <td>h2</td>\n",
       "      <td>2023-05-02T23:55:00.909122Z</td>\n",
       "      <td>app/public-alb-123/321</td>\n",
       "      <td>47.4.248.170:52851</td>\n",
       "      <td>190.61.210.122:64070</td>\n",
       "      <td>0.000</td>\n",
       "      <td>0.191</td>\n",
       "      <td>0.0</td>\n",
       "      <td>200</td>\n",
       "      <td>200</td>\n",
       "      <td>...</td>\n",
       "      <td>arn:aws:acm:us-east-1:1337:certificate/12345678</td>\n",
       "      <td>1660</td>\n",
       "      <td>2023-05-02T23:55:00.717000Z</td>\n",
       "      <td>forward</td>\n",
       "      <td>-</td>\n",
       "      <td>-</td>\n",
       "      <td>172.32.152.128:9090</td>\n",
       "      <td>200</td>\n",
       "      <td>-</td>\n",
       "      <td>-</td>\n",
       "    </tr>\n",
       "    <tr>\n",
       "      <th>2</th>\n",
       "      <td>h2</td>\n",
       "      <td>2023-05-02T23:55:01.979531Z</td>\n",
       "      <td>app/public-alb-123/321</td>\n",
       "      <td>98.216.85.196:59207</td>\n",
       "      <td>190.61.210.122:64070</td>\n",
       "      <td>0.001</td>\n",
       "      <td>0.181</td>\n",
       "      <td>0.0</td>\n",
       "      <td>200</td>\n",
       "      <td>200</td>\n",
       "      <td>...</td>\n",
       "      <td>arn:aws:acm:us-east-1:1337:certificate/12345678</td>\n",
       "      <td>1660</td>\n",
       "      <td>2023-05-02T23:55:01.797000Z</td>\n",
       "      <td>forward</td>\n",
       "      <td>-</td>\n",
       "      <td>-</td>\n",
       "      <td>172.32.192.244:9090</td>\n",
       "      <td>200</td>\n",
       "      <td>-</td>\n",
       "      <td>-</td>\n",
       "    </tr>\n",
       "    <tr>\n",
       "      <th>3</th>\n",
       "      <td>h2</td>\n",
       "      <td>2023-05-02T23:55:02.052758Z</td>\n",
       "      <td>app/public-alb-123/321</td>\n",
       "      <td>107.209.189.224:62063</td>\n",
       "      <td>190.61.210.122:64070</td>\n",
       "      <td>0.000</td>\n",
       "      <td>0.198</td>\n",
       "      <td>0.0</td>\n",
       "      <td>200</td>\n",
       "      <td>200</td>\n",
       "      <td>...</td>\n",
       "      <td>arn:aws:acm:us-east-1:1337:certificate/12345678</td>\n",
       "      <td>1660</td>\n",
       "      <td>2023-05-02T23:55:01.853000Z</td>\n",
       "      <td>forward</td>\n",
       "      <td>-</td>\n",
       "      <td>-</td>\n",
       "      <td>172.32.152.128:9090</td>\n",
       "      <td>200</td>\n",
       "      <td>-</td>\n",
       "      <td>-</td>\n",
       "    </tr>\n",
       "    <tr>\n",
       "      <th>4</th>\n",
       "      <td>h2</td>\n",
       "      <td>2023-05-02T23:55:02.551542Z</td>\n",
       "      <td>app/public-alb-123/321</td>\n",
       "      <td>174.194.195.193:9335</td>\n",
       "      <td>190.61.210.122:64070</td>\n",
       "      <td>0.001</td>\n",
       "      <td>0.212</td>\n",
       "      <td>0.0</td>\n",
       "      <td>200</td>\n",
       "      <td>200</td>\n",
       "      <td>...</td>\n",
       "      <td>arn:aws:acm:us-east-1:1337:certificate/12345678</td>\n",
       "      <td>1660</td>\n",
       "      <td>2023-05-02T23:55:02.338000Z</td>\n",
       "      <td>forward</td>\n",
       "      <td>-</td>\n",
       "      <td>-</td>\n",
       "      <td>172.32.192.244:9090</td>\n",
       "      <td>200</td>\n",
       "      <td>-</td>\n",
       "      <td>-</td>\n",
       "    </tr>\n",
       "  </tbody>\n",
       "</table>\n",
       "<p>5 rows × 29 columns</p>\n",
       "</div>"
      ],
      "text/plain": [
       "  type                         time                     elb  \\\n",
       "0   h2  2023-05-02T23:55:00.853383Z  app/public-alb-123/321   \n",
       "1   h2  2023-05-02T23:55:00.909122Z  app/public-alb-123/321   \n",
       "2   h2  2023-05-02T23:55:01.979531Z  app/public-alb-123/321   \n",
       "3   h2  2023-05-02T23:55:02.052758Z  app/public-alb-123/321   \n",
       "4   h2  2023-05-02T23:55:02.551542Z  app/public-alb-123/321   \n",
       "\n",
       "             client_port           target_port  request_processing_time  \\\n",
       "0   107.122.173.65:17237  190.61.210.122:64070                    0.000   \n",
       "1     47.4.248.170:52851  190.61.210.122:64070                    0.000   \n",
       "2    98.216.85.196:59207  190.61.210.122:64070                    0.001   \n",
       "3  107.209.189.224:62063  190.61.210.122:64070                    0.000   \n",
       "4   174.194.195.193:9335  190.61.210.122:64070                    0.001   \n",
       "\n",
       "   target_processing_time  response_processing_time  elb_status_code  \\\n",
       "0                   0.143                       0.0              200   \n",
       "1                   0.191                       0.0              200   \n",
       "2                   0.181                       0.0              200   \n",
       "3                   0.198                       0.0              200   \n",
       "4                   0.212                       0.0              200   \n",
       "\n",
       "  target_status_code  ...                                  chosen_cert_arn  \\\n",
       "0                200  ...  arn:aws:acm:us-east-1:1337:certificate/12345678   \n",
       "1                200  ...  arn:aws:acm:us-east-1:1337:certificate/12345678   \n",
       "2                200  ...  arn:aws:acm:us-east-1:1337:certificate/12345678   \n",
       "3                200  ...  arn:aws:acm:us-east-1:1337:certificate/12345678   \n",
       "4                200  ...  arn:aws:acm:us-east-1:1337:certificate/12345678   \n",
       "\n",
       "   matched_rule_priority        request_creation_time actions_executed  \\\n",
       "0                   1660  2023-05-02T23:55:00.709000Z          forward   \n",
       "1                   1660  2023-05-02T23:55:00.717000Z          forward   \n",
       "2                   1660  2023-05-02T23:55:01.797000Z          forward   \n",
       "3                   1660  2023-05-02T23:55:01.853000Z          forward   \n",
       "4                   1660  2023-05-02T23:55:02.338000Z          forward   \n",
       "\n",
       "  redirect_url error_reason     target_port_list target_status_code_list  \\\n",
       "0            -            -  172.32.152.128:9090                     200   \n",
       "1            -            -  172.32.152.128:9090                     200   \n",
       "2            -            -  172.32.192.244:9090                     200   \n",
       "3            -            -  172.32.152.128:9090                     200   \n",
       "4            -            -  172.32.192.244:9090                     200   \n",
       "\n",
       "  classification classification_reason  \n",
       "0              -                     -  \n",
       "1              -                     -  \n",
       "2              -                     -  \n",
       "3              -                     -  \n",
       "4              -                     -  \n",
       "\n",
       "[5 rows x 29 columns]"
      ]
     },
     "execution_count": 186,
     "metadata": {},
     "output_type": "execute_result"
    }
   ],
   "source": [
    "alb_logs_20230503_df = read_data(\"alb-logs-20230503.csv\")\n",
    "alb_logs_20230503_df.head()"
   ]
  },
  {
   "cell_type": "code",
   "execution_count": 187,
   "metadata": {},
   "outputs": [
    {
     "data": {
      "text/plain": [
       "(434227, 29)"
      ]
     },
     "execution_count": 187,
     "metadata": {},
     "output_type": "execute_result"
    }
   ],
   "source": [
    "alb_logs_20230503_df.shape"
   ]
  },
  {
   "cell_type": "code",
   "execution_count": 188,
   "metadata": {},
   "outputs": [
    {
     "name": "stdout",
     "output_type": "stream",
     "text": [
      "<class 'pandas.core.frame.DataFrame'>\n",
      "RangeIndex: 434227 entries, 0 to 434226\n",
      "Columns: 29 entries, type to classification_reason\n",
      "dtypes: float64(3), int64(4), object(22)\n",
      "memory usage: 750.2 MB\n"
     ]
    }
   ],
   "source": [
    "alb_logs_20230503_df.info(verbose=False, memory_usage=\"deep\")"
   ]
  },
  {
   "cell_type": "code",
   "execution_count": 189,
   "metadata": {},
   "outputs": [
    {
     "data": {
      "text/html": [
       "<div>\n",
       "<style scoped>\n",
       "    .dataframe tbody tr th:only-of-type {\n",
       "        vertical-align: middle;\n",
       "    }\n",
       "\n",
       "    .dataframe tbody tr th {\n",
       "        vertical-align: top;\n",
       "    }\n",
       "\n",
       "    .dataframe thead th {\n",
       "        text-align: right;\n",
       "    }\n",
       "</style>\n",
       "<table border=\"1\" class=\"dataframe\">\n",
       "  <thead>\n",
       "    <tr style=\"text-align: right;\">\n",
       "      <th></th>\n",
       "      <th>type</th>\n",
       "      <th>time</th>\n",
       "      <th>elb</th>\n",
       "      <th>client_port</th>\n",
       "      <th>target_port</th>\n",
       "      <th>request_processing_time</th>\n",
       "      <th>target_processing_time</th>\n",
       "      <th>response_processing_time</th>\n",
       "      <th>elb_status_code</th>\n",
       "      <th>target_status_code</th>\n",
       "      <th>...</th>\n",
       "      <th>chosen_cert_arn</th>\n",
       "      <th>matched_rule_priority</th>\n",
       "      <th>request_creation_time</th>\n",
       "      <th>actions_executed</th>\n",
       "      <th>redirect_url</th>\n",
       "      <th>error_reason</th>\n",
       "      <th>target_port_list</th>\n",
       "      <th>target_status_code_list</th>\n",
       "      <th>classification</th>\n",
       "      <th>classification_reason</th>\n",
       "    </tr>\n",
       "  </thead>\n",
       "  <tbody>\n",
       "    <tr>\n",
       "      <th>0</th>\n",
       "      <td>h2</td>\n",
       "      <td>2023-05-03T23:55:00.936341Z</td>\n",
       "      <td>app/public-alb-123/321</td>\n",
       "      <td>37.156.75.215:28412</td>\n",
       "      <td>107.110.171.34:60339</td>\n",
       "      <td>0.001</td>\n",
       "      <td>0.194</td>\n",
       "      <td>0.0</td>\n",
       "      <td>200</td>\n",
       "      <td>200</td>\n",
       "      <td>...</td>\n",
       "      <td>arn:aws:acm:us-east-1:1337:certificate/12345678</td>\n",
       "      <td>1660</td>\n",
       "      <td>2023-05-03T23:55:00.741000Z</td>\n",
       "      <td>forward</td>\n",
       "      <td>-</td>\n",
       "      <td>-</td>\n",
       "      <td>172.32.192.244:9090</td>\n",
       "      <td>200</td>\n",
       "      <td>-</td>\n",
       "      <td>-</td>\n",
       "    </tr>\n",
       "    <tr>\n",
       "      <th>1</th>\n",
       "      <td>h2</td>\n",
       "      <td>2023-05-03T23:55:00.980508Z</td>\n",
       "      <td>app/public-alb-123/321</td>\n",
       "      <td>47.160.169.68:55292</td>\n",
       "      <td>107.110.171.34:60339</td>\n",
       "      <td>0.001</td>\n",
       "      <td>0.444</td>\n",
       "      <td>0.0</td>\n",
       "      <td>200</td>\n",
       "      <td>200</td>\n",
       "      <td>...</td>\n",
       "      <td>arn:aws:acm:us-east-1:1337:certificate/12345678</td>\n",
       "      <td>1660</td>\n",
       "      <td>2023-05-03T23:55:00.535000Z</td>\n",
       "      <td>forward</td>\n",
       "      <td>-</td>\n",
       "      <td>-</td>\n",
       "      <td>172.32.192.244:9090</td>\n",
       "      <td>200</td>\n",
       "      <td>-</td>\n",
       "      <td>-</td>\n",
       "    </tr>\n",
       "    <tr>\n",
       "      <th>2</th>\n",
       "      <td>h2</td>\n",
       "      <td>2023-05-03T23:55:01.031178Z</td>\n",
       "      <td>app/public-alb-123/321</td>\n",
       "      <td>96.64.32.210:64670</td>\n",
       "      <td>107.110.171.34:60339</td>\n",
       "      <td>0.000</td>\n",
       "      <td>0.221</td>\n",
       "      <td>0.0</td>\n",
       "      <td>200</td>\n",
       "      <td>200</td>\n",
       "      <td>...</td>\n",
       "      <td>arn:aws:acm:us-east-1:1337:certificate/12345678</td>\n",
       "      <td>1660</td>\n",
       "      <td>2023-05-03T23:55:00.809000Z</td>\n",
       "      <td>forward</td>\n",
       "      <td>-</td>\n",
       "      <td>-</td>\n",
       "      <td>172.32.152.128:9090</td>\n",
       "      <td>200</td>\n",
       "      <td>-</td>\n",
       "      <td>-</td>\n",
       "    </tr>\n",
       "    <tr>\n",
       "      <th>3</th>\n",
       "      <td>h2</td>\n",
       "      <td>2023-05-03T23:55:01.230494Z</td>\n",
       "      <td>app/public-alb-123/321</td>\n",
       "      <td>174.198.132.80:12554</td>\n",
       "      <td>107.110.171.34:60339</td>\n",
       "      <td>0.001</td>\n",
       "      <td>0.238</td>\n",
       "      <td>0.0</td>\n",
       "      <td>200</td>\n",
       "      <td>200</td>\n",
       "      <td>...</td>\n",
       "      <td>arn:aws:acm:us-east-1:1337:certificate/12345678</td>\n",
       "      <td>1660</td>\n",
       "      <td>2023-05-03T23:55:00.991000Z</td>\n",
       "      <td>forward</td>\n",
       "      <td>-</td>\n",
       "      <td>-</td>\n",
       "      <td>172.32.192.244:9090</td>\n",
       "      <td>200</td>\n",
       "      <td>-</td>\n",
       "      <td>-</td>\n",
       "    </tr>\n",
       "    <tr>\n",
       "      <th>4</th>\n",
       "      <td>h2</td>\n",
       "      <td>2023-05-03T23:55:01.504385Z</td>\n",
       "      <td>app/public-alb-123/321</td>\n",
       "      <td>67.255.72.176:59368</td>\n",
       "      <td>107.110.171.34:60339</td>\n",
       "      <td>0.000</td>\n",
       "      <td>0.172</td>\n",
       "      <td>0.0</td>\n",
       "      <td>200</td>\n",
       "      <td>200</td>\n",
       "      <td>...</td>\n",
       "      <td>arn:aws:acm:us-east-1:1337:certificate/12345678</td>\n",
       "      <td>1660</td>\n",
       "      <td>2023-05-03T23:55:01.332000Z</td>\n",
       "      <td>forward</td>\n",
       "      <td>-</td>\n",
       "      <td>-</td>\n",
       "      <td>172.32.152.128:9090</td>\n",
       "      <td>200</td>\n",
       "      <td>-</td>\n",
       "      <td>-</td>\n",
       "    </tr>\n",
       "  </tbody>\n",
       "</table>\n",
       "<p>5 rows × 29 columns</p>\n",
       "</div>"
      ],
      "text/plain": [
       "  type                         time                     elb  \\\n",
       "0   h2  2023-05-03T23:55:00.936341Z  app/public-alb-123/321   \n",
       "1   h2  2023-05-03T23:55:00.980508Z  app/public-alb-123/321   \n",
       "2   h2  2023-05-03T23:55:01.031178Z  app/public-alb-123/321   \n",
       "3   h2  2023-05-03T23:55:01.230494Z  app/public-alb-123/321   \n",
       "4   h2  2023-05-03T23:55:01.504385Z  app/public-alb-123/321   \n",
       "\n",
       "            client_port           target_port  request_processing_time  \\\n",
       "0   37.156.75.215:28412  107.110.171.34:60339                    0.001   \n",
       "1   47.160.169.68:55292  107.110.171.34:60339                    0.001   \n",
       "2    96.64.32.210:64670  107.110.171.34:60339                    0.000   \n",
       "3  174.198.132.80:12554  107.110.171.34:60339                    0.001   \n",
       "4   67.255.72.176:59368  107.110.171.34:60339                    0.000   \n",
       "\n",
       "   target_processing_time  response_processing_time  elb_status_code  \\\n",
       "0                   0.194                       0.0              200   \n",
       "1                   0.444                       0.0              200   \n",
       "2                   0.221                       0.0              200   \n",
       "3                   0.238                       0.0              200   \n",
       "4                   0.172                       0.0              200   \n",
       "\n",
       "  target_status_code  ...                                  chosen_cert_arn  \\\n",
       "0                200  ...  arn:aws:acm:us-east-1:1337:certificate/12345678   \n",
       "1                200  ...  arn:aws:acm:us-east-1:1337:certificate/12345678   \n",
       "2                200  ...  arn:aws:acm:us-east-1:1337:certificate/12345678   \n",
       "3                200  ...  arn:aws:acm:us-east-1:1337:certificate/12345678   \n",
       "4                200  ...  arn:aws:acm:us-east-1:1337:certificate/12345678   \n",
       "\n",
       "   matched_rule_priority        request_creation_time actions_executed  \\\n",
       "0                   1660  2023-05-03T23:55:00.741000Z          forward   \n",
       "1                   1660  2023-05-03T23:55:00.535000Z          forward   \n",
       "2                   1660  2023-05-03T23:55:00.809000Z          forward   \n",
       "3                   1660  2023-05-03T23:55:00.991000Z          forward   \n",
       "4                   1660  2023-05-03T23:55:01.332000Z          forward   \n",
       "\n",
       "  redirect_url error_reason     target_port_list target_status_code_list  \\\n",
       "0            -            -  172.32.192.244:9090                     200   \n",
       "1            -            -  172.32.192.244:9090                     200   \n",
       "2            -            -  172.32.152.128:9090                     200   \n",
       "3            -            -  172.32.192.244:9090                     200   \n",
       "4            -            -  172.32.152.128:9090                     200   \n",
       "\n",
       "  classification classification_reason  \n",
       "0              -                     -  \n",
       "1              -                     -  \n",
       "2              -                     -  \n",
       "3              -                     -  \n",
       "4              -                     -  \n",
       "\n",
       "[5 rows x 29 columns]"
      ]
     },
     "execution_count": 189,
     "metadata": {},
     "output_type": "execute_result"
    }
   ],
   "source": [
    "alb_logs_20230504_df = read_data(\"alb-logs-20230504.csv\")\n",
    "alb_logs_20230504_df.head()"
   ]
  },
  {
   "cell_type": "code",
   "execution_count": 190,
   "metadata": {},
   "outputs": [
    {
     "data": {
      "text/plain": [
       "(430616, 29)"
      ]
     },
     "execution_count": 190,
     "metadata": {},
     "output_type": "execute_result"
    }
   ],
   "source": [
    "alb_logs_20230504_df.shape"
   ]
  },
  {
   "cell_type": "code",
   "execution_count": 191,
   "metadata": {},
   "outputs": [
    {
     "name": "stdout",
     "output_type": "stream",
     "text": [
      "<class 'pandas.core.frame.DataFrame'>\n",
      "RangeIndex: 430616 entries, 0 to 430615\n",
      "Columns: 29 entries, type to classification_reason\n",
      "dtypes: float64(3), int64(4), object(22)\n",
      "memory usage: 743.9 MB\n"
     ]
    }
   ],
   "source": [
    "alb_logs_20230504_df.info(verbose=False, memory_usage=\"deep\")"
   ]
  },
  {
   "cell_type": "code",
   "execution_count": 192,
   "metadata": {},
   "outputs": [
    {
     "data": {
      "text/html": [
       "<div>\n",
       "<style scoped>\n",
       "    .dataframe tbody tr th:only-of-type {\n",
       "        vertical-align: middle;\n",
       "    }\n",
       "\n",
       "    .dataframe tbody tr th {\n",
       "        vertical-align: top;\n",
       "    }\n",
       "\n",
       "    .dataframe thead th {\n",
       "        text-align: right;\n",
       "    }\n",
       "</style>\n",
       "<table border=\"1\" class=\"dataframe\">\n",
       "  <thead>\n",
       "    <tr style=\"text-align: right;\">\n",
       "      <th></th>\n",
       "      <th>type</th>\n",
       "      <th>time</th>\n",
       "      <th>elb</th>\n",
       "      <th>client_port</th>\n",
       "      <th>target_port</th>\n",
       "      <th>request_processing_time</th>\n",
       "      <th>target_processing_time</th>\n",
       "      <th>response_processing_time</th>\n",
       "      <th>elb_status_code</th>\n",
       "      <th>target_status_code</th>\n",
       "      <th>...</th>\n",
       "      <th>chosen_cert_arn</th>\n",
       "      <th>matched_rule_priority</th>\n",
       "      <th>request_creation_time</th>\n",
       "      <th>actions_executed</th>\n",
       "      <th>redirect_url</th>\n",
       "      <th>error_reason</th>\n",
       "      <th>target_port_list</th>\n",
       "      <th>target_status_code_list</th>\n",
       "      <th>classification</th>\n",
       "      <th>classification_reason</th>\n",
       "    </tr>\n",
       "  </thead>\n",
       "  <tbody>\n",
       "    <tr>\n",
       "      <th>0</th>\n",
       "      <td>h2</td>\n",
       "      <td>2023-05-04T23:55:01.395623Z</td>\n",
       "      <td>app/public-alb-123/321</td>\n",
       "      <td>50.34.161.129:59998</td>\n",
       "      <td>190.21.190.209:62584</td>\n",
       "      <td>0.001</td>\n",
       "      <td>0.216</td>\n",
       "      <td>0.0</td>\n",
       "      <td>200</td>\n",
       "      <td>200</td>\n",
       "      <td>...</td>\n",
       "      <td>arn:aws:acm:us-east-1:1337:certificate/12345678</td>\n",
       "      <td>1660</td>\n",
       "      <td>2023-05-04T23:55:01.178000Z</td>\n",
       "      <td>forward</td>\n",
       "      <td>-</td>\n",
       "      <td>-</td>\n",
       "      <td>172.32.192.244:9090</td>\n",
       "      <td>200</td>\n",
       "      <td>-</td>\n",
       "      <td>-</td>\n",
       "    </tr>\n",
       "    <tr>\n",
       "      <th>1</th>\n",
       "      <td>h2</td>\n",
       "      <td>2023-05-04T23:55:02.192334Z</td>\n",
       "      <td>app/public-alb-123/321</td>\n",
       "      <td>73.140.76.96:57108</td>\n",
       "      <td>190.21.190.209:62584</td>\n",
       "      <td>0.000</td>\n",
       "      <td>0.219</td>\n",
       "      <td>0.0</td>\n",
       "      <td>200</td>\n",
       "      <td>200</td>\n",
       "      <td>...</td>\n",
       "      <td>arn:aws:acm:us-east-1:1337:certificate/12345678</td>\n",
       "      <td>1660</td>\n",
       "      <td>2023-05-04T23:55:01.973000Z</td>\n",
       "      <td>forward</td>\n",
       "      <td>-</td>\n",
       "      <td>-</td>\n",
       "      <td>172.32.152.128:9090</td>\n",
       "      <td>200</td>\n",
       "      <td>-</td>\n",
       "      <td>-</td>\n",
       "    </tr>\n",
       "    <tr>\n",
       "      <th>2</th>\n",
       "      <td>h2</td>\n",
       "      <td>2023-05-04T23:55:02.937865Z</td>\n",
       "      <td>app/public-alb-123/321</td>\n",
       "      <td>174.203.41.164:1322</td>\n",
       "      <td>190.21.190.209:62584</td>\n",
       "      <td>0.001</td>\n",
       "      <td>0.788</td>\n",
       "      <td>0.0</td>\n",
       "      <td>200</td>\n",
       "      <td>200</td>\n",
       "      <td>...</td>\n",
       "      <td>arn:aws:acm:us-east-1:1337:certificate/12345678</td>\n",
       "      <td>1660</td>\n",
       "      <td>2023-05-04T23:55:02.148000Z</td>\n",
       "      <td>forward</td>\n",
       "      <td>-</td>\n",
       "      <td>-</td>\n",
       "      <td>172.32.192.244:9090</td>\n",
       "      <td>200</td>\n",
       "      <td>-</td>\n",
       "      <td>-</td>\n",
       "    </tr>\n",
       "    <tr>\n",
       "      <th>3</th>\n",
       "      <td>h2</td>\n",
       "      <td>2023-05-04T23:55:03.092185Z</td>\n",
       "      <td>app/public-alb-123/321</td>\n",
       "      <td>201.86.1.160:62513</td>\n",
       "      <td>190.21.190.209:62584</td>\n",
       "      <td>0.001</td>\n",
       "      <td>0.175</td>\n",
       "      <td>0.0</td>\n",
       "      <td>200</td>\n",
       "      <td>200</td>\n",
       "      <td>...</td>\n",
       "      <td>arn:aws:acm:us-east-1:1337:certificate/12345678</td>\n",
       "      <td>1660</td>\n",
       "      <td>2023-05-04T23:55:02.916000Z</td>\n",
       "      <td>forward</td>\n",
       "      <td>-</td>\n",
       "      <td>-</td>\n",
       "      <td>172.32.152.128:9090</td>\n",
       "      <td>200</td>\n",
       "      <td>-</td>\n",
       "      <td>-</td>\n",
       "    </tr>\n",
       "    <tr>\n",
       "      <th>4</th>\n",
       "      <td>h2</td>\n",
       "      <td>2023-05-04T23:55:03.147868Z</td>\n",
       "      <td>app/public-alb-123/321</td>\n",
       "      <td>107.209.119.256:57621</td>\n",
       "      <td>190.21.190.209:62584</td>\n",
       "      <td>0.001</td>\n",
       "      <td>0.138</td>\n",
       "      <td>0.0</td>\n",
       "      <td>200</td>\n",
       "      <td>200</td>\n",
       "      <td>...</td>\n",
       "      <td>arn:aws:acm:us-east-1:1337:certificate/12345678</td>\n",
       "      <td>1660</td>\n",
       "      <td>2023-05-04T23:55:03.008000Z</td>\n",
       "      <td>forward</td>\n",
       "      <td>-</td>\n",
       "      <td>-</td>\n",
       "      <td>172.32.152.128:9090</td>\n",
       "      <td>200</td>\n",
       "      <td>-</td>\n",
       "      <td>-</td>\n",
       "    </tr>\n",
       "  </tbody>\n",
       "</table>\n",
       "<p>5 rows × 29 columns</p>\n",
       "</div>"
      ],
      "text/plain": [
       "  type                         time                     elb  \\\n",
       "0   h2  2023-05-04T23:55:01.395623Z  app/public-alb-123/321   \n",
       "1   h2  2023-05-04T23:55:02.192334Z  app/public-alb-123/321   \n",
       "2   h2  2023-05-04T23:55:02.937865Z  app/public-alb-123/321   \n",
       "3   h2  2023-05-04T23:55:03.092185Z  app/public-alb-123/321   \n",
       "4   h2  2023-05-04T23:55:03.147868Z  app/public-alb-123/321   \n",
       "\n",
       "             client_port           target_port  request_processing_time  \\\n",
       "0    50.34.161.129:59998  190.21.190.209:62584                    0.001   \n",
       "1     73.140.76.96:57108  190.21.190.209:62584                    0.000   \n",
       "2    174.203.41.164:1322  190.21.190.209:62584                    0.001   \n",
       "3     201.86.1.160:62513  190.21.190.209:62584                    0.001   \n",
       "4  107.209.119.256:57621  190.21.190.209:62584                    0.001   \n",
       "\n",
       "   target_processing_time  response_processing_time  elb_status_code  \\\n",
       "0                   0.216                       0.0              200   \n",
       "1                   0.219                       0.0              200   \n",
       "2                   0.788                       0.0              200   \n",
       "3                   0.175                       0.0              200   \n",
       "4                   0.138                       0.0              200   \n",
       "\n",
       "  target_status_code  ...                                  chosen_cert_arn  \\\n",
       "0                200  ...  arn:aws:acm:us-east-1:1337:certificate/12345678   \n",
       "1                200  ...  arn:aws:acm:us-east-1:1337:certificate/12345678   \n",
       "2                200  ...  arn:aws:acm:us-east-1:1337:certificate/12345678   \n",
       "3                200  ...  arn:aws:acm:us-east-1:1337:certificate/12345678   \n",
       "4                200  ...  arn:aws:acm:us-east-1:1337:certificate/12345678   \n",
       "\n",
       "   matched_rule_priority        request_creation_time actions_executed  \\\n",
       "0                   1660  2023-05-04T23:55:01.178000Z          forward   \n",
       "1                   1660  2023-05-04T23:55:01.973000Z          forward   \n",
       "2                   1660  2023-05-04T23:55:02.148000Z          forward   \n",
       "3                   1660  2023-05-04T23:55:02.916000Z          forward   \n",
       "4                   1660  2023-05-04T23:55:03.008000Z          forward   \n",
       "\n",
       "  redirect_url error_reason     target_port_list target_status_code_list  \\\n",
       "0            -            -  172.32.192.244:9090                     200   \n",
       "1            -            -  172.32.152.128:9090                     200   \n",
       "2            -            -  172.32.192.244:9090                     200   \n",
       "3            -            -  172.32.152.128:9090                     200   \n",
       "4            -            -  172.32.152.128:9090                     200   \n",
       "\n",
       "  classification classification_reason  \n",
       "0              -                     -  \n",
       "1              -                     -  \n",
       "2              -                     -  \n",
       "3              -                     -  \n",
       "4              -                     -  \n",
       "\n",
       "[5 rows x 29 columns]"
      ]
     },
     "execution_count": 192,
     "metadata": {},
     "output_type": "execute_result"
    }
   ],
   "source": [
    "alb_logs_20230505_df = read_data(\"alb-logs-20230505.csv\")\n",
    "alb_logs_20230505_df.head()"
   ]
  },
  {
   "cell_type": "code",
   "execution_count": 193,
   "metadata": {},
   "outputs": [
    {
     "data": {
      "text/plain": [
       "(408711, 29)"
      ]
     },
     "execution_count": 193,
     "metadata": {},
     "output_type": "execute_result"
    }
   ],
   "source": [
    "alb_logs_20230505_df.shape"
   ]
  },
  {
   "cell_type": "code",
   "execution_count": 194,
   "metadata": {},
   "outputs": [
    {
     "name": "stdout",
     "output_type": "stream",
     "text": [
      "<class 'pandas.core.frame.DataFrame'>\n",
      "RangeIndex: 408711 entries, 0 to 408710\n",
      "Columns: 29 entries, type to classification_reason\n",
      "dtypes: float64(3), int64(4), object(22)\n",
      "memory usage: 706.0 MB\n"
     ]
    }
   ],
   "source": [
    "alb_logs_20230505_df.info(verbose=False, memory_usage=\"deep\")"
   ]
  },
  {
   "cell_type": "code",
   "execution_count": 195,
   "metadata": {},
   "outputs": [
    {
     "data": {
      "text/html": [
       "<div>\n",
       "<style scoped>\n",
       "    .dataframe tbody tr th:only-of-type {\n",
       "        vertical-align: middle;\n",
       "    }\n",
       "\n",
       "    .dataframe tbody tr th {\n",
       "        vertical-align: top;\n",
       "    }\n",
       "\n",
       "    .dataframe thead th {\n",
       "        text-align: right;\n",
       "    }\n",
       "</style>\n",
       "<table border=\"1\" class=\"dataframe\">\n",
       "  <thead>\n",
       "    <tr style=\"text-align: right;\">\n",
       "      <th></th>\n",
       "      <th>type</th>\n",
       "      <th>time</th>\n",
       "      <th>elb</th>\n",
       "      <th>client_port</th>\n",
       "      <th>target_port</th>\n",
       "      <th>request_processing_time</th>\n",
       "      <th>target_processing_time</th>\n",
       "      <th>response_processing_time</th>\n",
       "      <th>elb_status_code</th>\n",
       "      <th>target_status_code</th>\n",
       "      <th>...</th>\n",
       "      <th>chosen_cert_arn</th>\n",
       "      <th>matched_rule_priority</th>\n",
       "      <th>request_creation_time</th>\n",
       "      <th>actions_executed</th>\n",
       "      <th>redirect_url</th>\n",
       "      <th>error_reason</th>\n",
       "      <th>target_port_list</th>\n",
       "      <th>target_status_code_list</th>\n",
       "      <th>classification</th>\n",
       "      <th>classification_reason</th>\n",
       "    </tr>\n",
       "  </thead>\n",
       "  <tbody>\n",
       "    <tr>\n",
       "      <th>0</th>\n",
       "      <td>h2</td>\n",
       "      <td>2023-05-05T23:55:01.722333Z</td>\n",
       "      <td>app/public-alb-123/321</td>\n",
       "      <td>70.67.230.258:61085</td>\n",
       "      <td>87.235.164.236:52894</td>\n",
       "      <td>0.001</td>\n",
       "      <td>0.382</td>\n",
       "      <td>0.0</td>\n",
       "      <td>200</td>\n",
       "      <td>200</td>\n",
       "      <td>...</td>\n",
       "      <td>arn:aws:acm:us-east-1:1337:certificate/12345678</td>\n",
       "      <td>1660</td>\n",
       "      <td>2023-05-05T23:55:01.339000Z</td>\n",
       "      <td>forward</td>\n",
       "      <td>-</td>\n",
       "      <td>-</td>\n",
       "      <td>172.32.196.19:9090</td>\n",
       "      <td>200</td>\n",
       "      <td>-</td>\n",
       "      <td>-</td>\n",
       "    </tr>\n",
       "    <tr>\n",
       "      <th>1</th>\n",
       "      <td>h2</td>\n",
       "      <td>2023-05-05T23:55:01.272426Z</td>\n",
       "      <td>app/public-alb-123/321</td>\n",
       "      <td>74.131.152.199:56407</td>\n",
       "      <td>87.235.164.236:52894</td>\n",
       "      <td>0.001</td>\n",
       "      <td>0.341</td>\n",
       "      <td>0.0</td>\n",
       "      <td>200</td>\n",
       "      <td>200</td>\n",
       "      <td>...</td>\n",
       "      <td>arn:aws:acm:us-east-1:1337:certificate/12345678</td>\n",
       "      <td>1660</td>\n",
       "      <td>2023-05-05T23:55:00.930000Z</td>\n",
       "      <td>forward</td>\n",
       "      <td>-</td>\n",
       "      <td>-</td>\n",
       "      <td>172.32.196.19:9090</td>\n",
       "      <td>200</td>\n",
       "      <td>-</td>\n",
       "      <td>-</td>\n",
       "    </tr>\n",
       "    <tr>\n",
       "      <th>2</th>\n",
       "      <td>h2</td>\n",
       "      <td>2023-05-05T23:55:02.580559Z</td>\n",
       "      <td>app/public-alb-123/321</td>\n",
       "      <td>174.198.15.31:2166</td>\n",
       "      <td>87.235.164.236:52894</td>\n",
       "      <td>0.000</td>\n",
       "      <td>0.199</td>\n",
       "      <td>0.0</td>\n",
       "      <td>200</td>\n",
       "      <td>200</td>\n",
       "      <td>...</td>\n",
       "      <td>arn:aws:acm:us-east-1:1337:certificate/12345678</td>\n",
       "      <td>1660</td>\n",
       "      <td>2023-05-05T23:55:02.380000Z</td>\n",
       "      <td>forward</td>\n",
       "      <td>-</td>\n",
       "      <td>-</td>\n",
       "      <td>172.32.128.80:9090</td>\n",
       "      <td>200</td>\n",
       "      <td>-</td>\n",
       "      <td>-</td>\n",
       "    </tr>\n",
       "    <tr>\n",
       "      <th>3</th>\n",
       "      <td>h2</td>\n",
       "      <td>2023-05-05T23:55:02.073443Z</td>\n",
       "      <td>app/public-alb-123/321</td>\n",
       "      <td>98.11.145.152:59359</td>\n",
       "      <td>87.235.164.236:52894</td>\n",
       "      <td>0.000</td>\n",
       "      <td>0.248</td>\n",
       "      <td>0.0</td>\n",
       "      <td>200</td>\n",
       "      <td>200</td>\n",
       "      <td>...</td>\n",
       "      <td>arn:aws:acm:us-east-1:1337:certificate/12345678</td>\n",
       "      <td>1660</td>\n",
       "      <td>2023-05-05T23:55:01.824000Z</td>\n",
       "      <td>forward</td>\n",
       "      <td>-</td>\n",
       "      <td>-</td>\n",
       "      <td>172.32.128.80:9090</td>\n",
       "      <td>200</td>\n",
       "      <td>-</td>\n",
       "      <td>-</td>\n",
       "    </tr>\n",
       "    <tr>\n",
       "      <th>4</th>\n",
       "      <td>h2</td>\n",
       "      <td>2023-05-05T23:55:02.190610Z</td>\n",
       "      <td>app/public-alb-123/321</td>\n",
       "      <td>97.131.37.13:53174</td>\n",
       "      <td>87.235.164.236:52894</td>\n",
       "      <td>0.001</td>\n",
       "      <td>0.221</td>\n",
       "      <td>0.0</td>\n",
       "      <td>200</td>\n",
       "      <td>200</td>\n",
       "      <td>...</td>\n",
       "      <td>arn:aws:acm:us-east-1:1337:certificate/12345678</td>\n",
       "      <td>1660</td>\n",
       "      <td>2023-05-05T23:55:01.968000Z</td>\n",
       "      <td>forward</td>\n",
       "      <td>-</td>\n",
       "      <td>-</td>\n",
       "      <td>172.32.196.19:9090</td>\n",
       "      <td>200</td>\n",
       "      <td>-</td>\n",
       "      <td>-</td>\n",
       "    </tr>\n",
       "  </tbody>\n",
       "</table>\n",
       "<p>5 rows × 29 columns</p>\n",
       "</div>"
      ],
      "text/plain": [
       "  type                         time                     elb  \\\n",
       "0   h2  2023-05-05T23:55:01.722333Z  app/public-alb-123/321   \n",
       "1   h2  2023-05-05T23:55:01.272426Z  app/public-alb-123/321   \n",
       "2   h2  2023-05-05T23:55:02.580559Z  app/public-alb-123/321   \n",
       "3   h2  2023-05-05T23:55:02.073443Z  app/public-alb-123/321   \n",
       "4   h2  2023-05-05T23:55:02.190610Z  app/public-alb-123/321   \n",
       "\n",
       "            client_port           target_port  request_processing_time  \\\n",
       "0   70.67.230.258:61085  87.235.164.236:52894                    0.001   \n",
       "1  74.131.152.199:56407  87.235.164.236:52894                    0.001   \n",
       "2    174.198.15.31:2166  87.235.164.236:52894                    0.000   \n",
       "3   98.11.145.152:59359  87.235.164.236:52894                    0.000   \n",
       "4    97.131.37.13:53174  87.235.164.236:52894                    0.001   \n",
       "\n",
       "   target_processing_time  response_processing_time  elb_status_code  \\\n",
       "0                   0.382                       0.0              200   \n",
       "1                   0.341                       0.0              200   \n",
       "2                   0.199                       0.0              200   \n",
       "3                   0.248                       0.0              200   \n",
       "4                   0.221                       0.0              200   \n",
       "\n",
       "  target_status_code  ...                                  chosen_cert_arn  \\\n",
       "0                200  ...  arn:aws:acm:us-east-1:1337:certificate/12345678   \n",
       "1                200  ...  arn:aws:acm:us-east-1:1337:certificate/12345678   \n",
       "2                200  ...  arn:aws:acm:us-east-1:1337:certificate/12345678   \n",
       "3                200  ...  arn:aws:acm:us-east-1:1337:certificate/12345678   \n",
       "4                200  ...  arn:aws:acm:us-east-1:1337:certificate/12345678   \n",
       "\n",
       "   matched_rule_priority        request_creation_time actions_executed  \\\n",
       "0                   1660  2023-05-05T23:55:01.339000Z          forward   \n",
       "1                   1660  2023-05-05T23:55:00.930000Z          forward   \n",
       "2                   1660  2023-05-05T23:55:02.380000Z          forward   \n",
       "3                   1660  2023-05-05T23:55:01.824000Z          forward   \n",
       "4                   1660  2023-05-05T23:55:01.968000Z          forward   \n",
       "\n",
       "  redirect_url error_reason    target_port_list target_status_code_list  \\\n",
       "0            -            -  172.32.196.19:9090                     200   \n",
       "1            -            -  172.32.196.19:9090                     200   \n",
       "2            -            -  172.32.128.80:9090                     200   \n",
       "3            -            -  172.32.128.80:9090                     200   \n",
       "4            -            -  172.32.196.19:9090                     200   \n",
       "\n",
       "  classification classification_reason  \n",
       "0              -                     -  \n",
       "1              -                     -  \n",
       "2              -                     -  \n",
       "3              -                     -  \n",
       "4              -                     -  \n",
       "\n",
       "[5 rows x 29 columns]"
      ]
     },
     "execution_count": 195,
     "metadata": {},
     "output_type": "execute_result"
    }
   ],
   "source": [
    "alb_logs_20230506_df = read_data(\"alb-logs-20230506.csv\")\n",
    "alb_logs_20230506_df.head()"
   ]
  },
  {
   "cell_type": "code",
   "execution_count": 196,
   "metadata": {},
   "outputs": [
    {
     "data": {
      "text/plain": [
       "(406055, 29)"
      ]
     },
     "execution_count": 196,
     "metadata": {},
     "output_type": "execute_result"
    }
   ],
   "source": [
    "alb_logs_20230506_df.shape"
   ]
  },
  {
   "cell_type": "code",
   "execution_count": 197,
   "metadata": {},
   "outputs": [
    {
     "name": "stdout",
     "output_type": "stream",
     "text": [
      "<class 'pandas.core.frame.DataFrame'>\n",
      "RangeIndex: 406055 entries, 0 to 406054\n",
      "Columns: 29 entries, type to classification_reason\n",
      "dtypes: float64(3), int64(4), object(22)\n",
      "memory usage: 701.3 MB\n"
     ]
    }
   ],
   "source": [
    "alb_logs_20230506_df.info(verbose=False, memory_usage=\"deep\")"
   ]
  },
  {
   "cell_type": "code",
   "execution_count": 198,
   "metadata": {},
   "outputs": [
    {
     "data": {
      "text/html": [
       "<div>\n",
       "<style scoped>\n",
       "    .dataframe tbody tr th:only-of-type {\n",
       "        vertical-align: middle;\n",
       "    }\n",
       "\n",
       "    .dataframe tbody tr th {\n",
       "        vertical-align: top;\n",
       "    }\n",
       "\n",
       "    .dataframe thead th {\n",
       "        text-align: right;\n",
       "    }\n",
       "</style>\n",
       "<table border=\"1\" class=\"dataframe\">\n",
       "  <thead>\n",
       "    <tr style=\"text-align: right;\">\n",
       "      <th></th>\n",
       "      <th>type</th>\n",
       "      <th>time</th>\n",
       "      <th>elb</th>\n",
       "      <th>client_port</th>\n",
       "      <th>target_port</th>\n",
       "      <th>request_processing_time</th>\n",
       "      <th>target_processing_time</th>\n",
       "      <th>response_processing_time</th>\n",
       "      <th>elb_status_code</th>\n",
       "      <th>target_status_code</th>\n",
       "      <th>...</th>\n",
       "      <th>chosen_cert_arn</th>\n",
       "      <th>matched_rule_priority</th>\n",
       "      <th>request_creation_time</th>\n",
       "      <th>actions_executed</th>\n",
       "      <th>redirect_url</th>\n",
       "      <th>error_reason</th>\n",
       "      <th>target_port_list</th>\n",
       "      <th>target_status_code_list</th>\n",
       "      <th>classification</th>\n",
       "      <th>classification_reason</th>\n",
       "    </tr>\n",
       "  </thead>\n",
       "  <tbody>\n",
       "    <tr>\n",
       "      <th>0</th>\n",
       "      <td>h2</td>\n",
       "      <td>2023-05-06T23:55:00.967687Z</td>\n",
       "      <td>app/public-alb-123/321</td>\n",
       "      <td>174.58.39.113:55205</td>\n",
       "      <td>90.128.202.176:56383</td>\n",
       "      <td>0.001</td>\n",
       "      <td>0.192</td>\n",
       "      <td>0.0</td>\n",
       "      <td>200</td>\n",
       "      <td>200</td>\n",
       "      <td>...</td>\n",
       "      <td>arn:aws:acm:us-east-1:1337:certificate/12345678</td>\n",
       "      <td>1660</td>\n",
       "      <td>2023-05-06T23:55:00.774000Z</td>\n",
       "      <td>forward</td>\n",
       "      <td>-</td>\n",
       "      <td>-</td>\n",
       "      <td>172.32.201.214:9090</td>\n",
       "      <td>200</td>\n",
       "      <td>-</td>\n",
       "      <td>-</td>\n",
       "    </tr>\n",
       "    <tr>\n",
       "      <th>1</th>\n",
       "      <td>h2</td>\n",
       "      <td>2023-05-06T23:55:00.673873Z</td>\n",
       "      <td>app/public-alb-123/321</td>\n",
       "      <td>2.25.225.199:54463</td>\n",
       "      <td>90.128.202.176:56383</td>\n",
       "      <td>0.001</td>\n",
       "      <td>0.167</td>\n",
       "      <td>0.0</td>\n",
       "      <td>200</td>\n",
       "      <td>200</td>\n",
       "      <td>...</td>\n",
       "      <td>arn:aws:acm:us-east-1:1337:certificate/12345678</td>\n",
       "      <td>1660</td>\n",
       "      <td>2023-05-06T23:55:00.505000Z</td>\n",
       "      <td>forward</td>\n",
       "      <td>-</td>\n",
       "      <td>-</td>\n",
       "      <td>172.32.201.214:9090</td>\n",
       "      <td>200</td>\n",
       "      <td>-</td>\n",
       "      <td>-</td>\n",
       "    </tr>\n",
       "    <tr>\n",
       "      <th>2</th>\n",
       "      <td>h2</td>\n",
       "      <td>2023-05-06T23:55:02.529489Z</td>\n",
       "      <td>app/public-alb-123/321</td>\n",
       "      <td>174.58.39.113:55205</td>\n",
       "      <td>90.128.202.176:56383</td>\n",
       "      <td>0.000</td>\n",
       "      <td>0.218</td>\n",
       "      <td>0.0</td>\n",
       "      <td>200</td>\n",
       "      <td>200</td>\n",
       "      <td>...</td>\n",
       "      <td>arn:aws:acm:us-east-1:1337:certificate/12345678</td>\n",
       "      <td>1660</td>\n",
       "      <td>2023-05-06T23:55:02.310000Z</td>\n",
       "      <td>forward</td>\n",
       "      <td>-</td>\n",
       "      <td>-</td>\n",
       "      <td>172.32.163.158:9090</td>\n",
       "      <td>200</td>\n",
       "      <td>-</td>\n",
       "      <td>-</td>\n",
       "    </tr>\n",
       "    <tr>\n",
       "      <th>3</th>\n",
       "      <td>h2</td>\n",
       "      <td>2023-05-06T23:55:02.947010Z</td>\n",
       "      <td>app/public-alb-123/321</td>\n",
       "      <td>101.184.34.124:57343</td>\n",
       "      <td>90.128.202.176:56383</td>\n",
       "      <td>0.000</td>\n",
       "      <td>0.239</td>\n",
       "      <td>0.0</td>\n",
       "      <td>200</td>\n",
       "      <td>200</td>\n",
       "      <td>...</td>\n",
       "      <td>arn:aws:acm:us-east-1:1337:certificate/12345678</td>\n",
       "      <td>1660</td>\n",
       "      <td>2023-05-06T23:55:02.707000Z</td>\n",
       "      <td>forward</td>\n",
       "      <td>-</td>\n",
       "      <td>-</td>\n",
       "      <td>172.32.163.158:9090</td>\n",
       "      <td>200</td>\n",
       "      <td>-</td>\n",
       "      <td>-</td>\n",
       "    </tr>\n",
       "    <tr>\n",
       "      <th>4</th>\n",
       "      <td>h2</td>\n",
       "      <td>2023-05-06T23:55:03.391870Z</td>\n",
       "      <td>app/public-alb-123/321</td>\n",
       "      <td>134.215.147.200:58231</td>\n",
       "      <td>90.128.202.176:56383</td>\n",
       "      <td>0.001</td>\n",
       "      <td>0.185</td>\n",
       "      <td>0.0</td>\n",
       "      <td>200</td>\n",
       "      <td>200</td>\n",
       "      <td>...</td>\n",
       "      <td>session-reused</td>\n",
       "      <td>1660</td>\n",
       "      <td>2023-05-06T23:55:03.206000Z</td>\n",
       "      <td>forward</td>\n",
       "      <td>-</td>\n",
       "      <td>-</td>\n",
       "      <td>172.32.201.214:9090</td>\n",
       "      <td>200</td>\n",
       "      <td>-</td>\n",
       "      <td>-</td>\n",
       "    </tr>\n",
       "  </tbody>\n",
       "</table>\n",
       "<p>5 rows × 29 columns</p>\n",
       "</div>"
      ],
      "text/plain": [
       "  type                         time                     elb  \\\n",
       "0   h2  2023-05-06T23:55:00.967687Z  app/public-alb-123/321   \n",
       "1   h2  2023-05-06T23:55:00.673873Z  app/public-alb-123/321   \n",
       "2   h2  2023-05-06T23:55:02.529489Z  app/public-alb-123/321   \n",
       "3   h2  2023-05-06T23:55:02.947010Z  app/public-alb-123/321   \n",
       "4   h2  2023-05-06T23:55:03.391870Z  app/public-alb-123/321   \n",
       "\n",
       "             client_port           target_port  request_processing_time  \\\n",
       "0    174.58.39.113:55205  90.128.202.176:56383                    0.001   \n",
       "1     2.25.225.199:54463  90.128.202.176:56383                    0.001   \n",
       "2    174.58.39.113:55205  90.128.202.176:56383                    0.000   \n",
       "3   101.184.34.124:57343  90.128.202.176:56383                    0.000   \n",
       "4  134.215.147.200:58231  90.128.202.176:56383                    0.001   \n",
       "\n",
       "   target_processing_time  response_processing_time  elb_status_code  \\\n",
       "0                   0.192                       0.0              200   \n",
       "1                   0.167                       0.0              200   \n",
       "2                   0.218                       0.0              200   \n",
       "3                   0.239                       0.0              200   \n",
       "4                   0.185                       0.0              200   \n",
       "\n",
       "  target_status_code  ...                                  chosen_cert_arn  \\\n",
       "0                200  ...  arn:aws:acm:us-east-1:1337:certificate/12345678   \n",
       "1                200  ...  arn:aws:acm:us-east-1:1337:certificate/12345678   \n",
       "2                200  ...  arn:aws:acm:us-east-1:1337:certificate/12345678   \n",
       "3                200  ...  arn:aws:acm:us-east-1:1337:certificate/12345678   \n",
       "4                200  ...                                   session-reused   \n",
       "\n",
       "   matched_rule_priority        request_creation_time actions_executed  \\\n",
       "0                   1660  2023-05-06T23:55:00.774000Z          forward   \n",
       "1                   1660  2023-05-06T23:55:00.505000Z          forward   \n",
       "2                   1660  2023-05-06T23:55:02.310000Z          forward   \n",
       "3                   1660  2023-05-06T23:55:02.707000Z          forward   \n",
       "4                   1660  2023-05-06T23:55:03.206000Z          forward   \n",
       "\n",
       "  redirect_url error_reason     target_port_list target_status_code_list  \\\n",
       "0            -            -  172.32.201.214:9090                     200   \n",
       "1            -            -  172.32.201.214:9090                     200   \n",
       "2            -            -  172.32.163.158:9090                     200   \n",
       "3            -            -  172.32.163.158:9090                     200   \n",
       "4            -            -  172.32.201.214:9090                     200   \n",
       "\n",
       "  classification classification_reason  \n",
       "0              -                     -  \n",
       "1              -                     -  \n",
       "2              -                     -  \n",
       "3              -                     -  \n",
       "4              -                     -  \n",
       "\n",
       "[5 rows x 29 columns]"
      ]
     },
     "execution_count": 198,
     "metadata": {},
     "output_type": "execute_result"
    }
   ],
   "source": [
    "alb_logs_20230507_df = read_data(\"alb-logs-20230507.csv\")\n",
    "alb_logs_20230507_df.head()"
   ]
  },
  {
   "cell_type": "code",
   "execution_count": 199,
   "metadata": {},
   "outputs": [
    {
     "data": {
      "text/plain": [
       "(407912, 29)"
      ]
     },
     "execution_count": 199,
     "metadata": {},
     "output_type": "execute_result"
    }
   ],
   "source": [
    "alb_logs_20230507_df.shape"
   ]
  },
  {
   "cell_type": "code",
   "execution_count": 200,
   "metadata": {},
   "outputs": [
    {
     "name": "stdout",
     "output_type": "stream",
     "text": [
      "<class 'pandas.core.frame.DataFrame'>\n",
      "RangeIndex: 407912 entries, 0 to 407911\n",
      "Columns: 29 entries, type to classification_reason\n",
      "dtypes: float64(3), int64(4), object(22)\n",
      "memory usage: 704.7 MB\n"
     ]
    }
   ],
   "source": [
    "alb_logs_20230507_df.info(verbose=False, memory_usage=\"deep\")"
   ]
  },
  {
   "cell_type": "code",
   "execution_count": 201,
   "metadata": {},
   "outputs": [
    {
     "data": {
      "text/html": [
       "<div>\n",
       "<style scoped>\n",
       "    .dataframe tbody tr th:only-of-type {\n",
       "        vertical-align: middle;\n",
       "    }\n",
       "\n",
       "    .dataframe tbody tr th {\n",
       "        vertical-align: top;\n",
       "    }\n",
       "\n",
       "    .dataframe thead th {\n",
       "        text-align: right;\n",
       "    }\n",
       "</style>\n",
       "<table border=\"1\" class=\"dataframe\">\n",
       "  <thead>\n",
       "    <tr style=\"text-align: right;\">\n",
       "      <th></th>\n",
       "      <th>type</th>\n",
       "      <th>time</th>\n",
       "      <th>elb</th>\n",
       "      <th>client_port</th>\n",
       "      <th>target_port</th>\n",
       "      <th>request_processing_time</th>\n",
       "      <th>target_processing_time</th>\n",
       "      <th>response_processing_time</th>\n",
       "      <th>elb_status_code</th>\n",
       "      <th>target_status_code</th>\n",
       "      <th>...</th>\n",
       "      <th>chosen_cert_arn</th>\n",
       "      <th>matched_rule_priority</th>\n",
       "      <th>request_creation_time</th>\n",
       "      <th>actions_executed</th>\n",
       "      <th>redirect_url</th>\n",
       "      <th>error_reason</th>\n",
       "      <th>target_port_list</th>\n",
       "      <th>target_status_code_list</th>\n",
       "      <th>classification</th>\n",
       "      <th>classification_reason</th>\n",
       "    </tr>\n",
       "  </thead>\n",
       "  <tbody>\n",
       "    <tr>\n",
       "      <th>0</th>\n",
       "      <td>h2</td>\n",
       "      <td>2023-05-07T23:55:00.876785Z</td>\n",
       "      <td>app/public-alb-123/321</td>\n",
       "      <td>24.4.225.92:57628</td>\n",
       "      <td>89.14.84.181:56673</td>\n",
       "      <td>0.001</td>\n",
       "      <td>0.175</td>\n",
       "      <td>0.0</td>\n",
       "      <td>200</td>\n",
       "      <td>200</td>\n",
       "      <td>...</td>\n",
       "      <td>arn:aws:acm:us-east-1:1337:certificate/12345678</td>\n",
       "      <td>1660</td>\n",
       "      <td>2023-05-07T23:55:00.701000Z</td>\n",
       "      <td>forward</td>\n",
       "      <td>-</td>\n",
       "      <td>-</td>\n",
       "      <td>172.32.201.214:9090</td>\n",
       "      <td>200</td>\n",
       "      <td>-</td>\n",
       "      <td>-</td>\n",
       "    </tr>\n",
       "    <tr>\n",
       "      <th>1</th>\n",
       "      <td>h2</td>\n",
       "      <td>2023-05-07T23:55:01.232898Z</td>\n",
       "      <td>app/public-alb-123/321</td>\n",
       "      <td>68.3.176.126:53034</td>\n",
       "      <td>89.14.84.181:56673</td>\n",
       "      <td>0.000</td>\n",
       "      <td>0.237</td>\n",
       "      <td>0.0</td>\n",
       "      <td>200</td>\n",
       "      <td>200</td>\n",
       "      <td>...</td>\n",
       "      <td>arn:aws:acm:us-east-1:1337:certificate/12345678</td>\n",
       "      <td>1660</td>\n",
       "      <td>2023-05-07T23:55:00.994000Z</td>\n",
       "      <td>forward</td>\n",
       "      <td>-</td>\n",
       "      <td>-</td>\n",
       "      <td>172.32.163.158:9090</td>\n",
       "      <td>200</td>\n",
       "      <td>-</td>\n",
       "      <td>-</td>\n",
       "    </tr>\n",
       "    <tr>\n",
       "      <th>2</th>\n",
       "      <td>h2</td>\n",
       "      <td>2023-05-07T23:55:01.523544Z</td>\n",
       "      <td>app/public-alb-123/321</td>\n",
       "      <td>141.155.142.218:57793</td>\n",
       "      <td>89.14.84.181:56673</td>\n",
       "      <td>0.001</td>\n",
       "      <td>0.229</td>\n",
       "      <td>0.0</td>\n",
       "      <td>200</td>\n",
       "      <td>200</td>\n",
       "      <td>...</td>\n",
       "      <td>arn:aws:acm:us-east-1:1337:certificate/12345678</td>\n",
       "      <td>1660</td>\n",
       "      <td>2023-05-07T23:55:01.293000Z</td>\n",
       "      <td>forward</td>\n",
       "      <td>-</td>\n",
       "      <td>-</td>\n",
       "      <td>172.32.201.214:9090</td>\n",
       "      <td>200</td>\n",
       "      <td>-</td>\n",
       "      <td>-</td>\n",
       "    </tr>\n",
       "    <tr>\n",
       "      <th>3</th>\n",
       "      <td>h2</td>\n",
       "      <td>2023-05-07T23:55:02.086095Z</td>\n",
       "      <td>app/public-alb-123/321</td>\n",
       "      <td>136.53.116.70:64371</td>\n",
       "      <td>89.14.84.181:56673</td>\n",
       "      <td>0.001</td>\n",
       "      <td>0.615</td>\n",
       "      <td>0.0</td>\n",
       "      <td>200</td>\n",
       "      <td>200</td>\n",
       "      <td>...</td>\n",
       "      <td>arn:aws:acm:us-east-1:1337:certificate/12345678</td>\n",
       "      <td>1660</td>\n",
       "      <td>2023-05-07T23:55:01.470000Z</td>\n",
       "      <td>forward</td>\n",
       "      <td>-</td>\n",
       "      <td>-</td>\n",
       "      <td>172.32.163.158:9090</td>\n",
       "      <td>200</td>\n",
       "      <td>-</td>\n",
       "      <td>-</td>\n",
       "    </tr>\n",
       "    <tr>\n",
       "      <th>4</th>\n",
       "      <td>h2</td>\n",
       "      <td>2023-05-07T23:55:03.317911Z</td>\n",
       "      <td>app/public-alb-123/321</td>\n",
       "      <td>107.116.79.117:53685</td>\n",
       "      <td>89.14.84.181:56673</td>\n",
       "      <td>0.001</td>\n",
       "      <td>0.193</td>\n",
       "      <td>0.0</td>\n",
       "      <td>200</td>\n",
       "      <td>200</td>\n",
       "      <td>...</td>\n",
       "      <td>arn:aws:acm:us-east-1:1337:certificate/12345678</td>\n",
       "      <td>1660</td>\n",
       "      <td>2023-05-07T23:55:03.123000Z</td>\n",
       "      <td>forward</td>\n",
       "      <td>-</td>\n",
       "      <td>-</td>\n",
       "      <td>172.32.201.214:9090</td>\n",
       "      <td>200</td>\n",
       "      <td>-</td>\n",
       "      <td>-</td>\n",
       "    </tr>\n",
       "  </tbody>\n",
       "</table>\n",
       "<p>5 rows × 29 columns</p>\n",
       "</div>"
      ],
      "text/plain": [
       "  type                         time                     elb  \\\n",
       "0   h2  2023-05-07T23:55:00.876785Z  app/public-alb-123/321   \n",
       "1   h2  2023-05-07T23:55:01.232898Z  app/public-alb-123/321   \n",
       "2   h2  2023-05-07T23:55:01.523544Z  app/public-alb-123/321   \n",
       "3   h2  2023-05-07T23:55:02.086095Z  app/public-alb-123/321   \n",
       "4   h2  2023-05-07T23:55:03.317911Z  app/public-alb-123/321   \n",
       "\n",
       "             client_port         target_port  request_processing_time  \\\n",
       "0      24.4.225.92:57628  89.14.84.181:56673                    0.001   \n",
       "1     68.3.176.126:53034  89.14.84.181:56673                    0.000   \n",
       "2  141.155.142.218:57793  89.14.84.181:56673                    0.001   \n",
       "3    136.53.116.70:64371  89.14.84.181:56673                    0.001   \n",
       "4   107.116.79.117:53685  89.14.84.181:56673                    0.001   \n",
       "\n",
       "   target_processing_time  response_processing_time  elb_status_code  \\\n",
       "0                   0.175                       0.0              200   \n",
       "1                   0.237                       0.0              200   \n",
       "2                   0.229                       0.0              200   \n",
       "3                   0.615                       0.0              200   \n",
       "4                   0.193                       0.0              200   \n",
       "\n",
       "  target_status_code  ...                                  chosen_cert_arn  \\\n",
       "0                200  ...  arn:aws:acm:us-east-1:1337:certificate/12345678   \n",
       "1                200  ...  arn:aws:acm:us-east-1:1337:certificate/12345678   \n",
       "2                200  ...  arn:aws:acm:us-east-1:1337:certificate/12345678   \n",
       "3                200  ...  arn:aws:acm:us-east-1:1337:certificate/12345678   \n",
       "4                200  ...  arn:aws:acm:us-east-1:1337:certificate/12345678   \n",
       "\n",
       "   matched_rule_priority        request_creation_time actions_executed  \\\n",
       "0                   1660  2023-05-07T23:55:00.701000Z          forward   \n",
       "1                   1660  2023-05-07T23:55:00.994000Z          forward   \n",
       "2                   1660  2023-05-07T23:55:01.293000Z          forward   \n",
       "3                   1660  2023-05-07T23:55:01.470000Z          forward   \n",
       "4                   1660  2023-05-07T23:55:03.123000Z          forward   \n",
       "\n",
       "  redirect_url error_reason     target_port_list target_status_code_list  \\\n",
       "0            -            -  172.32.201.214:9090                     200   \n",
       "1            -            -  172.32.163.158:9090                     200   \n",
       "2            -            -  172.32.201.214:9090                     200   \n",
       "3            -            -  172.32.163.158:9090                     200   \n",
       "4            -            -  172.32.201.214:9090                     200   \n",
       "\n",
       "  classification classification_reason  \n",
       "0              -                     -  \n",
       "1              -                     -  \n",
       "2              -                     -  \n",
       "3              -                     -  \n",
       "4              -                     -  \n",
       "\n",
       "[5 rows x 29 columns]"
      ]
     },
     "execution_count": 201,
     "metadata": {},
     "output_type": "execute_result"
    }
   ],
   "source": [
    "alb_logs_20230508_df = read_data(\"alb-logs-20230508.csv\")\n",
    "alb_logs_20230508_df.head()"
   ]
  },
  {
   "cell_type": "code",
   "execution_count": 202,
   "metadata": {},
   "outputs": [
    {
     "data": {
      "text/plain": [
       "(454844, 29)"
      ]
     },
     "execution_count": 202,
     "metadata": {},
     "output_type": "execute_result"
    }
   ],
   "source": [
    "alb_logs_20230508_df.shape"
   ]
  },
  {
   "cell_type": "code",
   "execution_count": 203,
   "metadata": {},
   "outputs": [
    {
     "name": "stdout",
     "output_type": "stream",
     "text": [
      "<class 'pandas.core.frame.DataFrame'>\n",
      "RangeIndex: 454844 entries, 0 to 454843\n",
      "Columns: 29 entries, type to classification_reason\n",
      "dtypes: float64(3), int64(4), object(22)\n",
      "memory usage: 785.0 MB\n"
     ]
    }
   ],
   "source": [
    "alb_logs_20230508_df.info(verbose=False, memory_usage=\"deep\")"
   ]
  },
  {
   "cell_type": "code",
   "execution_count": 204,
   "metadata": {},
   "outputs": [
    {
     "name": "stderr",
     "output_type": "stream",
     "text": [
      "/var/folders/bx/p1dzn6l159n6mrzq69ybb3340000gn/T/ipykernel_1149/2062051008.py:2: DtypeWarning: Columns (20) have mixed types. Specify dtype option on import or set low_memory=False.\n",
      "  csv_file_df = pd.read_csv(csv_file, sep=\" \", header=0)\n"
     ]
    },
    {
     "data": {
      "text/html": [
       "<div>\n",
       "<style scoped>\n",
       "    .dataframe tbody tr th:only-of-type {\n",
       "        vertical-align: middle;\n",
       "    }\n",
       "\n",
       "    .dataframe tbody tr th {\n",
       "        vertical-align: top;\n",
       "    }\n",
       "\n",
       "    .dataframe thead th {\n",
       "        text-align: right;\n",
       "    }\n",
       "</style>\n",
       "<table border=\"1\" class=\"dataframe\">\n",
       "  <thead>\n",
       "    <tr style=\"text-align: right;\">\n",
       "      <th></th>\n",
       "      <th>type</th>\n",
       "      <th>time</th>\n",
       "      <th>elb</th>\n",
       "      <th>client_port</th>\n",
       "      <th>target_port</th>\n",
       "      <th>request_processing_time</th>\n",
       "      <th>target_processing_time</th>\n",
       "      <th>response_processing_time</th>\n",
       "      <th>elb_status_code</th>\n",
       "      <th>target_status_code</th>\n",
       "      <th>...</th>\n",
       "      <th>chosen_cert_arn</th>\n",
       "      <th>matched_rule_priority</th>\n",
       "      <th>request_creation_time</th>\n",
       "      <th>actions_executed</th>\n",
       "      <th>redirect_url</th>\n",
       "      <th>error_reason</th>\n",
       "      <th>target_port_list</th>\n",
       "      <th>target_status_code_list</th>\n",
       "      <th>classification</th>\n",
       "      <th>classification_reason</th>\n",
       "    </tr>\n",
       "  </thead>\n",
       "  <tbody>\n",
       "    <tr>\n",
       "      <th>0</th>\n",
       "      <td>h2</td>\n",
       "      <td>2023-05-08T23:55:00.959261Z</td>\n",
       "      <td>app/public-alb-123/321</td>\n",
       "      <td>71.184.224.12:60316</td>\n",
       "      <td>188.56.153.103:35108</td>\n",
       "      <td>0.000</td>\n",
       "      <td>0.206</td>\n",
       "      <td>0.0</td>\n",
       "      <td>200</td>\n",
       "      <td>200</td>\n",
       "      <td>...</td>\n",
       "      <td>arn:aws:acm:us-east-1:1337:certificate/12345678</td>\n",
       "      <td>1660</td>\n",
       "      <td>2023-05-08T23:55:00.753000Z</td>\n",
       "      <td>forward</td>\n",
       "      <td>-</td>\n",
       "      <td>-</td>\n",
       "      <td>172.32.197.210:9090</td>\n",
       "      <td>200</td>\n",
       "      <td>-</td>\n",
       "      <td>-</td>\n",
       "    </tr>\n",
       "    <tr>\n",
       "      <th>1</th>\n",
       "      <td>h2</td>\n",
       "      <td>2023-05-08T23:55:01.869956Z</td>\n",
       "      <td>app/public-alb-123/321</td>\n",
       "      <td>104.171.82.236:57117</td>\n",
       "      <td>188.56.153.103:35108</td>\n",
       "      <td>0.000</td>\n",
       "      <td>0.214</td>\n",
       "      <td>0.0</td>\n",
       "      <td>200</td>\n",
       "      <td>200</td>\n",
       "      <td>...</td>\n",
       "      <td>arn:aws:acm:us-east-1:1337:certificate/12345678</td>\n",
       "      <td>1660</td>\n",
       "      <td>2023-05-08T23:55:01.655000Z</td>\n",
       "      <td>forward</td>\n",
       "      <td>-</td>\n",
       "      <td>-</td>\n",
       "      <td>172.32.197.210:9090</td>\n",
       "      <td>200</td>\n",
       "      <td>-</td>\n",
       "      <td>-</td>\n",
       "    </tr>\n",
       "    <tr>\n",
       "      <th>2</th>\n",
       "      <td>h2</td>\n",
       "      <td>2023-05-08T23:55:02.385119Z</td>\n",
       "      <td>app/public-alb-123/321</td>\n",
       "      <td>24.59.91.45:57993</td>\n",
       "      <td>188.56.153.103:35108</td>\n",
       "      <td>0.001</td>\n",
       "      <td>0.202</td>\n",
       "      <td>0.0</td>\n",
       "      <td>200</td>\n",
       "      <td>200</td>\n",
       "      <td>...</td>\n",
       "      <td>arn:aws:acm:us-east-1:1337:certificate/12345678</td>\n",
       "      <td>1660</td>\n",
       "      <td>2023-05-08T23:55:02.182000Z</td>\n",
       "      <td>forward</td>\n",
       "      <td>-</td>\n",
       "      <td>-</td>\n",
       "      <td>172.32.174.122:9090</td>\n",
       "      <td>200</td>\n",
       "      <td>-</td>\n",
       "      <td>-</td>\n",
       "    </tr>\n",
       "    <tr>\n",
       "      <th>3</th>\n",
       "      <td>h2</td>\n",
       "      <td>2023-05-08T23:55:02.562282Z</td>\n",
       "      <td>app/public-alb-123/321</td>\n",
       "      <td>137.186.167.234:65231</td>\n",
       "      <td>188.56.153.103:35108</td>\n",
       "      <td>0.000</td>\n",
       "      <td>0.200</td>\n",
       "      <td>0.0</td>\n",
       "      <td>200</td>\n",
       "      <td>200</td>\n",
       "      <td>...</td>\n",
       "      <td>arn:aws:acm:us-east-1:1337:certificate/12345678</td>\n",
       "      <td>1660</td>\n",
       "      <td>2023-05-08T23:55:02.362000Z</td>\n",
       "      <td>forward</td>\n",
       "      <td>-</td>\n",
       "      <td>-</td>\n",
       "      <td>172.32.197.210:9090</td>\n",
       "      <td>200</td>\n",
       "      <td>-</td>\n",
       "      <td>-</td>\n",
       "    </tr>\n",
       "    <tr>\n",
       "      <th>4</th>\n",
       "      <td>h2</td>\n",
       "      <td>2023-05-08T23:55:02.442619Z</td>\n",
       "      <td>app/public-alb-123/321</td>\n",
       "      <td>65.24.86.212:63212</td>\n",
       "      <td>188.56.153.103:35108</td>\n",
       "      <td>0.000</td>\n",
       "      <td>0.426</td>\n",
       "      <td>0.0</td>\n",
       "      <td>200</td>\n",
       "      <td>200</td>\n",
       "      <td>...</td>\n",
       "      <td>arn:aws:acm:us-east-1:1337:certificate/12345678</td>\n",
       "      <td>1660</td>\n",
       "      <td>2023-05-08T23:55:02.016000Z</td>\n",
       "      <td>forward</td>\n",
       "      <td>-</td>\n",
       "      <td>-</td>\n",
       "      <td>172.32.213.203:9090</td>\n",
       "      <td>200</td>\n",
       "      <td>-</td>\n",
       "      <td>-</td>\n",
       "    </tr>\n",
       "  </tbody>\n",
       "</table>\n",
       "<p>5 rows × 29 columns</p>\n",
       "</div>"
      ],
      "text/plain": [
       "  type                         time                     elb  \\\n",
       "0   h2  2023-05-08T23:55:00.959261Z  app/public-alb-123/321   \n",
       "1   h2  2023-05-08T23:55:01.869956Z  app/public-alb-123/321   \n",
       "2   h2  2023-05-08T23:55:02.385119Z  app/public-alb-123/321   \n",
       "3   h2  2023-05-08T23:55:02.562282Z  app/public-alb-123/321   \n",
       "4   h2  2023-05-08T23:55:02.442619Z  app/public-alb-123/321   \n",
       "\n",
       "             client_port           target_port  request_processing_time  \\\n",
       "0    71.184.224.12:60316  188.56.153.103:35108                    0.000   \n",
       "1   104.171.82.236:57117  188.56.153.103:35108                    0.000   \n",
       "2      24.59.91.45:57993  188.56.153.103:35108                    0.001   \n",
       "3  137.186.167.234:65231  188.56.153.103:35108                    0.000   \n",
       "4     65.24.86.212:63212  188.56.153.103:35108                    0.000   \n",
       "\n",
       "   target_processing_time  response_processing_time  elb_status_code  \\\n",
       "0                   0.206                       0.0              200   \n",
       "1                   0.214                       0.0              200   \n",
       "2                   0.202                       0.0              200   \n",
       "3                   0.200                       0.0              200   \n",
       "4                   0.426                       0.0              200   \n",
       "\n",
       "  target_status_code  ...                                  chosen_cert_arn  \\\n",
       "0                200  ...  arn:aws:acm:us-east-1:1337:certificate/12345678   \n",
       "1                200  ...  arn:aws:acm:us-east-1:1337:certificate/12345678   \n",
       "2                200  ...  arn:aws:acm:us-east-1:1337:certificate/12345678   \n",
       "3                200  ...  arn:aws:acm:us-east-1:1337:certificate/12345678   \n",
       "4                200  ...  arn:aws:acm:us-east-1:1337:certificate/12345678   \n",
       "\n",
       "   matched_rule_priority        request_creation_time actions_executed  \\\n",
       "0                   1660  2023-05-08T23:55:00.753000Z          forward   \n",
       "1                   1660  2023-05-08T23:55:01.655000Z          forward   \n",
       "2                   1660  2023-05-08T23:55:02.182000Z          forward   \n",
       "3                   1660  2023-05-08T23:55:02.362000Z          forward   \n",
       "4                   1660  2023-05-08T23:55:02.016000Z          forward   \n",
       "\n",
       "  redirect_url error_reason     target_port_list target_status_code_list  \\\n",
       "0            -            -  172.32.197.210:9090                     200   \n",
       "1            -            -  172.32.197.210:9090                     200   \n",
       "2            -            -  172.32.174.122:9090                     200   \n",
       "3            -            -  172.32.197.210:9090                     200   \n",
       "4            -            -  172.32.213.203:9090                     200   \n",
       "\n",
       "  classification classification_reason  \n",
       "0              -                     -  \n",
       "1              -                     -  \n",
       "2              -                     -  \n",
       "3              -                     -  \n",
       "4              -                     -  \n",
       "\n",
       "[5 rows x 29 columns]"
      ]
     },
     "execution_count": 204,
     "metadata": {},
     "output_type": "execute_result"
    }
   ],
   "source": [
    "alb_logs_20230509_df = read_data(\"alb-logs-20230509.csv\")\n",
    "alb_logs_20230509_df.head()"
   ]
  },
  {
   "cell_type": "code",
   "execution_count": 206,
   "metadata": {},
   "outputs": [
    {
     "data": {
      "text/plain": [
       "(468928, 29)"
      ]
     },
     "execution_count": 206,
     "metadata": {},
     "output_type": "execute_result"
    }
   ],
   "source": [
    "alb_logs_20230509_df.shape"
   ]
  },
  {
   "cell_type": "code",
   "execution_count": 207,
   "metadata": {},
   "outputs": [
    {
     "name": "stdout",
     "output_type": "stream",
     "text": [
      "<class 'pandas.core.frame.DataFrame'>\n",
      "RangeIndex: 468928 entries, 0 to 468927\n",
      "Columns: 29 entries, type to classification_reason\n",
      "dtypes: float64(3), int64(3), object(23)\n",
      "memory usage: 825.2 MB\n"
     ]
    }
   ],
   "source": [
    "alb_logs_20230509_df.info(verbose=False, memory_usage=\"deep\")"
   ]
  },
  {
   "cell_type": "markdown",
   "metadata": {},
   "source": [
    "## Data preprocessing"
   ]
  },
  {
   "cell_type": "markdown",
   "metadata": {},
   "source": [
    "## alb_logs_20230503"
   ]
  },
  {
   "cell_type": "code",
   "execution_count": 208,
   "metadata": {},
   "outputs": [
    {
     "data": {
      "text/plain": [
       "0   2023-05-02 23:55:00.853383\n",
       "1   2023-05-02 23:55:00.909122\n",
       "2   2023-05-02 23:55:01.979531\n",
       "3   2023-05-02 23:55:02.052758\n",
       "4   2023-05-02 23:55:02.551542\n",
       "Name: time, dtype: datetime64[ns]"
      ]
     },
     "execution_count": 208,
     "metadata": {},
     "output_type": "execute_result"
    }
   ],
   "source": [
    "alb_logs_20230503_df.time = pd.to_datetime(alb_logs_20230503_df.time).dt.tz_convert(None)\n",
    "alb_logs_20230503_df.time.head()"
   ]
  },
  {
   "cell_type": "code",
   "execution_count": 209,
   "metadata": {},
   "outputs": [
    {
     "data": {
      "text/plain": [
       "classification_reason    5\n",
       "dtype: int64"
      ]
     },
     "execution_count": 209,
     "metadata": {},
     "output_type": "execute_result"
    }
   ],
   "source": [
    "alb_logs_20230503_df_nans = alb_logs_20230503_df.isna().sum()\n",
    "alb_logs_20230503_df_nans[alb_logs_20230503_df_nans > 0]"
   ]
  },
  {
   "cell_type": "code",
   "execution_count": 210,
   "metadata": {},
   "outputs": [
    {
     "data": {
      "text/plain": [
       "0    -\n",
       "1    -\n",
       "2    -\n",
       "3    -\n",
       "4    -\n",
       "Name: classification_reason, dtype: object"
      ]
     },
     "execution_count": 210,
     "metadata": {},
     "output_type": "execute_result"
    }
   ],
   "source": [
    "alb_logs_20230503_df.classification_reason.head()"
   ]
  },
  {
   "cell_type": "code",
   "execution_count": 211,
   "metadata": {},
   "outputs": [
    {
     "data": {
      "text/plain": [
       "50716     NaN\n",
       "198864    NaN\n",
       "200203    NaN\n",
       "272596    NaN\n",
       "325480    NaN\n",
       "Name: classification_reason, dtype: object"
      ]
     },
     "execution_count": 211,
     "metadata": {},
     "output_type": "execute_result"
    }
   ],
   "source": [
    "alb_logs_20230503_df.classification_reason[alb_logs_20230503_df.classification_reason != '-']"
   ]
  },
  {
   "cell_type": "code",
   "execution_count": 212,
   "metadata": {},
   "outputs": [],
   "source": [
    "alb_logs_20230503_df.drop(labels=[\"classification_reason\"], axis=1, inplace=True)"
   ]
  },
  {
   "cell_type": "code",
   "execution_count": 245,
   "metadata": {},
   "outputs": [],
   "source": [
    "def drop_zero_variance_columns(df):\n",
    "    for column in df.columns:\n",
    "        if len(np.unique(column, return_counts=True)) == 1:\n",
    "            df.drop(column, axis=1, inplace=True)"
   ]
  },
  {
   "cell_type": "code",
   "execution_count": 246,
   "metadata": {},
   "outputs": [
    {
     "data": {
      "text/plain": [
       "(434227, 28)"
      ]
     },
     "execution_count": 246,
     "metadata": {},
     "output_type": "execute_result"
    }
   ],
   "source": [
    "drop_zero_variance_columns(alb_logs_20230503_df)\n",
    "alb_logs_20230503_df.shape"
   ]
  },
  {
   "cell_type": "markdown",
   "metadata": {},
   "source": [
    "## alb_logs_20230504"
   ]
  },
  {
   "cell_type": "code",
   "execution_count": 215,
   "metadata": {},
   "outputs": [
    {
     "data": {
      "text/plain": [
       "0   2023-05-03 23:55:00.936341\n",
       "1   2023-05-03 23:55:00.980508\n",
       "2   2023-05-03 23:55:01.031178\n",
       "3   2023-05-03 23:55:01.230494\n",
       "4   2023-05-03 23:55:01.504385\n",
       "Name: time, dtype: datetime64[ns]"
      ]
     },
     "execution_count": 215,
     "metadata": {},
     "output_type": "execute_result"
    }
   ],
   "source": [
    "alb_logs_20230504_df.time = pd.to_datetime(alb_logs_20230504_df.time).dt.tz_convert(None)\n",
    "alb_logs_20230504_df.time.head()"
   ]
  },
  {
   "cell_type": "code",
   "execution_count": 216,
   "metadata": {},
   "outputs": [
    {
     "data": {
      "text/plain": [
       "classification_reason    1\n",
       "dtype: int64"
      ]
     },
     "execution_count": 216,
     "metadata": {},
     "output_type": "execute_result"
    }
   ],
   "source": [
    "alb_logs_20230504_df_nans = alb_logs_20230504_df.isna().sum()\n",
    "alb_logs_20230504_df_nans[alb_logs_20230504_df_nans > 0]"
   ]
  },
  {
   "cell_type": "code",
   "execution_count": 217,
   "metadata": {},
   "outputs": [
    {
     "data": {
      "text/plain": [
       "0    -\n",
       "1    -\n",
       "2    -\n",
       "3    -\n",
       "4    -\n",
       "Name: classification_reason, dtype: object"
      ]
     },
     "execution_count": 217,
     "metadata": {},
     "output_type": "execute_result"
    }
   ],
   "source": [
    "alb_logs_20230504_df.classification_reason.head()"
   ]
  },
  {
   "cell_type": "code",
   "execution_count": 218,
   "metadata": {},
   "outputs": [
    {
     "data": {
      "text/plain": [
       "287932    NaN\n",
       "Name: classification_reason, dtype: object"
      ]
     },
     "execution_count": 218,
     "metadata": {},
     "output_type": "execute_result"
    }
   ],
   "source": [
    "alb_logs_20230504_df.classification_reason[alb_logs_20230504_df.classification_reason != '-']"
   ]
  },
  {
   "cell_type": "code",
   "execution_count": 219,
   "metadata": {},
   "outputs": [],
   "source": [
    "alb_logs_20230504_df.drop(labels=[\"classification_reason\"], axis=1, inplace=True)"
   ]
  },
  {
   "cell_type": "code",
   "execution_count": 247,
   "metadata": {},
   "outputs": [
    {
     "data": {
      "text/plain": [
       "(430616, 28)"
      ]
     },
     "execution_count": 247,
     "metadata": {},
     "output_type": "execute_result"
    }
   ],
   "source": [
    "drop_zero_variance_columns(alb_logs_20230504_df)\n",
    "alb_logs_20230504_df.shape"
   ]
  },
  {
   "cell_type": "markdown",
   "metadata": {},
   "source": [
    "## alb_logs_20230505"
   ]
  },
  {
   "cell_type": "code",
   "execution_count": 221,
   "metadata": {},
   "outputs": [
    {
     "data": {
      "text/plain": [
       "0   2023-05-04 23:55:01.395623\n",
       "1   2023-05-04 23:55:02.192334\n",
       "2   2023-05-04 23:55:02.937865\n",
       "3   2023-05-04 23:55:03.092185\n",
       "4   2023-05-04 23:55:03.147868\n",
       "Name: time, dtype: datetime64[ns]"
      ]
     },
     "execution_count": 221,
     "metadata": {},
     "output_type": "execute_result"
    }
   ],
   "source": [
    "alb_logs_20230505_df.time = pd.to_datetime(alb_logs_20230505_df.time).dt.tz_convert(None)\n",
    "alb_logs_20230505_df.time.head()"
   ]
  },
  {
   "cell_type": "code",
   "execution_count": 222,
   "metadata": {},
   "outputs": [
    {
     "data": {
      "text/plain": [
       "classification_reason    4\n",
       "dtype: int64"
      ]
     },
     "execution_count": 222,
     "metadata": {},
     "output_type": "execute_result"
    }
   ],
   "source": [
    "alb_logs_20230505_df_nans = alb_logs_20230505_df.isna().sum()\n",
    "alb_logs_20230505_df_nans[alb_logs_20230505_df_nans > 0]"
   ]
  },
  {
   "cell_type": "code",
   "execution_count": 223,
   "metadata": {},
   "outputs": [
    {
     "data": {
      "text/plain": [
       "0    -\n",
       "1    -\n",
       "2    -\n",
       "3    -\n",
       "4    -\n",
       "Name: classification_reason, dtype: object"
      ]
     },
     "execution_count": 223,
     "metadata": {},
     "output_type": "execute_result"
    }
   ],
   "source": [
    "alb_logs_20230505_df.classification_reason.head()"
   ]
  },
  {
   "cell_type": "code",
   "execution_count": 224,
   "metadata": {},
   "outputs": [
    {
     "data": {
      "text/plain": [
       "109920                                NaN\n",
       "116993                                NaN\n",
       "121921                                NaN\n",
       "277064                                NaN\n",
       "312239    UndefinedContentLengthSemantics\n",
       "Name: classification_reason, dtype: object"
      ]
     },
     "execution_count": 224,
     "metadata": {},
     "output_type": "execute_result"
    }
   ],
   "source": [
    "alb_logs_20230505_df.classification_reason[alb_logs_20230505_df.classification_reason != '-']"
   ]
  },
  {
   "cell_type": "code",
   "execution_count": 225,
   "metadata": {},
   "outputs": [],
   "source": [
    "alb_logs_20230505_df.drop(labels=[\"classification_reason\"], axis=1, inplace=True)"
   ]
  },
  {
   "cell_type": "code",
   "execution_count": 248,
   "metadata": {},
   "outputs": [
    {
     "data": {
      "text/plain": [
       "(408711, 28)"
      ]
     },
     "execution_count": 248,
     "metadata": {},
     "output_type": "execute_result"
    }
   ],
   "source": [
    "drop_zero_variance_columns(alb_logs_20230505_df)\n",
    "alb_logs_20230505_df.shape"
   ]
  },
  {
   "cell_type": "markdown",
   "metadata": {},
   "source": [
    "## alb_logs_20230506"
   ]
  },
  {
   "cell_type": "code",
   "execution_count": 227,
   "metadata": {},
   "outputs": [
    {
     "data": {
      "text/plain": [
       "0   2023-05-05 23:55:01.722333\n",
       "1   2023-05-05 23:55:01.272426\n",
       "2   2023-05-05 23:55:02.580559\n",
       "3   2023-05-05 23:55:02.073443\n",
       "4   2023-05-05 23:55:02.190610\n",
       "Name: time, dtype: datetime64[ns]"
      ]
     },
     "execution_count": 227,
     "metadata": {},
     "output_type": "execute_result"
    }
   ],
   "source": [
    "alb_logs_20230506_df.time = pd.to_datetime(alb_logs_20230506_df.time).dt.tz_convert(None)\n",
    "alb_logs_20230506_df.time.head()"
   ]
  },
  {
   "cell_type": "code",
   "execution_count": 228,
   "metadata": {},
   "outputs": [
    {
     "data": {
      "text/plain": [
       "Series([], dtype: int64)"
      ]
     },
     "execution_count": 228,
     "metadata": {},
     "output_type": "execute_result"
    }
   ],
   "source": [
    "alb_logs_20230506_df_nans = alb_logs_20230506_df.isna().sum()\n",
    "alb_logs_20230506_df_nans[alb_logs_20230506_df_nans > 0]"
   ]
  },
  {
   "cell_type": "code",
   "execution_count": 249,
   "metadata": {},
   "outputs": [
    {
     "data": {
      "text/plain": [
       "(406055, 29)"
      ]
     },
     "execution_count": 249,
     "metadata": {},
     "output_type": "execute_result"
    }
   ],
   "source": [
    "drop_zero_variance_columns(alb_logs_20230506_df)\n",
    "alb_logs_20230506_df.shape"
   ]
  },
  {
   "cell_type": "markdown",
   "metadata": {},
   "source": [
    "## alb_logs_20230507"
   ]
  },
  {
   "cell_type": "code",
   "execution_count": 166,
   "metadata": {},
   "outputs": [
    {
     "data": {
      "text/plain": [
       "0   2023-05-06 23:55:00.967687\n",
       "1   2023-05-06 23:55:00.673873\n",
       "2   2023-05-06 23:55:02.529489\n",
       "3   2023-05-06 23:55:02.947010\n",
       "4   2023-05-06 23:55:03.391870\n",
       "Name: time, dtype: datetime64[ns]"
      ]
     },
     "execution_count": 166,
     "metadata": {},
     "output_type": "execute_result"
    }
   ],
   "source": [
    "alb_logs_20230507_df.time = pd.to_datetime(alb_logs_20230507_df.time).dt.tz_convert(None)\n",
    "alb_logs_20230507_df.time.head()"
   ]
  },
  {
   "cell_type": "code",
   "execution_count": 167,
   "metadata": {},
   "outputs": [
    {
     "data": {
      "text/plain": [
       "Series([], dtype: int64)"
      ]
     },
     "execution_count": 167,
     "metadata": {},
     "output_type": "execute_result"
    }
   ],
   "source": [
    "alb_logs_20230507_df_nans = alb_logs_20230507_df.isna().sum()\n",
    "alb_logs_20230507_df_nans[alb_logs_20230507_df_nans > 0]"
   ]
  },
  {
   "cell_type": "code",
   "execution_count": 250,
   "metadata": {},
   "outputs": [
    {
     "data": {
      "text/plain": [
       "(407912, 29)"
      ]
     },
     "execution_count": 250,
     "metadata": {},
     "output_type": "execute_result"
    }
   ],
   "source": [
    "drop_zero_variance_columns(alb_logs_20230507_df)\n",
    "alb_logs_20230507_df.shape"
   ]
  },
  {
   "cell_type": "markdown",
   "metadata": {},
   "source": [
    "## alb_logs_20230508"
   ]
  },
  {
   "cell_type": "code",
   "execution_count": 168,
   "metadata": {},
   "outputs": [
    {
     "data": {
      "text/plain": [
       "0   2023-05-07 23:55:00.876785\n",
       "1   2023-05-07 23:55:01.232898\n",
       "2   2023-05-07 23:55:01.523544\n",
       "3   2023-05-07 23:55:02.086095\n",
       "4   2023-05-07 23:55:03.317911\n",
       "Name: time, dtype: datetime64[ns]"
      ]
     },
     "execution_count": 168,
     "metadata": {},
     "output_type": "execute_result"
    }
   ],
   "source": [
    "alb_logs_20230508_df.time = pd.to_datetime(alb_logs_20230508_df.time).dt.tz_convert(None)\n",
    "alb_logs_20230508_df.time.head()"
   ]
  },
  {
   "cell_type": "code",
   "execution_count": 169,
   "metadata": {},
   "outputs": [
    {
     "data": {
      "text/plain": [
       "Series([], dtype: int64)"
      ]
     },
     "execution_count": 169,
     "metadata": {},
     "output_type": "execute_result"
    }
   ],
   "source": [
    "alb_logs_20230508_df_nans = alb_logs_20230508_df.isna().sum()\n",
    "alb_logs_20230508_df_nans[alb_logs_20230508_df_nans > 0]"
   ]
  },
  {
   "cell_type": "code",
   "execution_count": 251,
   "metadata": {},
   "outputs": [
    {
     "data": {
      "text/plain": [
       "(454844, 29)"
      ]
     },
     "execution_count": 251,
     "metadata": {},
     "output_type": "execute_result"
    }
   ],
   "source": [
    "drop_zero_variance_columns(alb_logs_20230508_df)\n",
    "alb_logs_20230508_df.shape"
   ]
  },
  {
   "cell_type": "markdown",
   "metadata": {},
   "source": [
    "## alb_logs_20230509"
   ]
  },
  {
   "cell_type": "code",
   "execution_count": 170,
   "metadata": {},
   "outputs": [
    {
     "data": {
      "text/plain": [
       "0   2023-05-08 23:55:00.959261\n",
       "1   2023-05-08 23:55:01.869956\n",
       "2   2023-05-08 23:55:02.385119\n",
       "3   2023-05-08 23:55:02.562282\n",
       "4   2023-05-08 23:55:02.442619\n",
       "Name: time, dtype: datetime64[ns]"
      ]
     },
     "execution_count": 170,
     "metadata": {},
     "output_type": "execute_result"
    }
   ],
   "source": [
    "alb_logs_20230509_df.time = pd.to_datetime(alb_logs_20230509_df.time).dt.tz_convert(None)\n",
    "alb_logs_20230509_df.time.head()"
   ]
  },
  {
   "cell_type": "code",
   "execution_count": 171,
   "metadata": {},
   "outputs": [
    {
     "data": {
      "text/plain": [
       "classification_reason    19\n",
       "dtype: int64"
      ]
     },
     "execution_count": 171,
     "metadata": {},
     "output_type": "execute_result"
    }
   ],
   "source": [
    "alb_logs_20230509_df_nans = alb_logs_20230509_df.isna().sum()\n",
    "alb_logs_20230509_df_nans[alb_logs_20230509_df_nans > 0]"
   ]
  },
  {
   "cell_type": "code",
   "execution_count": 172,
   "metadata": {},
   "outputs": [
    {
     "data": {
      "text/plain": [
       "0    -\n",
       "1    -\n",
       "2    -\n",
       "3    -\n",
       "4    -\n",
       "Name: classification_reason, dtype: object"
      ]
     },
     "execution_count": 172,
     "metadata": {},
     "output_type": "execute_result"
    }
   ],
   "source": [
    "alb_logs_20230509_df.classification_reason.head()"
   ]
  },
  {
   "cell_type": "code",
   "execution_count": 173,
   "metadata": {},
   "outputs": [
    {
     "data": {
      "text/plain": [
       "404516    NaN\n",
       "404518    NaN\n",
       "405190    NaN\n",
       "405203    NaN\n",
       "405204    NaN\n",
       "405223    NaN\n",
       "406361    NaN\n",
       "406409    NaN\n",
       "406448    NaN\n",
       "406453    NaN\n",
       "406458    NaN\n",
       "406461    NaN\n",
       "406467    NaN\n",
       "406475    NaN\n",
       "406476    NaN\n",
       "406488    NaN\n",
       "406497    NaN\n",
       "406503    NaN\n",
       "406511    NaN\n",
       "Name: classification_reason, dtype: object"
      ]
     },
     "execution_count": 173,
     "metadata": {},
     "output_type": "execute_result"
    }
   ],
   "source": [
    "alb_logs_20230509_df.classification_reason[alb_logs_20230509_df.classification_reason != '-']"
   ]
  },
  {
   "cell_type": "code",
   "execution_count": 174,
   "metadata": {},
   "outputs": [],
   "source": [
    "alb_logs_20230509_df.drop(labels=[\"classification_reason\"], axis=1, inplace=True)"
   ]
  },
  {
   "cell_type": "code",
   "execution_count": 252,
   "metadata": {},
   "outputs": [
    {
     "data": {
      "text/plain": [
       "(468928, 29)"
      ]
     },
     "execution_count": 252,
     "metadata": {},
     "output_type": "execute_result"
    }
   ],
   "source": [
    "drop_zero_variance_columns(alb_logs_20230509_df)\n",
    "alb_logs_20230509_df.shape"
   ]
  },
  {
   "cell_type": "markdown",
   "metadata": {},
   "source": [
    "# Columns' values distributions"
   ]
  },
  {
   "cell_type": "markdown",
   "metadata": {},
   "source": [
    "## alb_logs_20230503"
   ]
  }
 ],
 "metadata": {
  "kernelspec": {
   "display_name": "Python 3",
   "language": "python",
   "name": "python3"
  },
  "language_info": {
   "codemirror_mode": {
    "name": "ipython",
    "version": 3
   },
   "file_extension": ".py",
   "mimetype": "text/x-python",
   "name": "python",
   "nbconvert_exporter": "python",
   "pygments_lexer": "ipython3",
   "version": "3.10.10"
  },
  "orig_nbformat": 4
 },
 "nbformat": 4,
 "nbformat_minor": 2
}
