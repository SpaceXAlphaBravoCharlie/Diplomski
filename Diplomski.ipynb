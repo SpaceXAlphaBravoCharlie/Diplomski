{
  "cells": [
    {
      "cell_type": "code",
      "execution_count": 1,
      "metadata": {
        "id": "9h-zXtLIqSWN"
      },
      "outputs": [],
      "source": [
        "import pandas as pd\n",
        "import numpy as np\n",
        "import matplotlib.pyplot as plt"
      ]
    },
    {
      "cell_type": "markdown",
      "metadata": {
        "id": "8TJIFKeYqSWO"
      },
      "source": [
        "# Loading data"
      ]
    },
    {
      "cell_type": "code",
      "execution_count": 2,
      "metadata": {
        "id": "mu_ITt12qSWP",
        "outputId": "d3484190-42e0-4ff1-ec37-75741bee64e2"
      },
      "outputs": [
        {
          "name": "stdout",
          "output_type": "stream",
          "text": [
            "/Users/markojankuleski/Documents/Diplomski/alb-logs\n"
          ]
        }
      ],
      "source": [
        "%cd ./alb-logs"
      ]
    },
    {
      "cell_type": "code",
      "execution_count": 3,
      "metadata": {
        "id": "fB-V69QeqSWQ"
      },
      "outputs": [],
      "source": [
        "def read_data(csv_file):\n",
        "    csv_file_df = pd.read_csv(csv_file, sep=\" \", header=0)\n",
        "    return csv_file_df"
      ]
    },
    {
      "cell_type": "code",
      "execution_count": 4,
      "metadata": {
        "id": "Lbz96Q6_qSWR",
        "outputId": "b639f9d1-a759-418d-a234-07ff05cd7be2"
      },
      "outputs": [
        {
          "data": {
            "text/html": [
              "<div>\n",
              "<style scoped>\n",
              "    .dataframe tbody tr th:only-of-type {\n",
              "        vertical-align: middle;\n",
              "    }\n",
              "\n",
              "    .dataframe tbody tr th {\n",
              "        vertical-align: top;\n",
              "    }\n",
              "\n",
              "    .dataframe thead th {\n",
              "        text-align: right;\n",
              "    }\n",
              "</style>\n",
              "<table border=\"1\" class=\"dataframe\">\n",
              "  <thead>\n",
              "    <tr style=\"text-align: right;\">\n",
              "      <th></th>\n",
              "      <th>type</th>\n",
              "      <th>time</th>\n",
              "      <th>elb</th>\n",
              "      <th>client_port</th>\n",
              "      <th>target_port</th>\n",
              "      <th>request_processing_time</th>\n",
              "      <th>target_processing_time</th>\n",
              "      <th>response_processing_time</th>\n",
              "      <th>elb_status_code</th>\n",
              "      <th>target_status_code</th>\n",
              "      <th>...</th>\n",
              "      <th>chosen_cert_arn</th>\n",
              "      <th>matched_rule_priority</th>\n",
              "      <th>request_creation_time</th>\n",
              "      <th>actions_executed</th>\n",
              "      <th>redirect_url</th>\n",
              "      <th>error_reason</th>\n",
              "      <th>target_port_list</th>\n",
              "      <th>target_status_code_list</th>\n",
              "      <th>classification</th>\n",
              "      <th>classification_reason</th>\n",
              "    </tr>\n",
              "  </thead>\n",
              "  <tbody>\n",
              "    <tr>\n",
              "      <th>0</th>\n",
              "      <td>h2</td>\n",
              "      <td>2023-05-02T23:55:00.853383Z</td>\n",
              "      <td>app/public-alb-123/321</td>\n",
              "      <td>107.122.173.65:17237</td>\n",
              "      <td>190.61.210.122:64070</td>\n",
              "      <td>0.000</td>\n",
              "      <td>0.143</td>\n",
              "      <td>0.0</td>\n",
              "      <td>200</td>\n",
              "      <td>200</td>\n",
              "      <td>...</td>\n",
              "      <td>arn:aws:acm:us-east-1:1337:certificate/12345678</td>\n",
              "      <td>1660</td>\n",
              "      <td>2023-05-02T23:55:00.709000Z</td>\n",
              "      <td>forward</td>\n",
              "      <td>-</td>\n",
              "      <td>-</td>\n",
              "      <td>172.32.152.128:9090</td>\n",
              "      <td>200</td>\n",
              "      <td>-</td>\n",
              "      <td>-</td>\n",
              "    </tr>\n",
              "    <tr>\n",
              "      <th>1</th>\n",
              "      <td>h2</td>\n",
              "      <td>2023-05-02T23:55:00.909122Z</td>\n",
              "      <td>app/public-alb-123/321</td>\n",
              "      <td>47.4.248.170:52851</td>\n",
              "      <td>190.61.210.122:64070</td>\n",
              "      <td>0.000</td>\n",
              "      <td>0.191</td>\n",
              "      <td>0.0</td>\n",
              "      <td>200</td>\n",
              "      <td>200</td>\n",
              "      <td>...</td>\n",
              "      <td>arn:aws:acm:us-east-1:1337:certificate/12345678</td>\n",
              "      <td>1660</td>\n",
              "      <td>2023-05-02T23:55:00.717000Z</td>\n",
              "      <td>forward</td>\n",
              "      <td>-</td>\n",
              "      <td>-</td>\n",
              "      <td>172.32.152.128:9090</td>\n",
              "      <td>200</td>\n",
              "      <td>-</td>\n",
              "      <td>-</td>\n",
              "    </tr>\n",
              "    <tr>\n",
              "      <th>2</th>\n",
              "      <td>h2</td>\n",
              "      <td>2023-05-02T23:55:01.979531Z</td>\n",
              "      <td>app/public-alb-123/321</td>\n",
              "      <td>98.216.85.196:59207</td>\n",
              "      <td>190.61.210.122:64070</td>\n",
              "      <td>0.001</td>\n",
              "      <td>0.181</td>\n",
              "      <td>0.0</td>\n",
              "      <td>200</td>\n",
              "      <td>200</td>\n",
              "      <td>...</td>\n",
              "      <td>arn:aws:acm:us-east-1:1337:certificate/12345678</td>\n",
              "      <td>1660</td>\n",
              "      <td>2023-05-02T23:55:01.797000Z</td>\n",
              "      <td>forward</td>\n",
              "      <td>-</td>\n",
              "      <td>-</td>\n",
              "      <td>172.32.192.244:9090</td>\n",
              "      <td>200</td>\n",
              "      <td>-</td>\n",
              "      <td>-</td>\n",
              "    </tr>\n",
              "    <tr>\n",
              "      <th>3</th>\n",
              "      <td>h2</td>\n",
              "      <td>2023-05-02T23:55:02.052758Z</td>\n",
              "      <td>app/public-alb-123/321</td>\n",
              "      <td>107.209.189.224:62063</td>\n",
              "      <td>190.61.210.122:64070</td>\n",
              "      <td>0.000</td>\n",
              "      <td>0.198</td>\n",
              "      <td>0.0</td>\n",
              "      <td>200</td>\n",
              "      <td>200</td>\n",
              "      <td>...</td>\n",
              "      <td>arn:aws:acm:us-east-1:1337:certificate/12345678</td>\n",
              "      <td>1660</td>\n",
              "      <td>2023-05-02T23:55:01.853000Z</td>\n",
              "      <td>forward</td>\n",
              "      <td>-</td>\n",
              "      <td>-</td>\n",
              "      <td>172.32.152.128:9090</td>\n",
              "      <td>200</td>\n",
              "      <td>-</td>\n",
              "      <td>-</td>\n",
              "    </tr>\n",
              "    <tr>\n",
              "      <th>4</th>\n",
              "      <td>h2</td>\n",
              "      <td>2023-05-02T23:55:02.551542Z</td>\n",
              "      <td>app/public-alb-123/321</td>\n",
              "      <td>174.194.195.193:9335</td>\n",
              "      <td>190.61.210.122:64070</td>\n",
              "      <td>0.001</td>\n",
              "      <td>0.212</td>\n",
              "      <td>0.0</td>\n",
              "      <td>200</td>\n",
              "      <td>200</td>\n",
              "      <td>...</td>\n",
              "      <td>arn:aws:acm:us-east-1:1337:certificate/12345678</td>\n",
              "      <td>1660</td>\n",
              "      <td>2023-05-02T23:55:02.338000Z</td>\n",
              "      <td>forward</td>\n",
              "      <td>-</td>\n",
              "      <td>-</td>\n",
              "      <td>172.32.192.244:9090</td>\n",
              "      <td>200</td>\n",
              "      <td>-</td>\n",
              "      <td>-</td>\n",
              "    </tr>\n",
              "  </tbody>\n",
              "</table>\n",
              "<p>5 rows × 29 columns</p>\n",
              "</div>"
            ],
            "text/plain": [
              "  type                         time                     elb  \\\n",
              "0   h2  2023-05-02T23:55:00.853383Z  app/public-alb-123/321   \n",
              "1   h2  2023-05-02T23:55:00.909122Z  app/public-alb-123/321   \n",
              "2   h2  2023-05-02T23:55:01.979531Z  app/public-alb-123/321   \n",
              "3   h2  2023-05-02T23:55:02.052758Z  app/public-alb-123/321   \n",
              "4   h2  2023-05-02T23:55:02.551542Z  app/public-alb-123/321   \n",
              "\n",
              "             client_port           target_port  request_processing_time  \\\n",
              "0   107.122.173.65:17237  190.61.210.122:64070                    0.000   \n",
              "1     47.4.248.170:52851  190.61.210.122:64070                    0.000   \n",
              "2    98.216.85.196:59207  190.61.210.122:64070                    0.001   \n",
              "3  107.209.189.224:62063  190.61.210.122:64070                    0.000   \n",
              "4   174.194.195.193:9335  190.61.210.122:64070                    0.001   \n",
              "\n",
              "   target_processing_time  response_processing_time  elb_status_code  \\\n",
              "0                   0.143                       0.0              200   \n",
              "1                   0.191                       0.0              200   \n",
              "2                   0.181                       0.0              200   \n",
              "3                   0.198                       0.0              200   \n",
              "4                   0.212                       0.0              200   \n",
              "\n",
              "  target_status_code  ...                                  chosen_cert_arn  \\\n",
              "0                200  ...  arn:aws:acm:us-east-1:1337:certificate/12345678   \n",
              "1                200  ...  arn:aws:acm:us-east-1:1337:certificate/12345678   \n",
              "2                200  ...  arn:aws:acm:us-east-1:1337:certificate/12345678   \n",
              "3                200  ...  arn:aws:acm:us-east-1:1337:certificate/12345678   \n",
              "4                200  ...  arn:aws:acm:us-east-1:1337:certificate/12345678   \n",
              "\n",
              "   matched_rule_priority        request_creation_time actions_executed  \\\n",
              "0                   1660  2023-05-02T23:55:00.709000Z          forward   \n",
              "1                   1660  2023-05-02T23:55:00.717000Z          forward   \n",
              "2                   1660  2023-05-02T23:55:01.797000Z          forward   \n",
              "3                   1660  2023-05-02T23:55:01.853000Z          forward   \n",
              "4                   1660  2023-05-02T23:55:02.338000Z          forward   \n",
              "\n",
              "  redirect_url error_reason     target_port_list target_status_code_list  \\\n",
              "0            -            -  172.32.152.128:9090                     200   \n",
              "1            -            -  172.32.152.128:9090                     200   \n",
              "2            -            -  172.32.192.244:9090                     200   \n",
              "3            -            -  172.32.152.128:9090                     200   \n",
              "4            -            -  172.32.192.244:9090                     200   \n",
              "\n",
              "  classification classification_reason  \n",
              "0              -                     -  \n",
              "1              -                     -  \n",
              "2              -                     -  \n",
              "3              -                     -  \n",
              "4              -                     -  \n",
              "\n",
              "[5 rows x 29 columns]"
            ]
          },
          "execution_count": 4,
          "metadata": {},
          "output_type": "execute_result"
        }
      ],
      "source": [
        "alb_logs_20230503_df = read_data(\"alb-logs-20230503.csv\")\n",
        "alb_logs_20230503_df.head()"
      ]
    },
    {
      "cell_type": "code",
      "execution_count": 5,
      "metadata": {
        "id": "UJMpi7ywqSWR",
        "outputId": "3d3513a4-860d-4781-f258-853a9149bb76"
      },
      "outputs": [
        {
          "data": {
            "text/plain": [
              "(434227, 29)"
            ]
          },
          "execution_count": 5,
          "metadata": {},
          "output_type": "execute_result"
        }
      ],
      "source": [
        "alb_logs_20230503_df.shape"
      ]
    },
    {
      "cell_type": "code",
      "execution_count": 6,
      "metadata": {
        "id": "789S4hQcqSWR",
        "outputId": "e41405fb-3ed6-420c-b131-89f6e74fc57a"
      },
      "outputs": [
        {
          "name": "stdout",
          "output_type": "stream",
          "text": [
            "<class 'pandas.core.frame.DataFrame'>\n",
            "RangeIndex: 434227 entries, 0 to 434226\n",
            "Columns: 29 entries, type to classification_reason\n",
            "dtypes: float64(3), int64(4), object(22)\n",
            "memory usage: 750.2 MB\n"
          ]
        }
      ],
      "source": [
        "alb_logs_20230503_df.info(verbose=False, memory_usage=\"deep\")"
      ]
    },
    {
      "cell_type": "code",
      "execution_count": 7,
      "metadata": {
        "id": "HpDxqkFIqSWR",
        "outputId": "c4c3d380-e0f8-459d-997b-b7ca348d2d93"
      },
      "outputs": [
        {
          "data": {
            "text/html": [
              "<div>\n",
              "<style scoped>\n",
              "    .dataframe tbody tr th:only-of-type {\n",
              "        vertical-align: middle;\n",
              "    }\n",
              "\n",
              "    .dataframe tbody tr th {\n",
              "        vertical-align: top;\n",
              "    }\n",
              "\n",
              "    .dataframe thead th {\n",
              "        text-align: right;\n",
              "    }\n",
              "</style>\n",
              "<table border=\"1\" class=\"dataframe\">\n",
              "  <thead>\n",
              "    <tr style=\"text-align: right;\">\n",
              "      <th></th>\n",
              "      <th>type</th>\n",
              "      <th>time</th>\n",
              "      <th>elb</th>\n",
              "      <th>client_port</th>\n",
              "      <th>target_port</th>\n",
              "      <th>request_processing_time</th>\n",
              "      <th>target_processing_time</th>\n",
              "      <th>response_processing_time</th>\n",
              "      <th>elb_status_code</th>\n",
              "      <th>target_status_code</th>\n",
              "      <th>...</th>\n",
              "      <th>chosen_cert_arn</th>\n",
              "      <th>matched_rule_priority</th>\n",
              "      <th>request_creation_time</th>\n",
              "      <th>actions_executed</th>\n",
              "      <th>redirect_url</th>\n",
              "      <th>error_reason</th>\n",
              "      <th>target_port_list</th>\n",
              "      <th>target_status_code_list</th>\n",
              "      <th>classification</th>\n",
              "      <th>classification_reason</th>\n",
              "    </tr>\n",
              "  </thead>\n",
              "  <tbody>\n",
              "    <tr>\n",
              "      <th>0</th>\n",
              "      <td>h2</td>\n",
              "      <td>2023-05-03T23:55:00.936341Z</td>\n",
              "      <td>app/public-alb-123/321</td>\n",
              "      <td>37.156.75.215:28412</td>\n",
              "      <td>107.110.171.34:60339</td>\n",
              "      <td>0.001</td>\n",
              "      <td>0.194</td>\n",
              "      <td>0.0</td>\n",
              "      <td>200</td>\n",
              "      <td>200</td>\n",
              "      <td>...</td>\n",
              "      <td>arn:aws:acm:us-east-1:1337:certificate/12345678</td>\n",
              "      <td>1660</td>\n",
              "      <td>2023-05-03T23:55:00.741000Z</td>\n",
              "      <td>forward</td>\n",
              "      <td>-</td>\n",
              "      <td>-</td>\n",
              "      <td>172.32.192.244:9090</td>\n",
              "      <td>200</td>\n",
              "      <td>-</td>\n",
              "      <td>-</td>\n",
              "    </tr>\n",
              "    <tr>\n",
              "      <th>1</th>\n",
              "      <td>h2</td>\n",
              "      <td>2023-05-03T23:55:00.980508Z</td>\n",
              "      <td>app/public-alb-123/321</td>\n",
              "      <td>47.160.169.68:55292</td>\n",
              "      <td>107.110.171.34:60339</td>\n",
              "      <td>0.001</td>\n",
              "      <td>0.444</td>\n",
              "      <td>0.0</td>\n",
              "      <td>200</td>\n",
              "      <td>200</td>\n",
              "      <td>...</td>\n",
              "      <td>arn:aws:acm:us-east-1:1337:certificate/12345678</td>\n",
              "      <td>1660</td>\n",
              "      <td>2023-05-03T23:55:00.535000Z</td>\n",
              "      <td>forward</td>\n",
              "      <td>-</td>\n",
              "      <td>-</td>\n",
              "      <td>172.32.192.244:9090</td>\n",
              "      <td>200</td>\n",
              "      <td>-</td>\n",
              "      <td>-</td>\n",
              "    </tr>\n",
              "    <tr>\n",
              "      <th>2</th>\n",
              "      <td>h2</td>\n",
              "      <td>2023-05-03T23:55:01.031178Z</td>\n",
              "      <td>app/public-alb-123/321</td>\n",
              "      <td>96.64.32.210:64670</td>\n",
              "      <td>107.110.171.34:60339</td>\n",
              "      <td>0.000</td>\n",
              "      <td>0.221</td>\n",
              "      <td>0.0</td>\n",
              "      <td>200</td>\n",
              "      <td>200</td>\n",
              "      <td>...</td>\n",
              "      <td>arn:aws:acm:us-east-1:1337:certificate/12345678</td>\n",
              "      <td>1660</td>\n",
              "      <td>2023-05-03T23:55:00.809000Z</td>\n",
              "      <td>forward</td>\n",
              "      <td>-</td>\n",
              "      <td>-</td>\n",
              "      <td>172.32.152.128:9090</td>\n",
              "      <td>200</td>\n",
              "      <td>-</td>\n",
              "      <td>-</td>\n",
              "    </tr>\n",
              "    <tr>\n",
              "      <th>3</th>\n",
              "      <td>h2</td>\n",
              "      <td>2023-05-03T23:55:01.230494Z</td>\n",
              "      <td>app/public-alb-123/321</td>\n",
              "      <td>174.198.132.80:12554</td>\n",
              "      <td>107.110.171.34:60339</td>\n",
              "      <td>0.001</td>\n",
              "      <td>0.238</td>\n",
              "      <td>0.0</td>\n",
              "      <td>200</td>\n",
              "      <td>200</td>\n",
              "      <td>...</td>\n",
              "      <td>arn:aws:acm:us-east-1:1337:certificate/12345678</td>\n",
              "      <td>1660</td>\n",
              "      <td>2023-05-03T23:55:00.991000Z</td>\n",
              "      <td>forward</td>\n",
              "      <td>-</td>\n",
              "      <td>-</td>\n",
              "      <td>172.32.192.244:9090</td>\n",
              "      <td>200</td>\n",
              "      <td>-</td>\n",
              "      <td>-</td>\n",
              "    </tr>\n",
              "    <tr>\n",
              "      <th>4</th>\n",
              "      <td>h2</td>\n",
              "      <td>2023-05-03T23:55:01.504385Z</td>\n",
              "      <td>app/public-alb-123/321</td>\n",
              "      <td>67.255.72.176:59368</td>\n",
              "      <td>107.110.171.34:60339</td>\n",
              "      <td>0.000</td>\n",
              "      <td>0.172</td>\n",
              "      <td>0.0</td>\n",
              "      <td>200</td>\n",
              "      <td>200</td>\n",
              "      <td>...</td>\n",
              "      <td>arn:aws:acm:us-east-1:1337:certificate/12345678</td>\n",
              "      <td>1660</td>\n",
              "      <td>2023-05-03T23:55:01.332000Z</td>\n",
              "      <td>forward</td>\n",
              "      <td>-</td>\n",
              "      <td>-</td>\n",
              "      <td>172.32.152.128:9090</td>\n",
              "      <td>200</td>\n",
              "      <td>-</td>\n",
              "      <td>-</td>\n",
              "    </tr>\n",
              "  </tbody>\n",
              "</table>\n",
              "<p>5 rows × 29 columns</p>\n",
              "</div>"
            ],
            "text/plain": [
              "  type                         time                     elb  \\\n",
              "0   h2  2023-05-03T23:55:00.936341Z  app/public-alb-123/321   \n",
              "1   h2  2023-05-03T23:55:00.980508Z  app/public-alb-123/321   \n",
              "2   h2  2023-05-03T23:55:01.031178Z  app/public-alb-123/321   \n",
              "3   h2  2023-05-03T23:55:01.230494Z  app/public-alb-123/321   \n",
              "4   h2  2023-05-03T23:55:01.504385Z  app/public-alb-123/321   \n",
              "\n",
              "            client_port           target_port  request_processing_time  \\\n",
              "0   37.156.75.215:28412  107.110.171.34:60339                    0.001   \n",
              "1   47.160.169.68:55292  107.110.171.34:60339                    0.001   \n",
              "2    96.64.32.210:64670  107.110.171.34:60339                    0.000   \n",
              "3  174.198.132.80:12554  107.110.171.34:60339                    0.001   \n",
              "4   67.255.72.176:59368  107.110.171.34:60339                    0.000   \n",
              "\n",
              "   target_processing_time  response_processing_time  elb_status_code  \\\n",
              "0                   0.194                       0.0              200   \n",
              "1                   0.444                       0.0              200   \n",
              "2                   0.221                       0.0              200   \n",
              "3                   0.238                       0.0              200   \n",
              "4                   0.172                       0.0              200   \n",
              "\n",
              "  target_status_code  ...                                  chosen_cert_arn  \\\n",
              "0                200  ...  arn:aws:acm:us-east-1:1337:certificate/12345678   \n",
              "1                200  ...  arn:aws:acm:us-east-1:1337:certificate/12345678   \n",
              "2                200  ...  arn:aws:acm:us-east-1:1337:certificate/12345678   \n",
              "3                200  ...  arn:aws:acm:us-east-1:1337:certificate/12345678   \n",
              "4                200  ...  arn:aws:acm:us-east-1:1337:certificate/12345678   \n",
              "\n",
              "   matched_rule_priority        request_creation_time actions_executed  \\\n",
              "0                   1660  2023-05-03T23:55:00.741000Z          forward   \n",
              "1                   1660  2023-05-03T23:55:00.535000Z          forward   \n",
              "2                   1660  2023-05-03T23:55:00.809000Z          forward   \n",
              "3                   1660  2023-05-03T23:55:00.991000Z          forward   \n",
              "4                   1660  2023-05-03T23:55:01.332000Z          forward   \n",
              "\n",
              "  redirect_url error_reason     target_port_list target_status_code_list  \\\n",
              "0            -            -  172.32.192.244:9090                     200   \n",
              "1            -            -  172.32.192.244:9090                     200   \n",
              "2            -            -  172.32.152.128:9090                     200   \n",
              "3            -            -  172.32.192.244:9090                     200   \n",
              "4            -            -  172.32.152.128:9090                     200   \n",
              "\n",
              "  classification classification_reason  \n",
              "0              -                     -  \n",
              "1              -                     -  \n",
              "2              -                     -  \n",
              "3              -                     -  \n",
              "4              -                     -  \n",
              "\n",
              "[5 rows x 29 columns]"
            ]
          },
          "execution_count": 7,
          "metadata": {},
          "output_type": "execute_result"
        }
      ],
      "source": [
        "alb_logs_20230504_df = read_data(\"alb-logs-20230504.csv\")\n",
        "alb_logs_20230504_df.head()"
      ]
    },
    {
      "cell_type": "code",
      "execution_count": 8,
      "metadata": {
        "id": "gr3L6CaIqSWS",
        "outputId": "cc3e4b76-5bf1-4a71-cd37-5188a5e9ce69"
      },
      "outputs": [
        {
          "data": {
            "text/plain": [
              "(430616, 29)"
            ]
          },
          "execution_count": 8,
          "metadata": {},
          "output_type": "execute_result"
        }
      ],
      "source": [
        "alb_logs_20230504_df.shape"
      ]
    },
    {
      "cell_type": "code",
      "execution_count": 9,
      "metadata": {
        "id": "xYNuAcYsqSWS",
        "outputId": "45c60309-2b29-4fc6-ad10-5783c511a8de"
      },
      "outputs": [
        {
          "name": "stdout",
          "output_type": "stream",
          "text": [
            "<class 'pandas.core.frame.DataFrame'>\n",
            "RangeIndex: 430616 entries, 0 to 430615\n",
            "Columns: 29 entries, type to classification_reason\n",
            "dtypes: float64(3), int64(4), object(22)\n",
            "memory usage: 743.9 MB\n"
          ]
        }
      ],
      "source": [
        "alb_logs_20230504_df.info(verbose=False, memory_usage=\"deep\")"
      ]
    },
    {
      "cell_type": "code",
      "execution_count": 10,
      "metadata": {
        "id": "b1FswinWqSWS",
        "outputId": "d0f2545d-b928-4445-d784-c95ea23d6ef6"
      },
      "outputs": [
        {
          "data": {
            "text/html": [
              "<div>\n",
              "<style scoped>\n",
              "    .dataframe tbody tr th:only-of-type {\n",
              "        vertical-align: middle;\n",
              "    }\n",
              "\n",
              "    .dataframe tbody tr th {\n",
              "        vertical-align: top;\n",
              "    }\n",
              "\n",
              "    .dataframe thead th {\n",
              "        text-align: right;\n",
              "    }\n",
              "</style>\n",
              "<table border=\"1\" class=\"dataframe\">\n",
              "  <thead>\n",
              "    <tr style=\"text-align: right;\">\n",
              "      <th></th>\n",
              "      <th>type</th>\n",
              "      <th>time</th>\n",
              "      <th>elb</th>\n",
              "      <th>client_port</th>\n",
              "      <th>target_port</th>\n",
              "      <th>request_processing_time</th>\n",
              "      <th>target_processing_time</th>\n",
              "      <th>response_processing_time</th>\n",
              "      <th>elb_status_code</th>\n",
              "      <th>target_status_code</th>\n",
              "      <th>...</th>\n",
              "      <th>chosen_cert_arn</th>\n",
              "      <th>matched_rule_priority</th>\n",
              "      <th>request_creation_time</th>\n",
              "      <th>actions_executed</th>\n",
              "      <th>redirect_url</th>\n",
              "      <th>error_reason</th>\n",
              "      <th>target_port_list</th>\n",
              "      <th>target_status_code_list</th>\n",
              "      <th>classification</th>\n",
              "      <th>classification_reason</th>\n",
              "    </tr>\n",
              "  </thead>\n",
              "  <tbody>\n",
              "    <tr>\n",
              "      <th>0</th>\n",
              "      <td>h2</td>\n",
              "      <td>2023-05-04T23:55:01.395623Z</td>\n",
              "      <td>app/public-alb-123/321</td>\n",
              "      <td>50.34.161.129:59998</td>\n",
              "      <td>190.21.190.209:62584</td>\n",
              "      <td>0.001</td>\n",
              "      <td>0.216</td>\n",
              "      <td>0.0</td>\n",
              "      <td>200</td>\n",
              "      <td>200</td>\n",
              "      <td>...</td>\n",
              "      <td>arn:aws:acm:us-east-1:1337:certificate/12345678</td>\n",
              "      <td>1660</td>\n",
              "      <td>2023-05-04T23:55:01.178000Z</td>\n",
              "      <td>forward</td>\n",
              "      <td>-</td>\n",
              "      <td>-</td>\n",
              "      <td>172.32.192.244:9090</td>\n",
              "      <td>200</td>\n",
              "      <td>-</td>\n",
              "      <td>-</td>\n",
              "    </tr>\n",
              "    <tr>\n",
              "      <th>1</th>\n",
              "      <td>h2</td>\n",
              "      <td>2023-05-04T23:55:02.192334Z</td>\n",
              "      <td>app/public-alb-123/321</td>\n",
              "      <td>73.140.76.96:57108</td>\n",
              "      <td>190.21.190.209:62584</td>\n",
              "      <td>0.000</td>\n",
              "      <td>0.219</td>\n",
              "      <td>0.0</td>\n",
              "      <td>200</td>\n",
              "      <td>200</td>\n",
              "      <td>...</td>\n",
              "      <td>arn:aws:acm:us-east-1:1337:certificate/12345678</td>\n",
              "      <td>1660</td>\n",
              "      <td>2023-05-04T23:55:01.973000Z</td>\n",
              "      <td>forward</td>\n",
              "      <td>-</td>\n",
              "      <td>-</td>\n",
              "      <td>172.32.152.128:9090</td>\n",
              "      <td>200</td>\n",
              "      <td>-</td>\n",
              "      <td>-</td>\n",
              "    </tr>\n",
              "    <tr>\n",
              "      <th>2</th>\n",
              "      <td>h2</td>\n",
              "      <td>2023-05-04T23:55:02.937865Z</td>\n",
              "      <td>app/public-alb-123/321</td>\n",
              "      <td>174.203.41.164:1322</td>\n",
              "      <td>190.21.190.209:62584</td>\n",
              "      <td>0.001</td>\n",
              "      <td>0.788</td>\n",
              "      <td>0.0</td>\n",
              "      <td>200</td>\n",
              "      <td>200</td>\n",
              "      <td>...</td>\n",
              "      <td>arn:aws:acm:us-east-1:1337:certificate/12345678</td>\n",
              "      <td>1660</td>\n",
              "      <td>2023-05-04T23:55:02.148000Z</td>\n",
              "      <td>forward</td>\n",
              "      <td>-</td>\n",
              "      <td>-</td>\n",
              "      <td>172.32.192.244:9090</td>\n",
              "      <td>200</td>\n",
              "      <td>-</td>\n",
              "      <td>-</td>\n",
              "    </tr>\n",
              "    <tr>\n",
              "      <th>3</th>\n",
              "      <td>h2</td>\n",
              "      <td>2023-05-04T23:55:03.092185Z</td>\n",
              "      <td>app/public-alb-123/321</td>\n",
              "      <td>201.86.1.160:62513</td>\n",
              "      <td>190.21.190.209:62584</td>\n",
              "      <td>0.001</td>\n",
              "      <td>0.175</td>\n",
              "      <td>0.0</td>\n",
              "      <td>200</td>\n",
              "      <td>200</td>\n",
              "      <td>...</td>\n",
              "      <td>arn:aws:acm:us-east-1:1337:certificate/12345678</td>\n",
              "      <td>1660</td>\n",
              "      <td>2023-05-04T23:55:02.916000Z</td>\n",
              "      <td>forward</td>\n",
              "      <td>-</td>\n",
              "      <td>-</td>\n",
              "      <td>172.32.152.128:9090</td>\n",
              "      <td>200</td>\n",
              "      <td>-</td>\n",
              "      <td>-</td>\n",
              "    </tr>\n",
              "    <tr>\n",
              "      <th>4</th>\n",
              "      <td>h2</td>\n",
              "      <td>2023-05-04T23:55:03.147868Z</td>\n",
              "      <td>app/public-alb-123/321</td>\n",
              "      <td>107.209.119.256:57621</td>\n",
              "      <td>190.21.190.209:62584</td>\n",
              "      <td>0.001</td>\n",
              "      <td>0.138</td>\n",
              "      <td>0.0</td>\n",
              "      <td>200</td>\n",
              "      <td>200</td>\n",
              "      <td>...</td>\n",
              "      <td>arn:aws:acm:us-east-1:1337:certificate/12345678</td>\n",
              "      <td>1660</td>\n",
              "      <td>2023-05-04T23:55:03.008000Z</td>\n",
              "      <td>forward</td>\n",
              "      <td>-</td>\n",
              "      <td>-</td>\n",
              "      <td>172.32.152.128:9090</td>\n",
              "      <td>200</td>\n",
              "      <td>-</td>\n",
              "      <td>-</td>\n",
              "    </tr>\n",
              "  </tbody>\n",
              "</table>\n",
              "<p>5 rows × 29 columns</p>\n",
              "</div>"
            ],
            "text/plain": [
              "  type                         time                     elb  \\\n",
              "0   h2  2023-05-04T23:55:01.395623Z  app/public-alb-123/321   \n",
              "1   h2  2023-05-04T23:55:02.192334Z  app/public-alb-123/321   \n",
              "2   h2  2023-05-04T23:55:02.937865Z  app/public-alb-123/321   \n",
              "3   h2  2023-05-04T23:55:03.092185Z  app/public-alb-123/321   \n",
              "4   h2  2023-05-04T23:55:03.147868Z  app/public-alb-123/321   \n",
              "\n",
              "             client_port           target_port  request_processing_time  \\\n",
              "0    50.34.161.129:59998  190.21.190.209:62584                    0.001   \n",
              "1     73.140.76.96:57108  190.21.190.209:62584                    0.000   \n",
              "2    174.203.41.164:1322  190.21.190.209:62584                    0.001   \n",
              "3     201.86.1.160:62513  190.21.190.209:62584                    0.001   \n",
              "4  107.209.119.256:57621  190.21.190.209:62584                    0.001   \n",
              "\n",
              "   target_processing_time  response_processing_time  elb_status_code  \\\n",
              "0                   0.216                       0.0              200   \n",
              "1                   0.219                       0.0              200   \n",
              "2                   0.788                       0.0              200   \n",
              "3                   0.175                       0.0              200   \n",
              "4                   0.138                       0.0              200   \n",
              "\n",
              "  target_status_code  ...                                  chosen_cert_arn  \\\n",
              "0                200  ...  arn:aws:acm:us-east-1:1337:certificate/12345678   \n",
              "1                200  ...  arn:aws:acm:us-east-1:1337:certificate/12345678   \n",
              "2                200  ...  arn:aws:acm:us-east-1:1337:certificate/12345678   \n",
              "3                200  ...  arn:aws:acm:us-east-1:1337:certificate/12345678   \n",
              "4                200  ...  arn:aws:acm:us-east-1:1337:certificate/12345678   \n",
              "\n",
              "   matched_rule_priority        request_creation_time actions_executed  \\\n",
              "0                   1660  2023-05-04T23:55:01.178000Z          forward   \n",
              "1                   1660  2023-05-04T23:55:01.973000Z          forward   \n",
              "2                   1660  2023-05-04T23:55:02.148000Z          forward   \n",
              "3                   1660  2023-05-04T23:55:02.916000Z          forward   \n",
              "4                   1660  2023-05-04T23:55:03.008000Z          forward   \n",
              "\n",
              "  redirect_url error_reason     target_port_list target_status_code_list  \\\n",
              "0            -            -  172.32.192.244:9090                     200   \n",
              "1            -            -  172.32.152.128:9090                     200   \n",
              "2            -            -  172.32.192.244:9090                     200   \n",
              "3            -            -  172.32.152.128:9090                     200   \n",
              "4            -            -  172.32.152.128:9090                     200   \n",
              "\n",
              "  classification classification_reason  \n",
              "0              -                     -  \n",
              "1              -                     -  \n",
              "2              -                     -  \n",
              "3              -                     -  \n",
              "4              -                     -  \n",
              "\n",
              "[5 rows x 29 columns]"
            ]
          },
          "execution_count": 10,
          "metadata": {},
          "output_type": "execute_result"
        }
      ],
      "source": [
        "alb_logs_20230505_df = read_data(\"alb-logs-20230505.csv\")\n",
        "alb_logs_20230505_df.head()"
      ]
    },
    {
      "cell_type": "code",
      "execution_count": 11,
      "metadata": {
        "id": "t8N3IxspqSWS",
        "outputId": "005fc2d7-bd45-4798-df3e-6ccad3329f92"
      },
      "outputs": [
        {
          "data": {
            "text/plain": [
              "(408711, 29)"
            ]
          },
          "execution_count": 11,
          "metadata": {},
          "output_type": "execute_result"
        }
      ],
      "source": [
        "alb_logs_20230505_df.shape"
      ]
    },
    {
      "cell_type": "code",
      "execution_count": 12,
      "metadata": {
        "id": "uIORjyKhqSWT",
        "outputId": "4bd84bfa-e88e-4793-8c53-07dd967f38a8"
      },
      "outputs": [
        {
          "name": "stdout",
          "output_type": "stream",
          "text": [
            "<class 'pandas.core.frame.DataFrame'>\n",
            "RangeIndex: 408711 entries, 0 to 408710\n",
            "Columns: 29 entries, type to classification_reason\n",
            "dtypes: float64(3), int64(4), object(22)\n",
            "memory usage: 706.0 MB\n"
          ]
        }
      ],
      "source": [
        "alb_logs_20230505_df.info(verbose=False, memory_usage=\"deep\")"
      ]
    },
    {
      "cell_type": "code",
      "execution_count": 13,
      "metadata": {
        "id": "L-hK2eW5qSWT",
        "outputId": "db63aaef-e2d6-4855-bdec-fb5f53cc51ec"
      },
      "outputs": [
        {
          "data": {
            "text/html": [
              "<div>\n",
              "<style scoped>\n",
              "    .dataframe tbody tr th:only-of-type {\n",
              "        vertical-align: middle;\n",
              "    }\n",
              "\n",
              "    .dataframe tbody tr th {\n",
              "        vertical-align: top;\n",
              "    }\n",
              "\n",
              "    .dataframe thead th {\n",
              "        text-align: right;\n",
              "    }\n",
              "</style>\n",
              "<table border=\"1\" class=\"dataframe\">\n",
              "  <thead>\n",
              "    <tr style=\"text-align: right;\">\n",
              "      <th></th>\n",
              "      <th>type</th>\n",
              "      <th>time</th>\n",
              "      <th>elb</th>\n",
              "      <th>client_port</th>\n",
              "      <th>target_port</th>\n",
              "      <th>request_processing_time</th>\n",
              "      <th>target_processing_time</th>\n",
              "      <th>response_processing_time</th>\n",
              "      <th>elb_status_code</th>\n",
              "      <th>target_status_code</th>\n",
              "      <th>...</th>\n",
              "      <th>chosen_cert_arn</th>\n",
              "      <th>matched_rule_priority</th>\n",
              "      <th>request_creation_time</th>\n",
              "      <th>actions_executed</th>\n",
              "      <th>redirect_url</th>\n",
              "      <th>error_reason</th>\n",
              "      <th>target_port_list</th>\n",
              "      <th>target_status_code_list</th>\n",
              "      <th>classification</th>\n",
              "      <th>classification_reason</th>\n",
              "    </tr>\n",
              "  </thead>\n",
              "  <tbody>\n",
              "    <tr>\n",
              "      <th>0</th>\n",
              "      <td>h2</td>\n",
              "      <td>2023-05-05T23:55:01.722333Z</td>\n",
              "      <td>app/public-alb-123/321</td>\n",
              "      <td>70.67.230.258:61085</td>\n",
              "      <td>87.235.164.236:52894</td>\n",
              "      <td>0.001</td>\n",
              "      <td>0.382</td>\n",
              "      <td>0.0</td>\n",
              "      <td>200</td>\n",
              "      <td>200</td>\n",
              "      <td>...</td>\n",
              "      <td>arn:aws:acm:us-east-1:1337:certificate/12345678</td>\n",
              "      <td>1660</td>\n",
              "      <td>2023-05-05T23:55:01.339000Z</td>\n",
              "      <td>forward</td>\n",
              "      <td>-</td>\n",
              "      <td>-</td>\n",
              "      <td>172.32.196.19:9090</td>\n",
              "      <td>200</td>\n",
              "      <td>-</td>\n",
              "      <td>-</td>\n",
              "    </tr>\n",
              "    <tr>\n",
              "      <th>1</th>\n",
              "      <td>h2</td>\n",
              "      <td>2023-05-05T23:55:01.272426Z</td>\n",
              "      <td>app/public-alb-123/321</td>\n",
              "      <td>74.131.152.199:56407</td>\n",
              "      <td>87.235.164.236:52894</td>\n",
              "      <td>0.001</td>\n",
              "      <td>0.341</td>\n",
              "      <td>0.0</td>\n",
              "      <td>200</td>\n",
              "      <td>200</td>\n",
              "      <td>...</td>\n",
              "      <td>arn:aws:acm:us-east-1:1337:certificate/12345678</td>\n",
              "      <td>1660</td>\n",
              "      <td>2023-05-05T23:55:00.930000Z</td>\n",
              "      <td>forward</td>\n",
              "      <td>-</td>\n",
              "      <td>-</td>\n",
              "      <td>172.32.196.19:9090</td>\n",
              "      <td>200</td>\n",
              "      <td>-</td>\n",
              "      <td>-</td>\n",
              "    </tr>\n",
              "    <tr>\n",
              "      <th>2</th>\n",
              "      <td>h2</td>\n",
              "      <td>2023-05-05T23:55:02.580559Z</td>\n",
              "      <td>app/public-alb-123/321</td>\n",
              "      <td>174.198.15.31:2166</td>\n",
              "      <td>87.235.164.236:52894</td>\n",
              "      <td>0.000</td>\n",
              "      <td>0.199</td>\n",
              "      <td>0.0</td>\n",
              "      <td>200</td>\n",
              "      <td>200</td>\n",
              "      <td>...</td>\n",
              "      <td>arn:aws:acm:us-east-1:1337:certificate/12345678</td>\n",
              "      <td>1660</td>\n",
              "      <td>2023-05-05T23:55:02.380000Z</td>\n",
              "      <td>forward</td>\n",
              "      <td>-</td>\n",
              "      <td>-</td>\n",
              "      <td>172.32.128.80:9090</td>\n",
              "      <td>200</td>\n",
              "      <td>-</td>\n",
              "      <td>-</td>\n",
              "    </tr>\n",
              "    <tr>\n",
              "      <th>3</th>\n",
              "      <td>h2</td>\n",
              "      <td>2023-05-05T23:55:02.073443Z</td>\n",
              "      <td>app/public-alb-123/321</td>\n",
              "      <td>98.11.145.152:59359</td>\n",
              "      <td>87.235.164.236:52894</td>\n",
              "      <td>0.000</td>\n",
              "      <td>0.248</td>\n",
              "      <td>0.0</td>\n",
              "      <td>200</td>\n",
              "      <td>200</td>\n",
              "      <td>...</td>\n",
              "      <td>arn:aws:acm:us-east-1:1337:certificate/12345678</td>\n",
              "      <td>1660</td>\n",
              "      <td>2023-05-05T23:55:01.824000Z</td>\n",
              "      <td>forward</td>\n",
              "      <td>-</td>\n",
              "      <td>-</td>\n",
              "      <td>172.32.128.80:9090</td>\n",
              "      <td>200</td>\n",
              "      <td>-</td>\n",
              "      <td>-</td>\n",
              "    </tr>\n",
              "    <tr>\n",
              "      <th>4</th>\n",
              "      <td>h2</td>\n",
              "      <td>2023-05-05T23:55:02.190610Z</td>\n",
              "      <td>app/public-alb-123/321</td>\n",
              "      <td>97.131.37.13:53174</td>\n",
              "      <td>87.235.164.236:52894</td>\n",
              "      <td>0.001</td>\n",
              "      <td>0.221</td>\n",
              "      <td>0.0</td>\n",
              "      <td>200</td>\n",
              "      <td>200</td>\n",
              "      <td>...</td>\n",
              "      <td>arn:aws:acm:us-east-1:1337:certificate/12345678</td>\n",
              "      <td>1660</td>\n",
              "      <td>2023-05-05T23:55:01.968000Z</td>\n",
              "      <td>forward</td>\n",
              "      <td>-</td>\n",
              "      <td>-</td>\n",
              "      <td>172.32.196.19:9090</td>\n",
              "      <td>200</td>\n",
              "      <td>-</td>\n",
              "      <td>-</td>\n",
              "    </tr>\n",
              "  </tbody>\n",
              "</table>\n",
              "<p>5 rows × 29 columns</p>\n",
              "</div>"
            ],
            "text/plain": [
              "  type                         time                     elb  \\\n",
              "0   h2  2023-05-05T23:55:01.722333Z  app/public-alb-123/321   \n",
              "1   h2  2023-05-05T23:55:01.272426Z  app/public-alb-123/321   \n",
              "2   h2  2023-05-05T23:55:02.580559Z  app/public-alb-123/321   \n",
              "3   h2  2023-05-05T23:55:02.073443Z  app/public-alb-123/321   \n",
              "4   h2  2023-05-05T23:55:02.190610Z  app/public-alb-123/321   \n",
              "\n",
              "            client_port           target_port  request_processing_time  \\\n",
              "0   70.67.230.258:61085  87.235.164.236:52894                    0.001   \n",
              "1  74.131.152.199:56407  87.235.164.236:52894                    0.001   \n",
              "2    174.198.15.31:2166  87.235.164.236:52894                    0.000   \n",
              "3   98.11.145.152:59359  87.235.164.236:52894                    0.000   \n",
              "4    97.131.37.13:53174  87.235.164.236:52894                    0.001   \n",
              "\n",
              "   target_processing_time  response_processing_time  elb_status_code  \\\n",
              "0                   0.382                       0.0              200   \n",
              "1                   0.341                       0.0              200   \n",
              "2                   0.199                       0.0              200   \n",
              "3                   0.248                       0.0              200   \n",
              "4                   0.221                       0.0              200   \n",
              "\n",
              "  target_status_code  ...                                  chosen_cert_arn  \\\n",
              "0                200  ...  arn:aws:acm:us-east-1:1337:certificate/12345678   \n",
              "1                200  ...  arn:aws:acm:us-east-1:1337:certificate/12345678   \n",
              "2                200  ...  arn:aws:acm:us-east-1:1337:certificate/12345678   \n",
              "3                200  ...  arn:aws:acm:us-east-1:1337:certificate/12345678   \n",
              "4                200  ...  arn:aws:acm:us-east-1:1337:certificate/12345678   \n",
              "\n",
              "   matched_rule_priority        request_creation_time actions_executed  \\\n",
              "0                   1660  2023-05-05T23:55:01.339000Z          forward   \n",
              "1                   1660  2023-05-05T23:55:00.930000Z          forward   \n",
              "2                   1660  2023-05-05T23:55:02.380000Z          forward   \n",
              "3                   1660  2023-05-05T23:55:01.824000Z          forward   \n",
              "4                   1660  2023-05-05T23:55:01.968000Z          forward   \n",
              "\n",
              "  redirect_url error_reason    target_port_list target_status_code_list  \\\n",
              "0            -            -  172.32.196.19:9090                     200   \n",
              "1            -            -  172.32.196.19:9090                     200   \n",
              "2            -            -  172.32.128.80:9090                     200   \n",
              "3            -            -  172.32.128.80:9090                     200   \n",
              "4            -            -  172.32.196.19:9090                     200   \n",
              "\n",
              "  classification classification_reason  \n",
              "0              -                     -  \n",
              "1              -                     -  \n",
              "2              -                     -  \n",
              "3              -                     -  \n",
              "4              -                     -  \n",
              "\n",
              "[5 rows x 29 columns]"
            ]
          },
          "execution_count": 13,
          "metadata": {},
          "output_type": "execute_result"
        }
      ],
      "source": [
        "alb_logs_20230506_df = read_data(\"alb-logs-20230506.csv\")\n",
        "alb_logs_20230506_df.head()"
      ]
    },
    {
      "cell_type": "code",
      "execution_count": 14,
      "metadata": {
        "id": "kahaYCkFqSWT",
        "outputId": "1fb0059d-4ad7-4ca3-8139-fe61bd763bf6"
      },
      "outputs": [
        {
          "data": {
            "text/plain": [
              "(406055, 29)"
            ]
          },
          "execution_count": 14,
          "metadata": {},
          "output_type": "execute_result"
        }
      ],
      "source": [
        "alb_logs_20230506_df.shape"
      ]
    },
    {
      "cell_type": "code",
      "execution_count": 15,
      "metadata": {
        "id": "_DMyI9ZcqSWT",
        "outputId": "09138148-86dc-480b-cba8-46bf60986235"
      },
      "outputs": [
        {
          "name": "stdout",
          "output_type": "stream",
          "text": [
            "<class 'pandas.core.frame.DataFrame'>\n",
            "RangeIndex: 406055 entries, 0 to 406054\n",
            "Columns: 29 entries, type to classification_reason\n",
            "dtypes: float64(3), int64(4), object(22)\n",
            "memory usage: 701.3 MB\n"
          ]
        }
      ],
      "source": [
        "alb_logs_20230506_df.info(verbose=False, memory_usage=\"deep\")"
      ]
    },
    {
      "cell_type": "code",
      "execution_count": 16,
      "metadata": {
        "id": "T5cXJNM7qSWT",
        "outputId": "27bd4bb8-1ebf-4bbd-bc58-afbb585359aa"
      },
      "outputs": [
        {
          "data": {
            "text/html": [
              "<div>\n",
              "<style scoped>\n",
              "    .dataframe tbody tr th:only-of-type {\n",
              "        vertical-align: middle;\n",
              "    }\n",
              "\n",
              "    .dataframe tbody tr th {\n",
              "        vertical-align: top;\n",
              "    }\n",
              "\n",
              "    .dataframe thead th {\n",
              "        text-align: right;\n",
              "    }\n",
              "</style>\n",
              "<table border=\"1\" class=\"dataframe\">\n",
              "  <thead>\n",
              "    <tr style=\"text-align: right;\">\n",
              "      <th></th>\n",
              "      <th>type</th>\n",
              "      <th>time</th>\n",
              "      <th>elb</th>\n",
              "      <th>client_port</th>\n",
              "      <th>target_port</th>\n",
              "      <th>request_processing_time</th>\n",
              "      <th>target_processing_time</th>\n",
              "      <th>response_processing_time</th>\n",
              "      <th>elb_status_code</th>\n",
              "      <th>target_status_code</th>\n",
              "      <th>...</th>\n",
              "      <th>chosen_cert_arn</th>\n",
              "      <th>matched_rule_priority</th>\n",
              "      <th>request_creation_time</th>\n",
              "      <th>actions_executed</th>\n",
              "      <th>redirect_url</th>\n",
              "      <th>error_reason</th>\n",
              "      <th>target_port_list</th>\n",
              "      <th>target_status_code_list</th>\n",
              "      <th>classification</th>\n",
              "      <th>classification_reason</th>\n",
              "    </tr>\n",
              "  </thead>\n",
              "  <tbody>\n",
              "    <tr>\n",
              "      <th>0</th>\n",
              "      <td>h2</td>\n",
              "      <td>2023-05-06T23:55:00.967687Z</td>\n",
              "      <td>app/public-alb-123/321</td>\n",
              "      <td>174.58.39.113:55205</td>\n",
              "      <td>90.128.202.176:56383</td>\n",
              "      <td>0.001</td>\n",
              "      <td>0.192</td>\n",
              "      <td>0.0</td>\n",
              "      <td>200</td>\n",
              "      <td>200</td>\n",
              "      <td>...</td>\n",
              "      <td>arn:aws:acm:us-east-1:1337:certificate/12345678</td>\n",
              "      <td>1660</td>\n",
              "      <td>2023-05-06T23:55:00.774000Z</td>\n",
              "      <td>forward</td>\n",
              "      <td>-</td>\n",
              "      <td>-</td>\n",
              "      <td>172.32.201.214:9090</td>\n",
              "      <td>200</td>\n",
              "      <td>-</td>\n",
              "      <td>-</td>\n",
              "    </tr>\n",
              "    <tr>\n",
              "      <th>1</th>\n",
              "      <td>h2</td>\n",
              "      <td>2023-05-06T23:55:00.673873Z</td>\n",
              "      <td>app/public-alb-123/321</td>\n",
              "      <td>2.25.225.199:54463</td>\n",
              "      <td>90.128.202.176:56383</td>\n",
              "      <td>0.001</td>\n",
              "      <td>0.167</td>\n",
              "      <td>0.0</td>\n",
              "      <td>200</td>\n",
              "      <td>200</td>\n",
              "      <td>...</td>\n",
              "      <td>arn:aws:acm:us-east-1:1337:certificate/12345678</td>\n",
              "      <td>1660</td>\n",
              "      <td>2023-05-06T23:55:00.505000Z</td>\n",
              "      <td>forward</td>\n",
              "      <td>-</td>\n",
              "      <td>-</td>\n",
              "      <td>172.32.201.214:9090</td>\n",
              "      <td>200</td>\n",
              "      <td>-</td>\n",
              "      <td>-</td>\n",
              "    </tr>\n",
              "    <tr>\n",
              "      <th>2</th>\n",
              "      <td>h2</td>\n",
              "      <td>2023-05-06T23:55:02.529489Z</td>\n",
              "      <td>app/public-alb-123/321</td>\n",
              "      <td>174.58.39.113:55205</td>\n",
              "      <td>90.128.202.176:56383</td>\n",
              "      <td>0.000</td>\n",
              "      <td>0.218</td>\n",
              "      <td>0.0</td>\n",
              "      <td>200</td>\n",
              "      <td>200</td>\n",
              "      <td>...</td>\n",
              "      <td>arn:aws:acm:us-east-1:1337:certificate/12345678</td>\n",
              "      <td>1660</td>\n",
              "      <td>2023-05-06T23:55:02.310000Z</td>\n",
              "      <td>forward</td>\n",
              "      <td>-</td>\n",
              "      <td>-</td>\n",
              "      <td>172.32.163.158:9090</td>\n",
              "      <td>200</td>\n",
              "      <td>-</td>\n",
              "      <td>-</td>\n",
              "    </tr>\n",
              "    <tr>\n",
              "      <th>3</th>\n",
              "      <td>h2</td>\n",
              "      <td>2023-05-06T23:55:02.947010Z</td>\n",
              "      <td>app/public-alb-123/321</td>\n",
              "      <td>101.184.34.124:57343</td>\n",
              "      <td>90.128.202.176:56383</td>\n",
              "      <td>0.000</td>\n",
              "      <td>0.239</td>\n",
              "      <td>0.0</td>\n",
              "      <td>200</td>\n",
              "      <td>200</td>\n",
              "      <td>...</td>\n",
              "      <td>arn:aws:acm:us-east-1:1337:certificate/12345678</td>\n",
              "      <td>1660</td>\n",
              "      <td>2023-05-06T23:55:02.707000Z</td>\n",
              "      <td>forward</td>\n",
              "      <td>-</td>\n",
              "      <td>-</td>\n",
              "      <td>172.32.163.158:9090</td>\n",
              "      <td>200</td>\n",
              "      <td>-</td>\n",
              "      <td>-</td>\n",
              "    </tr>\n",
              "    <tr>\n",
              "      <th>4</th>\n",
              "      <td>h2</td>\n",
              "      <td>2023-05-06T23:55:03.391870Z</td>\n",
              "      <td>app/public-alb-123/321</td>\n",
              "      <td>134.215.147.200:58231</td>\n",
              "      <td>90.128.202.176:56383</td>\n",
              "      <td>0.001</td>\n",
              "      <td>0.185</td>\n",
              "      <td>0.0</td>\n",
              "      <td>200</td>\n",
              "      <td>200</td>\n",
              "      <td>...</td>\n",
              "      <td>session-reused</td>\n",
              "      <td>1660</td>\n",
              "      <td>2023-05-06T23:55:03.206000Z</td>\n",
              "      <td>forward</td>\n",
              "      <td>-</td>\n",
              "      <td>-</td>\n",
              "      <td>172.32.201.214:9090</td>\n",
              "      <td>200</td>\n",
              "      <td>-</td>\n",
              "      <td>-</td>\n",
              "    </tr>\n",
              "  </tbody>\n",
              "</table>\n",
              "<p>5 rows × 29 columns</p>\n",
              "</div>"
            ],
            "text/plain": [
              "  type                         time                     elb  \\\n",
              "0   h2  2023-05-06T23:55:00.967687Z  app/public-alb-123/321   \n",
              "1   h2  2023-05-06T23:55:00.673873Z  app/public-alb-123/321   \n",
              "2   h2  2023-05-06T23:55:02.529489Z  app/public-alb-123/321   \n",
              "3   h2  2023-05-06T23:55:02.947010Z  app/public-alb-123/321   \n",
              "4   h2  2023-05-06T23:55:03.391870Z  app/public-alb-123/321   \n",
              "\n",
              "             client_port           target_port  request_processing_time  \\\n",
              "0    174.58.39.113:55205  90.128.202.176:56383                    0.001   \n",
              "1     2.25.225.199:54463  90.128.202.176:56383                    0.001   \n",
              "2    174.58.39.113:55205  90.128.202.176:56383                    0.000   \n",
              "3   101.184.34.124:57343  90.128.202.176:56383                    0.000   \n",
              "4  134.215.147.200:58231  90.128.202.176:56383                    0.001   \n",
              "\n",
              "   target_processing_time  response_processing_time  elb_status_code  \\\n",
              "0                   0.192                       0.0              200   \n",
              "1                   0.167                       0.0              200   \n",
              "2                   0.218                       0.0              200   \n",
              "3                   0.239                       0.0              200   \n",
              "4                   0.185                       0.0              200   \n",
              "\n",
              "  target_status_code  ...                                  chosen_cert_arn  \\\n",
              "0                200  ...  arn:aws:acm:us-east-1:1337:certificate/12345678   \n",
              "1                200  ...  arn:aws:acm:us-east-1:1337:certificate/12345678   \n",
              "2                200  ...  arn:aws:acm:us-east-1:1337:certificate/12345678   \n",
              "3                200  ...  arn:aws:acm:us-east-1:1337:certificate/12345678   \n",
              "4                200  ...                                   session-reused   \n",
              "\n",
              "   matched_rule_priority        request_creation_time actions_executed  \\\n",
              "0                   1660  2023-05-06T23:55:00.774000Z          forward   \n",
              "1                   1660  2023-05-06T23:55:00.505000Z          forward   \n",
              "2                   1660  2023-05-06T23:55:02.310000Z          forward   \n",
              "3                   1660  2023-05-06T23:55:02.707000Z          forward   \n",
              "4                   1660  2023-05-06T23:55:03.206000Z          forward   \n",
              "\n",
              "  redirect_url error_reason     target_port_list target_status_code_list  \\\n",
              "0            -            -  172.32.201.214:9090                     200   \n",
              "1            -            -  172.32.201.214:9090                     200   \n",
              "2            -            -  172.32.163.158:9090                     200   \n",
              "3            -            -  172.32.163.158:9090                     200   \n",
              "4            -            -  172.32.201.214:9090                     200   \n",
              "\n",
              "  classification classification_reason  \n",
              "0              -                     -  \n",
              "1              -                     -  \n",
              "2              -                     -  \n",
              "3              -                     -  \n",
              "4              -                     -  \n",
              "\n",
              "[5 rows x 29 columns]"
            ]
          },
          "execution_count": 16,
          "metadata": {},
          "output_type": "execute_result"
        }
      ],
      "source": [
        "alb_logs_20230507_df = read_data(\"alb-logs-20230507.csv\")\n",
        "alb_logs_20230507_df.head()"
      ]
    },
    {
      "cell_type": "code",
      "execution_count": 17,
      "metadata": {
        "id": "MC6V5yJ_qSWU",
        "outputId": "34c976d7-1cd5-4972-b3d6-e5ef57172fa1"
      },
      "outputs": [
        {
          "data": {
            "text/plain": [
              "(407912, 29)"
            ]
          },
          "execution_count": 17,
          "metadata": {},
          "output_type": "execute_result"
        }
      ],
      "source": [
        "alb_logs_20230507_df.shape"
      ]
    },
    {
      "cell_type": "code",
      "execution_count": 18,
      "metadata": {
        "id": "dRXtyMS2qSWU",
        "outputId": "3b87b661-c614-4c3d-d30a-ebc02fd1be70"
      },
      "outputs": [
        {
          "name": "stdout",
          "output_type": "stream",
          "text": [
            "<class 'pandas.core.frame.DataFrame'>\n",
            "RangeIndex: 407912 entries, 0 to 407911\n",
            "Columns: 29 entries, type to classification_reason\n",
            "dtypes: float64(3), int64(4), object(22)\n",
            "memory usage: 704.7 MB\n"
          ]
        }
      ],
      "source": [
        "alb_logs_20230507_df.info(verbose=False, memory_usage=\"deep\")"
      ]
    },
    {
      "cell_type": "code",
      "execution_count": 19,
      "metadata": {
        "id": "mdLGUfPAqSWU",
        "outputId": "5063f53f-66fc-4ed6-c349-586d23289b8d"
      },
      "outputs": [
        {
          "data": {
            "text/html": [
              "<div>\n",
              "<style scoped>\n",
              "    .dataframe tbody tr th:only-of-type {\n",
              "        vertical-align: middle;\n",
              "    }\n",
              "\n",
              "    .dataframe tbody tr th {\n",
              "        vertical-align: top;\n",
              "    }\n",
              "\n",
              "    .dataframe thead th {\n",
              "        text-align: right;\n",
              "    }\n",
              "</style>\n",
              "<table border=\"1\" class=\"dataframe\">\n",
              "  <thead>\n",
              "    <tr style=\"text-align: right;\">\n",
              "      <th></th>\n",
              "      <th>type</th>\n",
              "      <th>time</th>\n",
              "      <th>elb</th>\n",
              "      <th>client_port</th>\n",
              "      <th>target_port</th>\n",
              "      <th>request_processing_time</th>\n",
              "      <th>target_processing_time</th>\n",
              "      <th>response_processing_time</th>\n",
              "      <th>elb_status_code</th>\n",
              "      <th>target_status_code</th>\n",
              "      <th>...</th>\n",
              "      <th>chosen_cert_arn</th>\n",
              "      <th>matched_rule_priority</th>\n",
              "      <th>request_creation_time</th>\n",
              "      <th>actions_executed</th>\n",
              "      <th>redirect_url</th>\n",
              "      <th>error_reason</th>\n",
              "      <th>target_port_list</th>\n",
              "      <th>target_status_code_list</th>\n",
              "      <th>classification</th>\n",
              "      <th>classification_reason</th>\n",
              "    </tr>\n",
              "  </thead>\n",
              "  <tbody>\n",
              "    <tr>\n",
              "      <th>0</th>\n",
              "      <td>h2</td>\n",
              "      <td>2023-05-07T23:55:00.876785Z</td>\n",
              "      <td>app/public-alb-123/321</td>\n",
              "      <td>24.4.225.92:57628</td>\n",
              "      <td>89.14.84.181:56673</td>\n",
              "      <td>0.001</td>\n",
              "      <td>0.175</td>\n",
              "      <td>0.0</td>\n",
              "      <td>200</td>\n",
              "      <td>200</td>\n",
              "      <td>...</td>\n",
              "      <td>arn:aws:acm:us-east-1:1337:certificate/12345678</td>\n",
              "      <td>1660</td>\n",
              "      <td>2023-05-07T23:55:00.701000Z</td>\n",
              "      <td>forward</td>\n",
              "      <td>-</td>\n",
              "      <td>-</td>\n",
              "      <td>172.32.201.214:9090</td>\n",
              "      <td>200</td>\n",
              "      <td>-</td>\n",
              "      <td>-</td>\n",
              "    </tr>\n",
              "    <tr>\n",
              "      <th>1</th>\n",
              "      <td>h2</td>\n",
              "      <td>2023-05-07T23:55:01.232898Z</td>\n",
              "      <td>app/public-alb-123/321</td>\n",
              "      <td>68.3.176.126:53034</td>\n",
              "      <td>89.14.84.181:56673</td>\n",
              "      <td>0.000</td>\n",
              "      <td>0.237</td>\n",
              "      <td>0.0</td>\n",
              "      <td>200</td>\n",
              "      <td>200</td>\n",
              "      <td>...</td>\n",
              "      <td>arn:aws:acm:us-east-1:1337:certificate/12345678</td>\n",
              "      <td>1660</td>\n",
              "      <td>2023-05-07T23:55:00.994000Z</td>\n",
              "      <td>forward</td>\n",
              "      <td>-</td>\n",
              "      <td>-</td>\n",
              "      <td>172.32.163.158:9090</td>\n",
              "      <td>200</td>\n",
              "      <td>-</td>\n",
              "      <td>-</td>\n",
              "    </tr>\n",
              "    <tr>\n",
              "      <th>2</th>\n",
              "      <td>h2</td>\n",
              "      <td>2023-05-07T23:55:01.523544Z</td>\n",
              "      <td>app/public-alb-123/321</td>\n",
              "      <td>141.155.142.218:57793</td>\n",
              "      <td>89.14.84.181:56673</td>\n",
              "      <td>0.001</td>\n",
              "      <td>0.229</td>\n",
              "      <td>0.0</td>\n",
              "      <td>200</td>\n",
              "      <td>200</td>\n",
              "      <td>...</td>\n",
              "      <td>arn:aws:acm:us-east-1:1337:certificate/12345678</td>\n",
              "      <td>1660</td>\n",
              "      <td>2023-05-07T23:55:01.293000Z</td>\n",
              "      <td>forward</td>\n",
              "      <td>-</td>\n",
              "      <td>-</td>\n",
              "      <td>172.32.201.214:9090</td>\n",
              "      <td>200</td>\n",
              "      <td>-</td>\n",
              "      <td>-</td>\n",
              "    </tr>\n",
              "    <tr>\n",
              "      <th>3</th>\n",
              "      <td>h2</td>\n",
              "      <td>2023-05-07T23:55:02.086095Z</td>\n",
              "      <td>app/public-alb-123/321</td>\n",
              "      <td>136.53.116.70:64371</td>\n",
              "      <td>89.14.84.181:56673</td>\n",
              "      <td>0.001</td>\n",
              "      <td>0.615</td>\n",
              "      <td>0.0</td>\n",
              "      <td>200</td>\n",
              "      <td>200</td>\n",
              "      <td>...</td>\n",
              "      <td>arn:aws:acm:us-east-1:1337:certificate/12345678</td>\n",
              "      <td>1660</td>\n",
              "      <td>2023-05-07T23:55:01.470000Z</td>\n",
              "      <td>forward</td>\n",
              "      <td>-</td>\n",
              "      <td>-</td>\n",
              "      <td>172.32.163.158:9090</td>\n",
              "      <td>200</td>\n",
              "      <td>-</td>\n",
              "      <td>-</td>\n",
              "    </tr>\n",
              "    <tr>\n",
              "      <th>4</th>\n",
              "      <td>h2</td>\n",
              "      <td>2023-05-07T23:55:03.317911Z</td>\n",
              "      <td>app/public-alb-123/321</td>\n",
              "      <td>107.116.79.117:53685</td>\n",
              "      <td>89.14.84.181:56673</td>\n",
              "      <td>0.001</td>\n",
              "      <td>0.193</td>\n",
              "      <td>0.0</td>\n",
              "      <td>200</td>\n",
              "      <td>200</td>\n",
              "      <td>...</td>\n",
              "      <td>arn:aws:acm:us-east-1:1337:certificate/12345678</td>\n",
              "      <td>1660</td>\n",
              "      <td>2023-05-07T23:55:03.123000Z</td>\n",
              "      <td>forward</td>\n",
              "      <td>-</td>\n",
              "      <td>-</td>\n",
              "      <td>172.32.201.214:9090</td>\n",
              "      <td>200</td>\n",
              "      <td>-</td>\n",
              "      <td>-</td>\n",
              "    </tr>\n",
              "  </tbody>\n",
              "</table>\n",
              "<p>5 rows × 29 columns</p>\n",
              "</div>"
            ],
            "text/plain": [
              "  type                         time                     elb  \\\n",
              "0   h2  2023-05-07T23:55:00.876785Z  app/public-alb-123/321   \n",
              "1   h2  2023-05-07T23:55:01.232898Z  app/public-alb-123/321   \n",
              "2   h2  2023-05-07T23:55:01.523544Z  app/public-alb-123/321   \n",
              "3   h2  2023-05-07T23:55:02.086095Z  app/public-alb-123/321   \n",
              "4   h2  2023-05-07T23:55:03.317911Z  app/public-alb-123/321   \n",
              "\n",
              "             client_port         target_port  request_processing_time  \\\n",
              "0      24.4.225.92:57628  89.14.84.181:56673                    0.001   \n",
              "1     68.3.176.126:53034  89.14.84.181:56673                    0.000   \n",
              "2  141.155.142.218:57793  89.14.84.181:56673                    0.001   \n",
              "3    136.53.116.70:64371  89.14.84.181:56673                    0.001   \n",
              "4   107.116.79.117:53685  89.14.84.181:56673                    0.001   \n",
              "\n",
              "   target_processing_time  response_processing_time  elb_status_code  \\\n",
              "0                   0.175                       0.0              200   \n",
              "1                   0.237                       0.0              200   \n",
              "2                   0.229                       0.0              200   \n",
              "3                   0.615                       0.0              200   \n",
              "4                   0.193                       0.0              200   \n",
              "\n",
              "  target_status_code  ...                                  chosen_cert_arn  \\\n",
              "0                200  ...  arn:aws:acm:us-east-1:1337:certificate/12345678   \n",
              "1                200  ...  arn:aws:acm:us-east-1:1337:certificate/12345678   \n",
              "2                200  ...  arn:aws:acm:us-east-1:1337:certificate/12345678   \n",
              "3                200  ...  arn:aws:acm:us-east-1:1337:certificate/12345678   \n",
              "4                200  ...  arn:aws:acm:us-east-1:1337:certificate/12345678   \n",
              "\n",
              "   matched_rule_priority        request_creation_time actions_executed  \\\n",
              "0                   1660  2023-05-07T23:55:00.701000Z          forward   \n",
              "1                   1660  2023-05-07T23:55:00.994000Z          forward   \n",
              "2                   1660  2023-05-07T23:55:01.293000Z          forward   \n",
              "3                   1660  2023-05-07T23:55:01.470000Z          forward   \n",
              "4                   1660  2023-05-07T23:55:03.123000Z          forward   \n",
              "\n",
              "  redirect_url error_reason     target_port_list target_status_code_list  \\\n",
              "0            -            -  172.32.201.214:9090                     200   \n",
              "1            -            -  172.32.163.158:9090                     200   \n",
              "2            -            -  172.32.201.214:9090                     200   \n",
              "3            -            -  172.32.163.158:9090                     200   \n",
              "4            -            -  172.32.201.214:9090                     200   \n",
              "\n",
              "  classification classification_reason  \n",
              "0              -                     -  \n",
              "1              -                     -  \n",
              "2              -                     -  \n",
              "3              -                     -  \n",
              "4              -                     -  \n",
              "\n",
              "[5 rows x 29 columns]"
            ]
          },
          "execution_count": 19,
          "metadata": {},
          "output_type": "execute_result"
        }
      ],
      "source": [
        "alb_logs_20230508_df = read_data(\"alb-logs-20230508.csv\")\n",
        "alb_logs_20230508_df.head()"
      ]
    },
    {
      "cell_type": "code",
      "execution_count": 20,
      "metadata": {
        "id": "noVkOQXmqSWU",
        "outputId": "d0942768-7ebc-439f-b41c-4ef6989cd3d4"
      },
      "outputs": [
        {
          "data": {
            "text/plain": [
              "(454844, 29)"
            ]
          },
          "execution_count": 20,
          "metadata": {},
          "output_type": "execute_result"
        }
      ],
      "source": [
        "alb_logs_20230508_df.shape"
      ]
    },
    {
      "cell_type": "code",
      "execution_count": 21,
      "metadata": {
        "id": "z9r62XYfqSWU",
        "outputId": "f0b41b54-7a5f-4954-8e2e-c20a51b74743"
      },
      "outputs": [
        {
          "name": "stdout",
          "output_type": "stream",
          "text": [
            "<class 'pandas.core.frame.DataFrame'>\n",
            "RangeIndex: 454844 entries, 0 to 454843\n",
            "Columns: 29 entries, type to classification_reason\n",
            "dtypes: float64(3), int64(4), object(22)\n",
            "memory usage: 785.0 MB\n"
          ]
        }
      ],
      "source": [
        "alb_logs_20230508_df.info(verbose=False, memory_usage=\"deep\")"
      ]
    },
    {
      "cell_type": "code",
      "execution_count": 22,
      "metadata": {
        "id": "MwT62VoBqSWV",
        "outputId": "e11def91-dabb-4a18-9bf0-466715be5be8"
      },
      "outputs": [
        {
          "name": "stderr",
          "output_type": "stream",
          "text": [
            "/var/folders/bx/p1dzn6l159n6mrzq69ybb3340000gn/T/ipykernel_1462/2062051008.py:2: DtypeWarning: Columns (20) have mixed types. Specify dtype option on import or set low_memory=False.\n",
            "  csv_file_df = pd.read_csv(csv_file, sep=\" \", header=0)\n"
          ]
        },
        {
          "data": {
            "text/html": [
              "<div>\n",
              "<style scoped>\n",
              "    .dataframe tbody tr th:only-of-type {\n",
              "        vertical-align: middle;\n",
              "    }\n",
              "\n",
              "    .dataframe tbody tr th {\n",
              "        vertical-align: top;\n",
              "    }\n",
              "\n",
              "    .dataframe thead th {\n",
              "        text-align: right;\n",
              "    }\n",
              "</style>\n",
              "<table border=\"1\" class=\"dataframe\">\n",
              "  <thead>\n",
              "    <tr style=\"text-align: right;\">\n",
              "      <th></th>\n",
              "      <th>type</th>\n",
              "      <th>time</th>\n",
              "      <th>elb</th>\n",
              "      <th>client_port</th>\n",
              "      <th>target_port</th>\n",
              "      <th>request_processing_time</th>\n",
              "      <th>target_processing_time</th>\n",
              "      <th>response_processing_time</th>\n",
              "      <th>elb_status_code</th>\n",
              "      <th>target_status_code</th>\n",
              "      <th>...</th>\n",
              "      <th>chosen_cert_arn</th>\n",
              "      <th>matched_rule_priority</th>\n",
              "      <th>request_creation_time</th>\n",
              "      <th>actions_executed</th>\n",
              "      <th>redirect_url</th>\n",
              "      <th>error_reason</th>\n",
              "      <th>target_port_list</th>\n",
              "      <th>target_status_code_list</th>\n",
              "      <th>classification</th>\n",
              "      <th>classification_reason</th>\n",
              "    </tr>\n",
              "  </thead>\n",
              "  <tbody>\n",
              "    <tr>\n",
              "      <th>0</th>\n",
              "      <td>h2</td>\n",
              "      <td>2023-05-08T23:55:00.959261Z</td>\n",
              "      <td>app/public-alb-123/321</td>\n",
              "      <td>71.184.224.12:60316</td>\n",
              "      <td>188.56.153.103:35108</td>\n",
              "      <td>0.000</td>\n",
              "      <td>0.206</td>\n",
              "      <td>0.0</td>\n",
              "      <td>200</td>\n",
              "      <td>200</td>\n",
              "      <td>...</td>\n",
              "      <td>arn:aws:acm:us-east-1:1337:certificate/12345678</td>\n",
              "      <td>1660</td>\n",
              "      <td>2023-05-08T23:55:00.753000Z</td>\n",
              "      <td>forward</td>\n",
              "      <td>-</td>\n",
              "      <td>-</td>\n",
              "      <td>172.32.197.210:9090</td>\n",
              "      <td>200</td>\n",
              "      <td>-</td>\n",
              "      <td>-</td>\n",
              "    </tr>\n",
              "    <tr>\n",
              "      <th>1</th>\n",
              "      <td>h2</td>\n",
              "      <td>2023-05-08T23:55:01.869956Z</td>\n",
              "      <td>app/public-alb-123/321</td>\n",
              "      <td>104.171.82.236:57117</td>\n",
              "      <td>188.56.153.103:35108</td>\n",
              "      <td>0.000</td>\n",
              "      <td>0.214</td>\n",
              "      <td>0.0</td>\n",
              "      <td>200</td>\n",
              "      <td>200</td>\n",
              "      <td>...</td>\n",
              "      <td>arn:aws:acm:us-east-1:1337:certificate/12345678</td>\n",
              "      <td>1660</td>\n",
              "      <td>2023-05-08T23:55:01.655000Z</td>\n",
              "      <td>forward</td>\n",
              "      <td>-</td>\n",
              "      <td>-</td>\n",
              "      <td>172.32.197.210:9090</td>\n",
              "      <td>200</td>\n",
              "      <td>-</td>\n",
              "      <td>-</td>\n",
              "    </tr>\n",
              "    <tr>\n",
              "      <th>2</th>\n",
              "      <td>h2</td>\n",
              "      <td>2023-05-08T23:55:02.385119Z</td>\n",
              "      <td>app/public-alb-123/321</td>\n",
              "      <td>24.59.91.45:57993</td>\n",
              "      <td>188.56.153.103:35108</td>\n",
              "      <td>0.001</td>\n",
              "      <td>0.202</td>\n",
              "      <td>0.0</td>\n",
              "      <td>200</td>\n",
              "      <td>200</td>\n",
              "      <td>...</td>\n",
              "      <td>arn:aws:acm:us-east-1:1337:certificate/12345678</td>\n",
              "      <td>1660</td>\n",
              "      <td>2023-05-08T23:55:02.182000Z</td>\n",
              "      <td>forward</td>\n",
              "      <td>-</td>\n",
              "      <td>-</td>\n",
              "      <td>172.32.174.122:9090</td>\n",
              "      <td>200</td>\n",
              "      <td>-</td>\n",
              "      <td>-</td>\n",
              "    </tr>\n",
              "    <tr>\n",
              "      <th>3</th>\n",
              "      <td>h2</td>\n",
              "      <td>2023-05-08T23:55:02.562282Z</td>\n",
              "      <td>app/public-alb-123/321</td>\n",
              "      <td>137.186.167.234:65231</td>\n",
              "      <td>188.56.153.103:35108</td>\n",
              "      <td>0.000</td>\n",
              "      <td>0.200</td>\n",
              "      <td>0.0</td>\n",
              "      <td>200</td>\n",
              "      <td>200</td>\n",
              "      <td>...</td>\n",
              "      <td>arn:aws:acm:us-east-1:1337:certificate/12345678</td>\n",
              "      <td>1660</td>\n",
              "      <td>2023-05-08T23:55:02.362000Z</td>\n",
              "      <td>forward</td>\n",
              "      <td>-</td>\n",
              "      <td>-</td>\n",
              "      <td>172.32.197.210:9090</td>\n",
              "      <td>200</td>\n",
              "      <td>-</td>\n",
              "      <td>-</td>\n",
              "    </tr>\n",
              "    <tr>\n",
              "      <th>4</th>\n",
              "      <td>h2</td>\n",
              "      <td>2023-05-08T23:55:02.442619Z</td>\n",
              "      <td>app/public-alb-123/321</td>\n",
              "      <td>65.24.86.212:63212</td>\n",
              "      <td>188.56.153.103:35108</td>\n",
              "      <td>0.000</td>\n",
              "      <td>0.426</td>\n",
              "      <td>0.0</td>\n",
              "      <td>200</td>\n",
              "      <td>200</td>\n",
              "      <td>...</td>\n",
              "      <td>arn:aws:acm:us-east-1:1337:certificate/12345678</td>\n",
              "      <td>1660</td>\n",
              "      <td>2023-05-08T23:55:02.016000Z</td>\n",
              "      <td>forward</td>\n",
              "      <td>-</td>\n",
              "      <td>-</td>\n",
              "      <td>172.32.213.203:9090</td>\n",
              "      <td>200</td>\n",
              "      <td>-</td>\n",
              "      <td>-</td>\n",
              "    </tr>\n",
              "  </tbody>\n",
              "</table>\n",
              "<p>5 rows × 29 columns</p>\n",
              "</div>"
            ],
            "text/plain": [
              "  type                         time                     elb  \\\n",
              "0   h2  2023-05-08T23:55:00.959261Z  app/public-alb-123/321   \n",
              "1   h2  2023-05-08T23:55:01.869956Z  app/public-alb-123/321   \n",
              "2   h2  2023-05-08T23:55:02.385119Z  app/public-alb-123/321   \n",
              "3   h2  2023-05-08T23:55:02.562282Z  app/public-alb-123/321   \n",
              "4   h2  2023-05-08T23:55:02.442619Z  app/public-alb-123/321   \n",
              "\n",
              "             client_port           target_port  request_processing_time  \\\n",
              "0    71.184.224.12:60316  188.56.153.103:35108                    0.000   \n",
              "1   104.171.82.236:57117  188.56.153.103:35108                    0.000   \n",
              "2      24.59.91.45:57993  188.56.153.103:35108                    0.001   \n",
              "3  137.186.167.234:65231  188.56.153.103:35108                    0.000   \n",
              "4     65.24.86.212:63212  188.56.153.103:35108                    0.000   \n",
              "\n",
              "   target_processing_time  response_processing_time  elb_status_code  \\\n",
              "0                   0.206                       0.0              200   \n",
              "1                   0.214                       0.0              200   \n",
              "2                   0.202                       0.0              200   \n",
              "3                   0.200                       0.0              200   \n",
              "4                   0.426                       0.0              200   \n",
              "\n",
              "  target_status_code  ...                                  chosen_cert_arn  \\\n",
              "0                200  ...  arn:aws:acm:us-east-1:1337:certificate/12345678   \n",
              "1                200  ...  arn:aws:acm:us-east-1:1337:certificate/12345678   \n",
              "2                200  ...  arn:aws:acm:us-east-1:1337:certificate/12345678   \n",
              "3                200  ...  arn:aws:acm:us-east-1:1337:certificate/12345678   \n",
              "4                200  ...  arn:aws:acm:us-east-1:1337:certificate/12345678   \n",
              "\n",
              "   matched_rule_priority        request_creation_time actions_executed  \\\n",
              "0                   1660  2023-05-08T23:55:00.753000Z          forward   \n",
              "1                   1660  2023-05-08T23:55:01.655000Z          forward   \n",
              "2                   1660  2023-05-08T23:55:02.182000Z          forward   \n",
              "3                   1660  2023-05-08T23:55:02.362000Z          forward   \n",
              "4                   1660  2023-05-08T23:55:02.016000Z          forward   \n",
              "\n",
              "  redirect_url error_reason     target_port_list target_status_code_list  \\\n",
              "0            -            -  172.32.197.210:9090                     200   \n",
              "1            -            -  172.32.197.210:9090                     200   \n",
              "2            -            -  172.32.174.122:9090                     200   \n",
              "3            -            -  172.32.197.210:9090                     200   \n",
              "4            -            -  172.32.213.203:9090                     200   \n",
              "\n",
              "  classification classification_reason  \n",
              "0              -                     -  \n",
              "1              -                     -  \n",
              "2              -                     -  \n",
              "3              -                     -  \n",
              "4              -                     -  \n",
              "\n",
              "[5 rows x 29 columns]"
            ]
          },
          "execution_count": 22,
          "metadata": {},
          "output_type": "execute_result"
        }
      ],
      "source": [
        "alb_logs_20230509_df = read_data(\"alb-logs-20230509.csv\")\n",
        "alb_logs_20230509_df.head()"
      ]
    },
    {
      "cell_type": "code",
      "execution_count": 23,
      "metadata": {
        "id": "38IABSlPqSWV",
        "outputId": "fda0f387-57ae-4c86-be12-72949845787c"
      },
      "outputs": [
        {
          "data": {
            "text/plain": [
              "(468928, 29)"
            ]
          },
          "execution_count": 23,
          "metadata": {},
          "output_type": "execute_result"
        }
      ],
      "source": [
        "alb_logs_20230509_df.shape"
      ]
    },
    {
      "cell_type": "code",
      "execution_count": 24,
      "metadata": {
        "id": "eDHXwcRyqSWV",
        "outputId": "8384e36f-c51f-4082-db86-889ad4d188fd"
      },
      "outputs": [
        {
          "name": "stdout",
          "output_type": "stream",
          "text": [
            "<class 'pandas.core.frame.DataFrame'>\n",
            "RangeIndex: 468928 entries, 0 to 468927\n",
            "Columns: 29 entries, type to classification_reason\n",
            "dtypes: float64(3), int64(3), object(23)\n",
            "memory usage: 825.2 MB\n"
          ]
        }
      ],
      "source": [
        "alb_logs_20230509_df.info(verbose=False, memory_usage=\"deep\")"
      ]
    },
    {
      "cell_type": "markdown",
      "metadata": {
        "id": "eYX1hAoIqSWV"
      },
      "source": [
        "## Data preprocessing"
      ]
    },
    {
      "cell_type": "markdown",
      "metadata": {
        "id": "pYfcLRWdqSWV"
      },
      "source": [
        "## alb_logs_20230503"
      ]
    },
    {
      "cell_type": "code",
      "execution_count": 25,
      "metadata": {
        "id": "03muKC4BqSWV",
        "outputId": "cba96055-1977-476e-ca28-670e6814956f"
      },
      "outputs": [
        {
          "data": {
            "text/plain": [
              "0   2023-05-02 23:55:00.853383\n",
              "1   2023-05-02 23:55:00.909122\n",
              "2   2023-05-02 23:55:01.979531\n",
              "3   2023-05-02 23:55:02.052758\n",
              "4   2023-05-02 23:55:02.551542\n",
              "Name: time, dtype: datetime64[ns]"
            ]
          },
          "execution_count": 25,
          "metadata": {},
          "output_type": "execute_result"
        }
      ],
      "source": [
        "alb_logs_20230503_df.time = pd.to_datetime(alb_logs_20230503_df.time).dt.tz_convert(None)\n",
        "alb_logs_20230503_df.time.head()"
      ]
    },
    {
      "cell_type": "code",
      "execution_count": 26,
      "metadata": {
        "id": "AvoTgGoVqSWV",
        "outputId": "9a914a7b-da94-4d61-8fe0-1ea77ae9a9e1"
      },
      "outputs": [
        {
          "data": {
            "text/plain": [
              "classification_reason    5\n",
              "dtype: int64"
            ]
          },
          "execution_count": 26,
          "metadata": {},
          "output_type": "execute_result"
        }
      ],
      "source": [
        "alb_logs_20230503_df_nans = alb_logs_20230503_df.isna().sum()\n",
        "alb_logs_20230503_df_nans[alb_logs_20230503_df_nans > 0]"
      ]
    },
    {
      "cell_type": "code",
      "execution_count": 27,
      "metadata": {
        "id": "CPHBUFUsqSWW",
        "outputId": "5c25a346-5894-4616-9ad0-b1a6ad994470"
      },
      "outputs": [
        {
          "data": {
            "text/plain": [
              "0    -\n",
              "1    -\n",
              "2    -\n",
              "3    -\n",
              "4    -\n",
              "Name: classification_reason, dtype: object"
            ]
          },
          "execution_count": 27,
          "metadata": {},
          "output_type": "execute_result"
        }
      ],
      "source": [
        "alb_logs_20230503_df.classification_reason.head()"
      ]
    },
    {
      "cell_type": "code",
      "execution_count": 28,
      "metadata": {
        "id": "DfGmZaBXqSWW",
        "outputId": "e0da9601-970c-4464-e9c0-79c553a3405e"
      },
      "outputs": [
        {
          "data": {
            "text/plain": [
              "50716     NaN\n",
              "198864    NaN\n",
              "200203    NaN\n",
              "272596    NaN\n",
              "325480    NaN\n",
              "Name: classification_reason, dtype: object"
            ]
          },
          "execution_count": 28,
          "metadata": {},
          "output_type": "execute_result"
        }
      ],
      "source": [
        "alb_logs_20230503_df.classification_reason[alb_logs_20230503_df.classification_reason != '-']"
      ]
    },
    {
      "cell_type": "code",
      "execution_count": 29,
      "metadata": {
        "id": "XvrV_dnhqSWW"
      },
      "outputs": [],
      "source": [
        "alb_logs_20230503_df.drop(labels=[\"classification_reason\"], axis=1, inplace=True)"
      ]
    },
    {
      "cell_type": "code",
      "execution_count": 30,
      "metadata": {
        "id": "zHlRzpRDqSWW"
      },
      "outputs": [],
      "source": [
        "def drop_zero_variance_columns(df):\n",
        "    for column in df.columns:\n",
        "        if len(np.unique(df[column])) == 1:\n",
        "            df.drop(column, axis=1, inplace=True)"
      ]
    },
    {
      "cell_type": "code",
      "execution_count": 31,
      "metadata": {
        "id": "9BGYi33vqSWW",
        "outputId": "da3934c9-6155-4d3e-c189-02496e7f86df"
      },
      "outputs": [
        {
          "data": {
            "text/plain": [
              "(434227, 25)"
            ]
          },
          "execution_count": 31,
          "metadata": {},
          "output_type": "execute_result"
        }
      ],
      "source": [
        "drop_zero_variance_columns(alb_logs_20230503_df)\n",
        "alb_logs_20230503_df.shape"
      ]
    },
    {
      "cell_type": "markdown",
      "metadata": {
        "id": "aZKXBX3cqSWW"
      },
      "source": [
        "## alb_logs_20230504"
      ]
    },
    {
      "cell_type": "code",
      "execution_count": 32,
      "metadata": {
        "id": "BpsC0--9qSWW",
        "outputId": "39aa400d-8971-494c-bf06-9c48c7db8ef3"
      },
      "outputs": [
        {
          "data": {
            "text/plain": [
              "0   2023-05-03 23:55:00.936341\n",
              "1   2023-05-03 23:55:00.980508\n",
              "2   2023-05-03 23:55:01.031178\n",
              "3   2023-05-03 23:55:01.230494\n",
              "4   2023-05-03 23:55:01.504385\n",
              "Name: time, dtype: datetime64[ns]"
            ]
          },
          "execution_count": 32,
          "metadata": {},
          "output_type": "execute_result"
        }
      ],
      "source": [
        "alb_logs_20230504_df.time = pd.to_datetime(alb_logs_20230504_df.time).dt.tz_convert(None)\n",
        "alb_logs_20230504_df.time.head()"
      ]
    },
    {
      "cell_type": "code",
      "execution_count": 33,
      "metadata": {
        "id": "f38rpKcyqSWW",
        "outputId": "62ec9f73-cd90-4323-bc05-a395292b1060"
      },
      "outputs": [
        {
          "data": {
            "text/plain": [
              "classification_reason    1\n",
              "dtype: int64"
            ]
          },
          "execution_count": 33,
          "metadata": {},
          "output_type": "execute_result"
        }
      ],
      "source": [
        "alb_logs_20230504_df_nans = alb_logs_20230504_df.isna().sum()\n",
        "alb_logs_20230504_df_nans[alb_logs_20230504_df_nans > 0]"
      ]
    },
    {
      "cell_type": "code",
      "execution_count": 34,
      "metadata": {
        "id": "oH-3HrG9qSWX",
        "outputId": "636e375f-d6a5-4eb0-a92f-821e064367a1"
      },
      "outputs": [
        {
          "data": {
            "text/plain": [
              "0    -\n",
              "1    -\n",
              "2    -\n",
              "3    -\n",
              "4    -\n",
              "Name: classification_reason, dtype: object"
            ]
          },
          "execution_count": 34,
          "metadata": {},
          "output_type": "execute_result"
        }
      ],
      "source": [
        "alb_logs_20230504_df.classification_reason.head()"
      ]
    },
    {
      "cell_type": "code",
      "execution_count": 35,
      "metadata": {
        "id": "KgXzrx43qSWX",
        "outputId": "89ba9f28-901b-4ca5-ea9a-1d820b9e5d4a"
      },
      "outputs": [
        {
          "data": {
            "text/plain": [
              "287932    NaN\n",
              "Name: classification_reason, dtype: object"
            ]
          },
          "execution_count": 35,
          "metadata": {},
          "output_type": "execute_result"
        }
      ],
      "source": [
        "alb_logs_20230504_df.classification_reason[alb_logs_20230504_df.classification_reason != '-']"
      ]
    },
    {
      "cell_type": "code",
      "execution_count": 36,
      "metadata": {
        "id": "_hBefYIUqSWX"
      },
      "outputs": [],
      "source": [
        "alb_logs_20230504_df.drop(labels=[\"classification_reason\"], axis=1, inplace=True)"
      ]
    },
    {
      "cell_type": "code",
      "execution_count": 37,
      "metadata": {
        "id": "AqYY19TBqSWY",
        "outputId": "ee417e68-64b3-47ed-f2fd-f788aa1af97a"
      },
      "outputs": [
        {
          "data": {
            "text/plain": [
              "(430616, 25)"
            ]
          },
          "execution_count": 37,
          "metadata": {},
          "output_type": "execute_result"
        }
      ],
      "source": [
        "drop_zero_variance_columns(alb_logs_20230504_df)\n",
        "alb_logs_20230504_df.shape"
      ]
    },
    {
      "cell_type": "markdown",
      "metadata": {
        "id": "fcIWBeHdqSWY"
      },
      "source": [
        "## alb_logs_20230505"
      ]
    },
    {
      "cell_type": "code",
      "execution_count": 38,
      "metadata": {
        "id": "ykAFL-tLqSWY",
        "outputId": "9b8cea92-e1a2-4c21-9fd7-39e1cde118d4"
      },
      "outputs": [
        {
          "data": {
            "text/plain": [
              "0   2023-05-04 23:55:01.395623\n",
              "1   2023-05-04 23:55:02.192334\n",
              "2   2023-05-04 23:55:02.937865\n",
              "3   2023-05-04 23:55:03.092185\n",
              "4   2023-05-04 23:55:03.147868\n",
              "Name: time, dtype: datetime64[ns]"
            ]
          },
          "execution_count": 38,
          "metadata": {},
          "output_type": "execute_result"
        }
      ],
      "source": [
        "alb_logs_20230505_df.time = pd.to_datetime(alb_logs_20230505_df.time).dt.tz_convert(None)\n",
        "alb_logs_20230505_df.time.head()"
      ]
    },
    {
      "cell_type": "code",
      "execution_count": 39,
      "metadata": {
        "id": "eDkqPsCBqSWY",
        "outputId": "d2438556-fad4-41e1-c328-23b562ff919d"
      },
      "outputs": [
        {
          "data": {
            "text/plain": [
              "classification_reason    4\n",
              "dtype: int64"
            ]
          },
          "execution_count": 39,
          "metadata": {},
          "output_type": "execute_result"
        }
      ],
      "source": [
        "alb_logs_20230505_df_nans = alb_logs_20230505_df.isna().sum()\n",
        "alb_logs_20230505_df_nans[alb_logs_20230505_df_nans > 0]"
      ]
    },
    {
      "cell_type": "code",
      "execution_count": 40,
      "metadata": {
        "id": "t2-MaFVJqSWY",
        "outputId": "3a90b84d-1a16-4786-eeaa-df647f936a17"
      },
      "outputs": [
        {
          "data": {
            "text/plain": [
              "0    -\n",
              "1    -\n",
              "2    -\n",
              "3    -\n",
              "4    -\n",
              "Name: classification_reason, dtype: object"
            ]
          },
          "execution_count": 40,
          "metadata": {},
          "output_type": "execute_result"
        }
      ],
      "source": [
        "alb_logs_20230505_df.classification_reason.head()"
      ]
    },
    {
      "cell_type": "code",
      "execution_count": 41,
      "metadata": {
        "id": "KoCc6cCJqSWY",
        "outputId": "173fa445-41e0-4d89-a61e-713797f4447d"
      },
      "outputs": [
        {
          "data": {
            "text/plain": [
              "109920                                NaN\n",
              "116993                                NaN\n",
              "121921                                NaN\n",
              "277064                                NaN\n",
              "312239    UndefinedContentLengthSemantics\n",
              "Name: classification_reason, dtype: object"
            ]
          },
          "execution_count": 41,
          "metadata": {},
          "output_type": "execute_result"
        }
      ],
      "source": [
        "alb_logs_20230505_df.classification_reason[alb_logs_20230505_df.classification_reason != '-']"
      ]
    },
    {
      "cell_type": "code",
      "execution_count": 42,
      "metadata": {
        "id": "TKW6K9-6qSWZ"
      },
      "outputs": [],
      "source": [
        "alb_logs_20230505_df.drop(labels=[\"classification_reason\"], axis=1, inplace=True)"
      ]
    },
    {
      "cell_type": "code",
      "execution_count": 43,
      "metadata": {
        "id": "6Koj3kFlqSWZ",
        "outputId": "a11f19f5-73a0-4a4c-9f1b-4f247a409b97"
      },
      "outputs": [
        {
          "data": {
            "text/plain": [
              "(408711, 26)"
            ]
          },
          "execution_count": 43,
          "metadata": {},
          "output_type": "execute_result"
        }
      ],
      "source": [
        "drop_zero_variance_columns(alb_logs_20230505_df)\n",
        "alb_logs_20230505_df.shape"
      ]
    },
    {
      "cell_type": "markdown",
      "metadata": {
        "id": "zaC17woxqSWZ"
      },
      "source": [
        "## alb_logs_20230506"
      ]
    },
    {
      "cell_type": "code",
      "execution_count": 44,
      "metadata": {
        "id": "FgwYNjNSqSWZ",
        "outputId": "35579711-4e47-4281-bb19-2de115fbd824"
      },
      "outputs": [
        {
          "data": {
            "text/plain": [
              "0   2023-05-05 23:55:01.722333\n",
              "1   2023-05-05 23:55:01.272426\n",
              "2   2023-05-05 23:55:02.580559\n",
              "3   2023-05-05 23:55:02.073443\n",
              "4   2023-05-05 23:55:02.190610\n",
              "Name: time, dtype: datetime64[ns]"
            ]
          },
          "execution_count": 44,
          "metadata": {},
          "output_type": "execute_result"
        }
      ],
      "source": [
        "alb_logs_20230506_df.time = pd.to_datetime(alb_logs_20230506_df.time).dt.tz_convert(None)\n",
        "alb_logs_20230506_df.time.head()"
      ]
    },
    {
      "cell_type": "code",
      "execution_count": 45,
      "metadata": {
        "id": "iquZgfCmqSWZ",
        "outputId": "104f27ff-de2b-42d7-9a18-ce1c8c424b1e"
      },
      "outputs": [
        {
          "data": {
            "text/plain": [
              "Series([], dtype: int64)"
            ]
          },
          "execution_count": 45,
          "metadata": {},
          "output_type": "execute_result"
        }
      ],
      "source": [
        "alb_logs_20230506_df_nans = alb_logs_20230506_df.isna().sum()\n",
        "alb_logs_20230506_df_nans[alb_logs_20230506_df_nans > 0]"
      ]
    },
    {
      "cell_type": "code",
      "execution_count": 46,
      "metadata": {
        "id": "8laXEa_xqSWZ",
        "outputId": "213c1362-3148-4119-8dd1-c8cce0e6b1fa"
      },
      "outputs": [
        {
          "data": {
            "text/plain": [
              "(406055, 25)"
            ]
          },
          "execution_count": 46,
          "metadata": {},
          "output_type": "execute_result"
        }
      ],
      "source": [
        "drop_zero_variance_columns(alb_logs_20230506_df)\n",
        "alb_logs_20230506_df.shape"
      ]
    },
    {
      "cell_type": "markdown",
      "metadata": {
        "id": "guVA1brlqSWa"
      },
      "source": [
        "## alb_logs_20230507"
      ]
    },
    {
      "cell_type": "code",
      "execution_count": 47,
      "metadata": {
        "id": "oj362RO3qSWa",
        "outputId": "cc798113-662e-4216-e270-295c7c5b1d90"
      },
      "outputs": [
        {
          "data": {
            "text/plain": [
              "0   2023-05-06 23:55:00.967687\n",
              "1   2023-05-06 23:55:00.673873\n",
              "2   2023-05-06 23:55:02.529489\n",
              "3   2023-05-06 23:55:02.947010\n",
              "4   2023-05-06 23:55:03.391870\n",
              "Name: time, dtype: datetime64[ns]"
            ]
          },
          "execution_count": 47,
          "metadata": {},
          "output_type": "execute_result"
        }
      ],
      "source": [
        "alb_logs_20230507_df.time = pd.to_datetime(alb_logs_20230507_df.time).dt.tz_convert(None)\n",
        "alb_logs_20230507_df.time.head()"
      ]
    },
    {
      "cell_type": "code",
      "execution_count": 48,
      "metadata": {
        "id": "V9OqKAM9qSWa",
        "outputId": "b245432d-cbbd-40da-fc8c-03ca027dc197"
      },
      "outputs": [
        {
          "data": {
            "text/plain": [
              "Series([], dtype: int64)"
            ]
          },
          "execution_count": 48,
          "metadata": {},
          "output_type": "execute_result"
        }
      ],
      "source": [
        "alb_logs_20230507_df_nans = alb_logs_20230507_df.isna().sum()\n",
        "alb_logs_20230507_df_nans[alb_logs_20230507_df_nans > 0]"
      ]
    },
    {
      "cell_type": "code",
      "execution_count": 49,
      "metadata": {
        "id": "yN1MxMaVqSWa",
        "outputId": "29ddd0b7-beb0-4a81-fce6-7d8d725e6a11"
      },
      "outputs": [
        {
          "data": {
            "text/plain": [
              "(407912, 25)"
            ]
          },
          "execution_count": 49,
          "metadata": {},
          "output_type": "execute_result"
        }
      ],
      "source": [
        "drop_zero_variance_columns(alb_logs_20230507_df)\n",
        "alb_logs_20230507_df.shape"
      ]
    },
    {
      "cell_type": "markdown",
      "metadata": {
        "id": "lXz_si0wqSWa"
      },
      "source": [
        "## alb_logs_20230508"
      ]
    },
    {
      "cell_type": "code",
      "execution_count": 50,
      "metadata": {
        "id": "ffrfv0HeqSWa",
        "outputId": "7c870838-5c65-4ac1-a7f6-e84582459f8c"
      },
      "outputs": [
        {
          "data": {
            "text/plain": [
              "0   2023-05-07 23:55:00.876785\n",
              "1   2023-05-07 23:55:01.232898\n",
              "2   2023-05-07 23:55:01.523544\n",
              "3   2023-05-07 23:55:02.086095\n",
              "4   2023-05-07 23:55:03.317911\n",
              "Name: time, dtype: datetime64[ns]"
            ]
          },
          "execution_count": 50,
          "metadata": {},
          "output_type": "execute_result"
        }
      ],
      "source": [
        "alb_logs_20230508_df.time = pd.to_datetime(alb_logs_20230508_df.time).dt.tz_convert(None)\n",
        "alb_logs_20230508_df.time.head()"
      ]
    },
    {
      "cell_type": "code",
      "execution_count": 51,
      "metadata": {
        "id": "nuTRp4bQqSWb",
        "outputId": "1559ad42-0235-4d1b-ae05-5745efe6a7e5"
      },
      "outputs": [
        {
          "data": {
            "text/plain": [
              "Series([], dtype: int64)"
            ]
          },
          "execution_count": 51,
          "metadata": {},
          "output_type": "execute_result"
        }
      ],
      "source": [
        "alb_logs_20230508_df_nans = alb_logs_20230508_df.isna().sum()\n",
        "alb_logs_20230508_df_nans[alb_logs_20230508_df_nans > 0]"
      ]
    },
    {
      "cell_type": "code",
      "execution_count": 52,
      "metadata": {
        "id": "34JQ5D_qqSWb",
        "outputId": "b89879b2-8eac-403d-dcd2-21784ef49455"
      },
      "outputs": [
        {
          "data": {
            "text/plain": [
              "(454844, 25)"
            ]
          },
          "execution_count": 52,
          "metadata": {},
          "output_type": "execute_result"
        }
      ],
      "source": [
        "drop_zero_variance_columns(alb_logs_20230508_df)\n",
        "alb_logs_20230508_df.shape"
      ]
    },
    {
      "cell_type": "markdown",
      "metadata": {
        "id": "yW4uNPsEqSWb"
      },
      "source": [
        "## alb_logs_20230509"
      ]
    },
    {
      "cell_type": "code",
      "execution_count": 53,
      "metadata": {
        "id": "f15LSpjOqSWb",
        "outputId": "b5fff868-0259-4c39-ee55-4cab53c575eb"
      },
      "outputs": [
        {
          "data": {
            "text/plain": [
              "0   2023-05-08 23:55:00.959261\n",
              "1   2023-05-08 23:55:01.869956\n",
              "2   2023-05-08 23:55:02.385119\n",
              "3   2023-05-08 23:55:02.562282\n",
              "4   2023-05-08 23:55:02.442619\n",
              "Name: time, dtype: datetime64[ns]"
            ]
          },
          "execution_count": 53,
          "metadata": {},
          "output_type": "execute_result"
        }
      ],
      "source": [
        "alb_logs_20230509_df.time = pd.to_datetime(alb_logs_20230509_df.time).dt.tz_convert(None)\n",
        "alb_logs_20230509_df.time.head()"
      ]
    },
    {
      "cell_type": "code",
      "execution_count": 54,
      "metadata": {
        "id": "pm1_ZxI6qSWb",
        "outputId": "0870e3e9-44f1-4e63-f432-eb4b70ca0f67"
      },
      "outputs": [
        {
          "data": {
            "text/plain": [
              "classification_reason    19\n",
              "dtype: int64"
            ]
          },
          "execution_count": 54,
          "metadata": {},
          "output_type": "execute_result"
        }
      ],
      "source": [
        "alb_logs_20230509_df_nans = alb_logs_20230509_df.isna().sum()\n",
        "alb_logs_20230509_df_nans[alb_logs_20230509_df_nans > 0]"
      ]
    },
    {
      "cell_type": "code",
      "execution_count": 55,
      "metadata": {
        "id": "y-9XAwAAqSWb",
        "outputId": "5ede7395-122b-44be-cdea-59c81273ec19"
      },
      "outputs": [
        {
          "data": {
            "text/plain": [
              "0    -\n",
              "1    -\n",
              "2    -\n",
              "3    -\n",
              "4    -\n",
              "Name: classification_reason, dtype: object"
            ]
          },
          "execution_count": 55,
          "metadata": {},
          "output_type": "execute_result"
        }
      ],
      "source": [
        "alb_logs_20230509_df.classification_reason.head()"
      ]
    },
    {
      "cell_type": "code",
      "execution_count": 56,
      "metadata": {
        "id": "DkA8zhjtqSWb",
        "outputId": "9da6efc9-edb5-4994-88c6-ea33a04701ef"
      },
      "outputs": [
        {
          "data": {
            "text/plain": [
              "404516    NaN\n",
              "404518    NaN\n",
              "405190    NaN\n",
              "405203    NaN\n",
              "405204    NaN\n",
              "405223    NaN\n",
              "406361    NaN\n",
              "406409    NaN\n",
              "406448    NaN\n",
              "406453    NaN\n",
              "406458    NaN\n",
              "406461    NaN\n",
              "406467    NaN\n",
              "406475    NaN\n",
              "406476    NaN\n",
              "406488    NaN\n",
              "406497    NaN\n",
              "406503    NaN\n",
              "406511    NaN\n",
              "Name: classification_reason, dtype: object"
            ]
          },
          "execution_count": 56,
          "metadata": {},
          "output_type": "execute_result"
        }
      ],
      "source": [
        "alb_logs_20230509_df.classification_reason[alb_logs_20230509_df.classification_reason != '-']"
      ]
    },
    {
      "cell_type": "code",
      "execution_count": 57,
      "metadata": {
        "id": "uP2DLf5ZqSWc"
      },
      "outputs": [],
      "source": [
        "alb_logs_20230509_df.drop(labels=[\"classification_reason\"], axis=1, inplace=True)"
      ]
    },
    {
      "cell_type": "code",
      "execution_count": 58,
      "metadata": {
        "id": "HBvDIqJzqSWc",
        "outputId": "8460bf34-3526-47cf-c200-34cfddec330d"
      },
      "outputs": [
        {
          "data": {
            "text/plain": [
              "0         1660\n",
              "1         1660\n",
              "2         1660\n",
              "3         1660\n",
              "4         1660\n",
              "          ... \n",
              "468923    1660\n",
              "468924    1660\n",
              "468925    1660\n",
              "468926    1660\n",
              "468927    1660\n",
              "Name: matched_rule_priority, Length: 468928, dtype: object"
            ]
          },
          "execution_count": 58,
          "metadata": {},
          "output_type": "execute_result"
        }
      ],
      "source": [
        "alb_logs_20230509_df['matched_rule_priority']"
      ]
    },
    {
      "cell_type": "code",
      "execution_count": 59,
      "metadata": {
        "id": "KprZuaPFqSWc",
        "outputId": "1734f640-02d7-4946-bb8a-1ad3eab3eca9"
      },
      "outputs": [
        {
          "data": {
            "text/plain": [
              "104204    -\n",
              "104344    -\n",
              "104372    -\n",
              "104401    -\n",
              "141492    -\n",
              "432094    -\n",
              "Name: matched_rule_priority, dtype: object"
            ]
          },
          "execution_count": 59,
          "metadata": {},
          "output_type": "execute_result"
        }
      ],
      "source": [
        "alb_logs_20230509_df['matched_rule_priority'][alb_logs_20230509_df['matched_rule_priority'] == '-']"
      ]
    },
    {
      "cell_type": "code",
      "execution_count": 60,
      "metadata": {
        "id": "lUeqynpDqSWc",
        "outputId": "f05fe5eb-7d97-44f2-e1fc-6e2ce3c92c99"
      },
      "outputs": [
        {
          "name": "stdout",
          "output_type": "stream",
          "text": [
            "98304\n"
          ]
        }
      ],
      "source": [
        "non_numeric_counter = 0\n",
        "for value in alb_logs_20230509_df['matched_rule_priority']:\n",
        "    if not(isinstance(value, int)):\n",
        "        non_numeric_counter = non_numeric_counter + 1\n",
        "print(non_numeric_counter)"
      ]
    },
    {
      "cell_type": "code",
      "execution_count": 61,
      "metadata": {
        "id": "3ZQ9jUp5qSWc",
        "outputId": "98bd52bc-b9f8-4b27-c3d7-9a11d2d6e653"
      },
      "outputs": [
        {
          "data": {
            "text/plain": [
              "array([0, 1609, 1660], dtype=object)"
            ]
          },
          "execution_count": 61,
          "metadata": {},
          "output_type": "execute_result"
        }
      ],
      "source": [
        "np.unique(alb_logs_20230509_df['matched_rule_priority'][alb_logs_20230509_df['matched_rule_priority'].apply(lambda x: isinstance(x, int))])"
      ]
    },
    {
      "cell_type": "code",
      "execution_count": 62,
      "metadata": {
        "id": "OJwQxwXLqSWc",
        "outputId": "ba64c64b-cdc8-477e-8541-0de4754601c9"
      },
      "outputs": [
        {
          "name": "stderr",
          "output_type": "stream",
          "text": [
            "/var/folders/bx/p1dzn6l159n6mrzq69ybb3340000gn/T/ipykernel_1462/1272232031.py:4: SettingWithCopyWarning: \n",
            "A value is trying to be set on a copy of a slice from a DataFrame\n",
            "\n",
            "See the caveats in the documentation: https://pandas.pydata.org/pandas-docs/stable/user_guide/indexing.html#returning-a-view-versus-a-copy\n",
            "  df.drop(column, axis=1, inplace=True)\n",
            "/var/folders/bx/p1dzn6l159n6mrzq69ybb3340000gn/T/ipykernel_1462/1272232031.py:4: SettingWithCopyWarning: \n",
            "A value is trying to be set on a copy of a slice from a DataFrame\n",
            "\n",
            "See the caveats in the documentation: https://pandas.pydata.org/pandas-docs/stable/user_guide/indexing.html#returning-a-view-versus-a-copy\n",
            "  df.drop(column, axis=1, inplace=True)\n",
            "/var/folders/bx/p1dzn6l159n6mrzq69ybb3340000gn/T/ipykernel_1462/1272232031.py:4: SettingWithCopyWarning: \n",
            "A value is trying to be set on a copy of a slice from a DataFrame\n",
            "\n",
            "See the caveats in the documentation: https://pandas.pydata.org/pandas-docs/stable/user_guide/indexing.html#returning-a-view-versus-a-copy\n",
            "  df.drop(column, axis=1, inplace=True)\n"
          ]
        },
        {
          "data": {
            "text/plain": [
              "(468928, 28)"
            ]
          },
          "execution_count": 62,
          "metadata": {},
          "output_type": "execute_result"
        }
      ],
      "source": [
        "drop_zero_variance_columns(alb_logs_20230509_df.iloc[:, alb_logs_20230509_df.columns != 'matched_rule_priority'])\n",
        "alb_logs_20230509_df.shape"
      ]
    },
    {
      "cell_type": "markdown",
      "metadata": {
        "id": "SJKZBvu9qSWd"
      },
      "source": [
        "# Time series"
      ]
    },
    {
      "cell_type": "markdown",
      "metadata": {
        "id": "a9KB2Gk0qSWd"
      },
      "source": [
        "## alb_logs_20230503"
      ]
    },
    {
      "cell_type": "code",
      "execution_count": 63,
      "metadata": {
        "id": "z2sJdJ0vqSWd"
      },
      "outputs": [],
      "source": [
        "from matplotlib.pyplot import figure"
      ]
    },
    {
      "cell_type": "code",
      "execution_count": 64,
      "metadata": {
        "id": "ecvFhSkOqSWd",
        "outputId": "fbf7052f-08e3-436e-dee8-84e3ad6a18de"
      },
      "outputs": [
        {
          "data": {
            "text/plain": [
              "Index(['type', 'time', 'client_port', 'target_port', 'request_processing_time',\n",
              "       'target_processing_time', 'response_processing_time', 'elb_status_code',\n",
              "       'target_status_code', 'received_bytes', 'sent_bytes', 'request',\n",
              "       'user_agent', 'ssl_cipher', 'ssl_protocol', 'target_group_arn',\n",
              "       'trace_id', 'domain_name', 'chosen_cert_arn', 'matched_rule_priority',\n",
              "       'request_creation_time', 'actions_executed', 'redirect_url',\n",
              "       'target_port_list', 'target_status_code_list'],\n",
              "      dtype='object')"
            ]
          },
          "execution_count": 64,
          "metadata": {},
          "output_type": "execute_result"
        }
      ],
      "source": [
        "alb_logs_20230503_df.columns"
      ]
    },
    {
      "cell_type": "markdown",
      "metadata": {
        "id": "qc3W87OXqSWd"
      },
      "source": [
        "Replacing -1.0 with -0.05 for plotting purposes"
      ]
    },
    {
      "cell_type": "code",
      "execution_count": 65,
      "metadata": {
        "id": "PyZL8czOqSWd",
        "outputId": "89330bb5-b1e5-465b-e825-7fcc1cbce2bf"
      },
      "outputs": [
        {
          "name": "stderr",
          "output_type": "stream",
          "text": [
            "/var/folders/bx/p1dzn6l159n6mrzq69ybb3340000gn/T/ipykernel_1462/2985958270.py:1: SettingWithCopyWarning: \n",
            "A value is trying to be set on a copy of a slice from a DataFrame\n",
            "\n",
            "See the caveats in the documentation: https://pandas.pydata.org/pandas-docs/stable/user_guide/indexing.html#returning-a-view-versus-a-copy\n",
            "  alb_logs_20230503_df['request_processing_time'][alb_logs_20230503_df['request_processing_time'] == -1.0] = -0.05\n"
          ]
        },
        {
          "data": {
            "text/plain": [
              "557     -0.05\n",
              "2149    -0.05\n",
              "6666    -0.05\n",
              "18513   -0.05\n",
              "18631   -0.05\n",
              "Name: request_processing_time, dtype: float64"
            ]
          },
          "execution_count": 65,
          "metadata": {},
          "output_type": "execute_result"
        }
      ],
      "source": [
        "alb_logs_20230503_df['request_processing_time'][alb_logs_20230503_df['request_processing_time'] == -1.0] = -0.05\n",
        "alb_logs_20230503_df['request_processing_time'][alb_logs_20230503_df['request_processing_time'] == -0.05].head()"
      ]
    },
    {
      "cell_type": "code",
      "execution_count": 66,
      "metadata": {
        "id": "-F17ToL_qSWd",
        "outputId": "d43e8ef1-0d19-4070-d764-c4d74003b241"
      },
      "outputs": [
        {
          "data": {
            "text/plain": [
              "[<matplotlib.lines.Line2D at 0x2cc3a6410>]"
            ]
          },
          "execution_count": 66,
          "metadata": {},
          "output_type": "execute_result"
        },
        {
          "data": {
            "image/png": "[encoded data removed]",
            "text/plain": [
              "<Figure size 1500x1000 with 1 Axes>"
            ]
          },
          "metadata": {},
          "output_type": "display_data"
        }
      ],
      "source": [
        "figure(figsize=(15, 10))\n",
        "plt.plot(alb_logs_20230503_df['request_processing_time'])"
      ]
    },
    {
      "cell_type": "code",
      "execution_count": 67,
      "metadata": {
        "id": "5kA1ZMU9qSWe",
        "outputId": "28c3e6e7-f5e8-4bdd-8833-4b151ce0f0e7"
      },
      "outputs": [
        {
          "data": {
            "text/plain": [
              "9.196"
            ]
          },
          "execution_count": 67,
          "metadata": {},
          "output_type": "execute_result"
        }
      ],
      "source": [
        "np.max(alb_logs_20230503_df['target_processing_time'])"
      ]
    },
    {
      "cell_type": "markdown",
      "metadata": {
        "id": "yS-LghKaqSWe"
      },
      "source": [
        "Replacing -1.0 with -6.0 for plotting purposes"
      ]
    },
    {
      "cell_type": "code",
      "execution_count": 68,
      "metadata": {
        "id": "QAy6owoKqSWe",
        "outputId": "275572b7-6c0b-461a-aa52-8dabbdd9ed2a"
      },
      "outputs": [
        {
          "name": "stderr",
          "output_type": "stream",
          "text": [
            "/var/folders/bx/p1dzn6l159n6mrzq69ybb3340000gn/T/ipykernel_1462/4026355583.py:1: SettingWithCopyWarning: \n",
            "A value is trying to be set on a copy of a slice from a DataFrame\n",
            "\n",
            "See the caveats in the documentation: https://pandas.pydata.org/pandas-docs/stable/user_guide/indexing.html#returning-a-view-versus-a-copy\n",
            "  alb_logs_20230503_df['target_processing_time'][alb_logs_20230503_df['target_processing_time'] == -1.0] = -6.0\n"
          ]
        },
        {
          "data": {
            "text/plain": [
              "557    -6.0\n",
              "990    -6.0\n",
              "1109   -6.0\n",
              "2149   -6.0\n",
              "2572   -6.0\n",
              "Name: target_processing_time, dtype: float64"
            ]
          },
          "execution_count": 68,
          "metadata": {},
          "output_type": "execute_result"
        }
      ],
      "source": [
        "alb_logs_20230503_df['target_processing_time'][alb_logs_20230503_df['target_processing_time'] == -1.0] = -6.0\n",
        "alb_logs_20230503_df['target_processing_time'][alb_logs_20230503_df['target_processing_time'] == -6.0].head()"
      ]
    },
    {
      "cell_type": "code",
      "execution_count": 69,
      "metadata": {
        "id": "BXzNFSR-qSWe",
        "outputId": "a4435922-ad05-463d-d5f3-816d2c97ff0c"
      },
      "outputs": [
        {
          "data": {
            "text/plain": [
              "[<matplotlib.lines.Line2D at 0x2f54b3d00>]"
            ]
          },
          "execution_count": 69,
          "metadata": {},
          "output_type": "execute_result"
        },
        {
          "data": {
            "image/png": "[encoded data removed]",
            "text/plain": [
              "<Figure size 2000x1500 with 1 Axes>"
            ]
          },
          "metadata": {},
          "output_type": "display_data"
        }
      ],
      "source": [
        "figure(figsize=(20, 15))\n",
        "plt.plot(alb_logs_20230503_df['target_processing_time'])"
      ]
    },
    {
      "cell_type": "markdown",
      "metadata": {
        "id": "0VypCESXqSWe"
      },
      "source": [
        "No need for plotting time series values for columns request_processeing_time, target_processing_time, response_processing_time, received_bytes, sent_bytes and actions_executed for all log files as time series plots are hard to read.\n",
        "\n",
        "There is no point in identifying anomalies by visually inspecting time series plots.\n",
        "\n",
        "Anomaly detection will be done with simple statsitical method based on confidence intervals and with neural network"
      ]
    },
    {
      "cell_type": "code",
      "execution_count": 70,
      "metadata": {
        "id": "L1syP9gPqSWe",
        "outputId": "669d79b4-0214-41c9-f8a2-e1c4c7ff9169"
      },
      "outputs": [
        {
          "name": "stderr",
          "output_type": "stream",
          "text": [
            "/var/folders/bx/p1dzn6l159n6mrzq69ybb3340000gn/T/ipykernel_1462/65249683.py:1: SettingWithCopyWarning: \n",
            "A value is trying to be set on a copy of a slice from a DataFrame\n",
            "\n",
            "See the caveats in the documentation: https://pandas.pydata.org/pandas-docs/stable/user_guide/indexing.html#returning-a-view-versus-a-copy\n",
            "  alb_logs_20230503_df['request_processing_time'][alb_logs_20230503_df['request_processing_time'] == -0.05] = -1.0\n"
          ]
        }
      ],
      "source": [
        "alb_logs_20230503_df['request_processing_time'][alb_logs_20230503_df['request_processing_time'] == -0.05] = -1.0"
      ]
    },
    {
      "cell_type": "code",
      "execution_count": 71,
      "metadata": {
        "id": "p31gvfHLqSWe",
        "outputId": "edd7307a-5c93-4358-b75d-64fc95c5157b"
      },
      "outputs": [
        {
          "name": "stderr",
          "output_type": "stream",
          "text": [
            "/var/folders/bx/p1dzn6l159n6mrzq69ybb3340000gn/T/ipykernel_1462/3204871457.py:1: SettingWithCopyWarning: \n",
            "A value is trying to be set on a copy of a slice from a DataFrame\n",
            "\n",
            "See the caveats in the documentation: https://pandas.pydata.org/pandas-docs/stable/user_guide/indexing.html#returning-a-view-versus-a-copy\n",
            "  alb_logs_20230503_df['target_processing_time'][alb_logs_20230503_df['target_processing_time'] == -6.0] = -1.0\n"
          ]
        }
      ],
      "source": [
        "alb_logs_20230503_df['target_processing_time'][alb_logs_20230503_df['target_processing_time'] == -6.0] = -1.0"
      ]
    },
    {
      "cell_type": "markdown",
      "metadata": {
        "id": "wpySxXymqSWf"
      },
      "source": [
        "# Concatenating dataframes"
      ]
    },
    {
      "cell_type": "code",
      "execution_count": 72,
      "metadata": {
        "id": "uU6j_qRDqSWf",
        "outputId": "53ebd032-edbe-4d0b-80a0-8c6404963ece"
      },
      "outputs": [
        {
          "data": {
            "text/plain": [
              "[Timedelta('0 days 00:02:15.327455'),\n",
              " Timedelta('0 days 00:02:38.271598'),\n",
              " Timedelta('0 days 00:00:01.438610'),\n",
              " Timedelta('0 days 00:01:46.233791'),\n",
              " Timedelta('0 days 00:02:55.147656'),\n",
              " Timedelta('0 days 00:02:56.877449')]"
            ]
          },
          "execution_count": 72,
          "metadata": {},
          "output_type": "execute_result"
        }
      ],
      "source": [
        "first_last_date_diference = []\n",
        "first_last_date_diference.append(alb_logs_20230504_df.time[0] - alb_logs_20230503_df.time[alb_logs_20230503_df.shape[0] - 1])\n",
        "first_last_date_diference.append(alb_logs_20230505_df.time[0] - alb_logs_20230504_df.time[alb_logs_20230504_df.shape[0] - 1])\n",
        "first_last_date_diference.append(alb_logs_20230506_df.time[0] - alb_logs_20230505_df.time[alb_logs_20230505_df.shape[0] - 1])\n",
        "first_last_date_diference.append(alb_logs_20230507_df.time[0] - alb_logs_20230506_df.time[alb_logs_20230506_df.shape[0] - 1])\n",
        "first_last_date_diference.append(alb_logs_20230508_df.time[0] - alb_logs_20230507_df.time[alb_logs_20230507_df.shape[0] - 1])\n",
        "first_last_date_diference.append(alb_logs_20230509_df.time[0] - alb_logs_20230508_df.time[alb_logs_20230508_df.shape[0] - 1])\n",
        "first_last_date_diference"
      ]
    },
    {
      "cell_type": "code",
      "execution_count": 73,
      "metadata": {
        "id": "ctdCKglOqSWf",
        "outputId": "b7480a6b-1513-4616-949d-b3ab0da130df"
      },
      "outputs": [
        {
          "data": {
            "text/plain": [
              "Index(['type', 'time', 'elb', 'client_port', 'target_port',\n",
              "       'request_processing_time', 'target_processing_time',\n",
              "       'response_processing_time', 'elb_status_code', 'target_status_code',\n",
              "       'received_bytes', 'sent_bytes', 'request', 'user_agent', 'ssl_cipher',\n",
              "       'ssl_protocol', 'target_group_arn', 'trace_id', 'domain_name',\n",
              "       'chosen_cert_arn', 'matched_rule_priority', 'request_creation_time',\n",
              "       'actions_executed', 'redirect_url', 'error_reason', 'target_port_list',\n",
              "       'target_status_code_list', 'classification'],\n",
              "      dtype='object')"
            ]
          },
          "execution_count": 73,
          "metadata": {},
          "output_type": "execute_result"
        }
      ],
      "source": [
        "alb_logs_20230509_df.columns"
      ]
    },
    {
      "cell_type": "code",
      "execution_count": 74,
      "metadata": {
        "id": "iHj2Xy1DqSWf",
        "outputId": "489379db-1926-48bd-9dde-8ba7a304805e"
      },
      "outputs": [
        {
          "data": {
            "text/html": [
              "<div>\n",
              "<style scoped>\n",
              "    .dataframe tbody tr th:only-of-type {\n",
              "        vertical-align: middle;\n",
              "    }\n",
              "\n",
              "    .dataframe tbody tr th {\n",
              "        vertical-align: top;\n",
              "    }\n",
              "\n",
              "    .dataframe thead th {\n",
              "        text-align: right;\n",
              "    }\n",
              "</style>\n",
              "<table border=\"1\" class=\"dataframe\">\n",
              "  <thead>\n",
              "    <tr style=\"text-align: right;\">\n",
              "      <th></th>\n",
              "      <th>type</th>\n",
              "      <th>time</th>\n",
              "      <th>client_port</th>\n",
              "      <th>target_port</th>\n",
              "      <th>request_processing_time</th>\n",
              "      <th>target_processing_time</th>\n",
              "      <th>response_processing_time</th>\n",
              "      <th>elb_status_code</th>\n",
              "      <th>target_status_code</th>\n",
              "      <th>received_bytes</th>\n",
              "      <th>...</th>\n",
              "      <th>chosen_cert_arn</th>\n",
              "      <th>matched_rule_priority</th>\n",
              "      <th>request_creation_time</th>\n",
              "      <th>actions_executed</th>\n",
              "      <th>redirect_url</th>\n",
              "      <th>target_port_list</th>\n",
              "      <th>target_status_code_list</th>\n",
              "      <th>classification</th>\n",
              "      <th>elb</th>\n",
              "      <th>error_reason</th>\n",
              "    </tr>\n",
              "  </thead>\n",
              "  <tbody>\n",
              "    <tr>\n",
              "      <th>0</th>\n",
              "      <td>h2</td>\n",
              "      <td>2023-05-03 23:55:00.936341</td>\n",
              "      <td>37.156.75.215:28412</td>\n",
              "      <td>107.110.171.34:60339</td>\n",
              "      <td>0.001</td>\n",
              "      <td>0.194</td>\n",
              "      <td>0.0</td>\n",
              "      <td>200</td>\n",
              "      <td>200</td>\n",
              "      <td>374</td>\n",
              "      <td>...</td>\n",
              "      <td>arn:aws:acm:us-east-1:1337:certificate/12345678</td>\n",
              "      <td>1660</td>\n",
              "      <td>2023-05-03T23:55:00.741000Z</td>\n",
              "      <td>forward</td>\n",
              "      <td>-</td>\n",
              "      <td>172.32.192.244:9090</td>\n",
              "      <td>200</td>\n",
              "      <td>NaN</td>\n",
              "      <td>NaN</td>\n",
              "      <td>NaN</td>\n",
              "    </tr>\n",
              "    <tr>\n",
              "      <th>1</th>\n",
              "      <td>h2</td>\n",
              "      <td>2023-05-03 23:55:00.980508</td>\n",
              "      <td>47.160.169.68:55292</td>\n",
              "      <td>107.110.171.34:60339</td>\n",
              "      <td>0.001</td>\n",
              "      <td>0.444</td>\n",
              "      <td>0.0</td>\n",
              "      <td>200</td>\n",
              "      <td>200</td>\n",
              "      <td>374</td>\n",
              "      <td>...</td>\n",
              "      <td>arn:aws:acm:us-east-1:1337:certificate/12345678</td>\n",
              "      <td>1660</td>\n",
              "      <td>2023-05-03T23:55:00.535000Z</td>\n",
              "      <td>forward</td>\n",
              "      <td>-</td>\n",
              "      <td>172.32.192.244:9090</td>\n",
              "      <td>200</td>\n",
              "      <td>NaN</td>\n",
              "      <td>NaN</td>\n",
              "      <td>NaN</td>\n",
              "    </tr>\n",
              "    <tr>\n",
              "      <th>2</th>\n",
              "      <td>h2</td>\n",
              "      <td>2023-05-03 23:55:01.031178</td>\n",
              "      <td>96.64.32.210:64670</td>\n",
              "      <td>107.110.171.34:60339</td>\n",
              "      <td>0.000</td>\n",
              "      <td>0.221</td>\n",
              "      <td>0.0</td>\n",
              "      <td>200</td>\n",
              "      <td>200</td>\n",
              "      <td>375</td>\n",
              "      <td>...</td>\n",
              "      <td>arn:aws:acm:us-east-1:1337:certificate/12345678</td>\n",
              "      <td>1660</td>\n",
              "      <td>2023-05-03T23:55:00.809000Z</td>\n",
              "      <td>forward</td>\n",
              "      <td>-</td>\n",
              "      <td>172.32.152.128:9090</td>\n",
              "      <td>200</td>\n",
              "      <td>NaN</td>\n",
              "      <td>NaN</td>\n",
              "      <td>NaN</td>\n",
              "    </tr>\n",
              "    <tr>\n",
              "      <th>3</th>\n",
              "      <td>h2</td>\n",
              "      <td>2023-05-03 23:55:01.230494</td>\n",
              "      <td>174.198.132.80:12554</td>\n",
              "      <td>107.110.171.34:60339</td>\n",
              "      <td>0.001</td>\n",
              "      <td>0.238</td>\n",
              "      <td>0.0</td>\n",
              "      <td>200</td>\n",
              "      <td>200</td>\n",
              "      <td>375</td>\n",
              "      <td>...</td>\n",
              "      <td>arn:aws:acm:us-east-1:1337:certificate/12345678</td>\n",
              "      <td>1660</td>\n",
              "      <td>2023-05-03T23:55:00.991000Z</td>\n",
              "      <td>forward</td>\n",
              "      <td>-</td>\n",
              "      <td>172.32.192.244:9090</td>\n",
              "      <td>200</td>\n",
              "      <td>NaN</td>\n",
              "      <td>NaN</td>\n",
              "      <td>NaN</td>\n",
              "    </tr>\n",
              "    <tr>\n",
              "      <th>4</th>\n",
              "      <td>h2</td>\n",
              "      <td>2023-05-03 23:55:01.504385</td>\n",
              "      <td>67.255.72.176:59368</td>\n",
              "      <td>107.110.171.34:60339</td>\n",
              "      <td>0.000</td>\n",
              "      <td>0.172</td>\n",
              "      <td>0.0</td>\n",
              "      <td>200</td>\n",
              "      <td>200</td>\n",
              "      <td>377</td>\n",
              "      <td>...</td>\n",
              "      <td>arn:aws:acm:us-east-1:1337:certificate/12345678</td>\n",
              "      <td>1660</td>\n",
              "      <td>2023-05-03T23:55:01.332000Z</td>\n",
              "      <td>forward</td>\n",
              "      <td>-</td>\n",
              "      <td>172.32.152.128:9090</td>\n",
              "      <td>200</td>\n",
              "      <td>NaN</td>\n",
              "      <td>NaN</td>\n",
              "      <td>NaN</td>\n",
              "    </tr>\n",
              "  </tbody>\n",
              "</table>\n",
              "<p>5 rows × 28 columns</p>\n",
              "</div>"
            ],
            "text/plain": [
              "  type                       time           client_port           target_port  \\\n",
              "0   h2 2023-05-03 23:55:00.936341   37.156.75.215:28412  107.110.171.34:60339   \n",
              "1   h2 2023-05-03 23:55:00.980508   47.160.169.68:55292  107.110.171.34:60339   \n",
              "2   h2 2023-05-03 23:55:01.031178    96.64.32.210:64670  107.110.171.34:60339   \n",
              "3   h2 2023-05-03 23:55:01.230494  174.198.132.80:12554  107.110.171.34:60339   \n",
              "4   h2 2023-05-03 23:55:01.504385   67.255.72.176:59368  107.110.171.34:60339   \n",
              "\n",
              "   request_processing_time  target_processing_time  response_processing_time  \\\n",
              "0                    0.001                   0.194                       0.0   \n",
              "1                    0.001                   0.444                       0.0   \n",
              "2                    0.000                   0.221                       0.0   \n",
              "3                    0.001                   0.238                       0.0   \n",
              "4                    0.000                   0.172                       0.0   \n",
              "\n",
              "   elb_status_code target_status_code  received_bytes  ...  \\\n",
              "0              200                200             374  ...   \n",
              "1              200                200             374  ...   \n",
              "2              200                200             375  ...   \n",
              "3              200                200             375  ...   \n",
              "4              200                200             377  ...   \n",
              "\n",
              "                                   chosen_cert_arn matched_rule_priority  \\\n",
              "0  arn:aws:acm:us-east-1:1337:certificate/12345678                  1660   \n",
              "1  arn:aws:acm:us-east-1:1337:certificate/12345678                  1660   \n",
              "2  arn:aws:acm:us-east-1:1337:certificate/12345678                  1660   \n",
              "3  arn:aws:acm:us-east-1:1337:certificate/12345678                  1660   \n",
              "4  arn:aws:acm:us-east-1:1337:certificate/12345678                  1660   \n",
              "\n",
              "         request_creation_time actions_executed redirect_url  \\\n",
              "0  2023-05-03T23:55:00.741000Z          forward            -   \n",
              "1  2023-05-03T23:55:00.535000Z          forward            -   \n",
              "2  2023-05-03T23:55:00.809000Z          forward            -   \n",
              "3  2023-05-03T23:55:00.991000Z          forward            -   \n",
              "4  2023-05-03T23:55:01.332000Z          forward            -   \n",
              "\n",
              "      target_port_list target_status_code_list classification  elb  \\\n",
              "0  172.32.192.244:9090                     200            NaN  NaN   \n",
              "1  172.32.192.244:9090                     200            NaN  NaN   \n",
              "2  172.32.152.128:9090                     200            NaN  NaN   \n",
              "3  172.32.192.244:9090                     200            NaN  NaN   \n",
              "4  172.32.152.128:9090                     200            NaN  NaN   \n",
              "\n",
              "  error_reason  \n",
              "0          NaN  \n",
              "1          NaN  \n",
              "2          NaN  \n",
              "3          NaN  \n",
              "4          NaN  \n",
              "\n",
              "[5 rows x 28 columns]"
            ]
          },
          "execution_count": 74,
          "metadata": {},
          "output_type": "execute_result"
        }
      ],
      "source": [
        "logs_df = pd.concat([alb_logs_20230504_df, alb_logs_20230505_df, alb_logs_20230506_df, alb_logs_20230507_df, alb_logs_20230508_df, alb_logs_20230509_df], axis=0)\n",
        "logs_df.head()"
      ]
    },
    {
      "cell_type": "code",
      "execution_count": 75,
      "metadata": {
        "id": "8dEOgBCeqSWf",
        "outputId": "736d4e37-be93-48f8-9dc2-193cadcdd20a"
      },
      "outputs": [
        {
          "data": {
            "text/plain": [
              "(2577066, 28)"
            ]
          },
          "execution_count": 75,
          "metadata": {},
          "output_type": "execute_result"
        }
      ],
      "source": [
        "logs_df.shape"
      ]
    },
    {
      "cell_type": "code",
      "execution_count": 76,
      "metadata": {
        "id": "gRrw4MbkqSWf",
        "outputId": "c34cfa5d-93a0-4001-f659-ecfac958b202"
      },
      "outputs": [
        {
          "data": {
            "text/plain": [
              "Index(['type', 'time', 'client_port', 'target_port', 'request_processing_time',\n",
              "       'target_processing_time', 'response_processing_time', 'elb_status_code',\n",
              "       'target_status_code', 'received_bytes', 'sent_bytes', 'request',\n",
              "       'user_agent', 'ssl_cipher', 'ssl_protocol', 'target_group_arn',\n",
              "       'trace_id', 'domain_name', 'chosen_cert_arn', 'matched_rule_priority',\n",
              "       'request_creation_time', 'actions_executed', 'redirect_url',\n",
              "       'target_port_list', 'target_status_code_list', 'classification', 'elb',\n",
              "       'error_reason'],\n",
              "      dtype='object')"
            ]
          },
          "execution_count": 76,
          "metadata": {},
          "output_type": "execute_result"
        }
      ],
      "source": [
        "logs_df.columns"
      ]
    },
    {
      "cell_type": "code",
      "execution_count": 77,
      "metadata": {
        "id": "9AVL1b_rqSWg",
        "outputId": "c25fa953-548c-41a7-9d57-0a4d34974381"
      },
      "outputs": [
        {
          "data": {
            "text/plain": [
              "type                              0\n",
              "time                              0\n",
              "client_port                       0\n",
              "target_port                       0\n",
              "request_processing_time           0\n",
              "target_processing_time            0\n",
              "response_processing_time          0\n",
              "elb_status_code                   0\n",
              "target_status_code                0\n",
              "received_bytes                    0\n",
              "sent_bytes                        0\n",
              "request                           0\n",
              "user_agent                        0\n",
              "ssl_cipher                        0\n",
              "ssl_protocol                      0\n",
              "target_group_arn                  0\n",
              "trace_id                          0\n",
              "domain_name                       0\n",
              "chosen_cert_arn                   0\n",
              "matched_rule_priority             0\n",
              "request_creation_time             0\n",
              "actions_executed                  0\n",
              "redirect_url                      0\n",
              "target_port_list                  0\n",
              "target_status_code_list           0\n",
              "classification              1699427\n",
              "elb                         2108138\n",
              "error_reason                2108138\n",
              "dtype: int64"
            ]
          },
          "execution_count": 77,
          "metadata": {},
          "output_type": "execute_result"
        }
      ],
      "source": [
        "logs_na_values = logs_df.isna().sum()\n",
        "logs_na_values"
      ]
    },
    {
      "cell_type": "code",
      "execution_count": 78,
      "metadata": {},
      "outputs": [
        {
          "data": {
            "text/plain": [
              "0.659442559872351"
            ]
          },
          "execution_count": 78,
          "metadata": {},
          "output_type": "execute_result"
        }
      ],
      "source": [
        "logs_na_values[\"classification\"] / logs_df.shape[0]"
      ]
    },
    {
      "cell_type": "code",
      "execution_count": 79,
      "metadata": {},
      "outputs": [
        {
          "data": {
            "text/plain": [
              "0.8180380323980837"
            ]
          },
          "execution_count": 79,
          "metadata": {},
          "output_type": "execute_result"
        }
      ],
      "source": [
        "logs_na_values[\"elb\"] / logs_df.shape[0]"
      ]
    },
    {
      "cell_type": "code",
      "execution_count": 80,
      "metadata": {},
      "outputs": [
        {
          "data": {
            "text/plain": [
              "0.8180380323980837"
            ]
          },
          "execution_count": 80,
          "metadata": {},
          "output_type": "execute_result"
        }
      ],
      "source": [
        "logs_na_values[\"error_reason\"] / logs_df.shape[0]"
      ]
    },
    {
      "cell_type": "code",
      "execution_count": 81,
      "metadata": {},
      "outputs": [
        {
          "data": {
            "text/plain": [
              "0         NaN\n",
              "1         NaN\n",
              "2         NaN\n",
              "3         NaN\n",
              "4         NaN\n",
              "         ... \n",
              "468923      -\n",
              "468924      -\n",
              "468925      -\n",
              "468926      -\n",
              "468927      -\n",
              "Name: classification, Length: 2577066, dtype: object"
            ]
          },
          "execution_count": 81,
          "metadata": {},
          "output_type": "execute_result"
        }
      ],
      "source": [
        "logs_df.classification"
      ]
    },
    {
      "cell_type": "code",
      "execution_count": 82,
      "metadata": {
        "id": "HnxatCk_qSWg",
        "outputId": "0ce8211e-f6c2-4449-d95d-6ae33e9a046a"
      },
      "outputs": [
        {
          "data": {
            "text/plain": [
              "(array(['-', 'Ambiguous'], dtype=object), array([877638,      1]))"
            ]
          },
          "execution_count": 82,
          "metadata": {},
          "output_type": "execute_result"
        }
      ],
      "source": [
        "np.unique(logs_df.classification[logs_df.classification.apply(lambda x: isinstance(x, str))], return_counts=True)"
      ]
    },
    {
      "cell_type": "markdown",
      "metadata": {},
      "source": [
        "https://docs.aws.amazon.com/elasticloadbalancing/latest/application/load-balancer-access-logs.html\n",
        "\n",
        "The classification for desync mitigation, enclosed in double quotes. If the request does not comply with RFC 7230, the possible values are Acceptable, Ambiguous, and Severe\n",
        "\n",
        "If the request complies with RFC 7230, this value is set to -\n",
        "\n",
        "https://docs.aws.amazon.com/elasticloadbalancing/latest/classic/config-desync-mitigation-mode.html\n",
        "\n",
        "Desync mitigation mode protects your application from issues due to HTTP Desync. The load balancer classifies each request based on its threat level, allows safe requests, and then mitigates risk as specified by the mitigation mode that you specify. The desync mitigation modes are monitor, defensive, and strictest. The default is the defensive mode, which provides durable mitigation against HTTP desync while maintaining the availability of your application. **You can switch to strictest mode to ensure that your application receives only requests that comply with RFC 7230.**\n",
        "\n",
        "**The http_desync_guardian library analyzes HTTP requests to prevent HTTP Desync attacks.**"
      ]
    },
    {
      "cell_type": "code",
      "execution_count": 83,
      "metadata": {},
      "outputs": [
        {
          "data": {
            "text/html": [
              "<div>\n",
              "<style scoped>\n",
              "    .dataframe tbody tr th:only-of-type {\n",
              "        vertical-align: middle;\n",
              "    }\n",
              "\n",
              "    .dataframe tbody tr th {\n",
              "        vertical-align: top;\n",
              "    }\n",
              "\n",
              "    .dataframe thead th {\n",
              "        text-align: right;\n",
              "    }\n",
              "</style>\n",
              "<table border=\"1\" class=\"dataframe\">\n",
              "  <thead>\n",
              "    <tr style=\"text-align: right;\">\n",
              "      <th></th>\n",
              "      <th>type</th>\n",
              "      <th>time</th>\n",
              "      <th>client_port</th>\n",
              "      <th>target_port</th>\n",
              "      <th>request_processing_time</th>\n",
              "      <th>target_processing_time</th>\n",
              "      <th>response_processing_time</th>\n",
              "      <th>elb_status_code</th>\n",
              "      <th>target_status_code</th>\n",
              "      <th>received_bytes</th>\n",
              "      <th>...</th>\n",
              "      <th>chosen_cert_arn</th>\n",
              "      <th>matched_rule_priority</th>\n",
              "      <th>request_creation_time</th>\n",
              "      <th>actions_executed</th>\n",
              "      <th>redirect_url</th>\n",
              "      <th>target_port_list</th>\n",
              "      <th>target_status_code_list</th>\n",
              "      <th>classification</th>\n",
              "      <th>elb</th>\n",
              "      <th>error_reason</th>\n",
              "    </tr>\n",
              "  </thead>\n",
              "  <tbody>\n",
              "    <tr>\n",
              "      <th>312239</th>\n",
              "      <td>https</td>\n",
              "      <td>2023-05-05 17:43:01.476396</td>\n",
              "      <td>173.52.224.37:57129</td>\n",
              "      <td>190.21.190.209:62584</td>\n",
              "      <td>0.0</td>\n",
              "      <td>0.028</td>\n",
              "      <td>0.0</td>\n",
              "      <td>401</td>\n",
              "      <td>401</td>\n",
              "      <td>1190</td>\n",
              "      <td>...</td>\n",
              "      <td>arn:aws:acm:us-east-1:1337:certificate/12345678</td>\n",
              "      <td>1660</td>\n",
              "      <td>2023-05-05T17:43:01.430000Z</td>\n",
              "      <td>forward</td>\n",
              "      <td>-</td>\n",
              "      <td>172.32.128.80:9090</td>\n",
              "      <td>401</td>\n",
              "      <td>Ambiguous</td>\n",
              "      <td>NaN</td>\n",
              "      <td>NaN</td>\n",
              "    </tr>\n",
              "  </tbody>\n",
              "</table>\n",
              "<p>1 rows × 28 columns</p>\n",
              "</div>"
            ],
            "text/plain": [
              "         type                       time          client_port  \\\n",
              "312239  https 2023-05-05 17:43:01.476396  173.52.224.37:57129   \n",
              "\n",
              "                 target_port  request_processing_time  target_processing_time  \\\n",
              "312239  190.21.190.209:62584                      0.0                   0.028   \n",
              "\n",
              "        response_processing_time  elb_status_code target_status_code  \\\n",
              "312239                       0.0              401                401   \n",
              "\n",
              "        received_bytes  ...                                  chosen_cert_arn  \\\n",
              "312239            1190  ...  arn:aws:acm:us-east-1:1337:certificate/12345678   \n",
              "\n",
              "       matched_rule_priority        request_creation_time actions_executed  \\\n",
              "312239                  1660  2023-05-05T17:43:01.430000Z          forward   \n",
              "\n",
              "       redirect_url    target_port_list target_status_code_list  \\\n",
              "312239            -  172.32.128.80:9090                     401   \n",
              "\n",
              "       classification  elb error_reason  \n",
              "312239      Ambiguous  NaN          NaN  \n",
              "\n",
              "[1 rows x 28 columns]"
            ]
          },
          "execution_count": 83,
          "metadata": {},
          "output_type": "execute_result"
        }
      ],
      "source": [
        "possbile_threat_request = logs_df[logs_df.classification == \"Ambiguous\"].copy()\n",
        "possbile_threat_request"
      ]
    },
    {
      "cell_type": "markdown",
      "metadata": {},
      "source": [
        "We can drop column classification as variance = 0 for values that are not nan when we exclude value \"Ambiguous\""
      ]
    },
    {
      "cell_type": "code",
      "execution_count": 84,
      "metadata": {},
      "outputs": [],
      "source": [
        "logs_df.drop(['classification'], axis=1, inplace=True)"
      ]
    },
    {
      "cell_type": "code",
      "execution_count": 85,
      "metadata": {},
      "outputs": [
        {
          "data": {
            "text/plain": [
              "1"
            ]
          },
          "execution_count": 85,
          "metadata": {},
          "output_type": "execute_result"
        }
      ],
      "source": [
        "len(np.unique(logs_df.elb[logs_df.elb.apply(lambda x: isinstance(x, str))]))"
      ]
    },
    {
      "cell_type": "markdown",
      "metadata": {},
      "source": [
        "We can drop column elb as variance = 0 for values that are not nan"
      ]
    },
    {
      "cell_type": "code",
      "execution_count": 86,
      "metadata": {
        "id": "JHDdA7toqSWg"
      },
      "outputs": [],
      "source": [
        "logs_df.drop(['elb'], axis=1, inplace=True)"
      ]
    },
    {
      "cell_type": "code",
      "execution_count": 87,
      "metadata": {},
      "outputs": [
        {
          "data": {
            "text/plain": [
              "1"
            ]
          },
          "execution_count": 87,
          "metadata": {},
          "output_type": "execute_result"
        }
      ],
      "source": [
        "len(np.unique(logs_df.error_reason[logs_df.error_reason.apply(lambda x: isinstance(x, str))]))"
      ]
    },
    {
      "cell_type": "markdown",
      "metadata": {},
      "source": [
        "We can drop column error_reason as variance = 0 for values that are not nan"
      ]
    },
    {
      "cell_type": "code",
      "execution_count": 88,
      "metadata": {},
      "outputs": [],
      "source": [
        "logs_df.drop(['error_reason'], axis=1, inplace=True)"
      ]
    },
    {
      "cell_type": "markdown",
      "metadata": {
        "id": "PXYWVe6msCh4"
      },
      "source": [
        "# Encoding categorical features"
      ]
    },
    {
      "cell_type": "code",
      "execution_count": 89,
      "metadata": {
        "id": "Oqq2hK6AxQ_D"
      },
      "outputs": [],
      "source": [
        "non_encode_columns = [\"time\", \"request_processing_time\", \"target_processing_time\", \"response_processing_time\", \"received_bytes\", \"sent_bytes\"]"
      ]
    },
    {
      "cell_type": "code",
      "execution_count": 90,
      "metadata": {},
      "outputs": [
        {
          "data": {
            "text/plain": [
              "Index(['type', 'time', 'client_port', 'target_port', 'request_processing_time',\n",
              "       'target_processing_time', 'response_processing_time', 'elb_status_code',\n",
              "       'target_status_code', 'received_bytes', 'sent_bytes', 'request',\n",
              "       'user_agent', 'ssl_cipher', 'ssl_protocol', 'target_group_arn',\n",
              "       'trace_id', 'domain_name', 'chosen_cert_arn', 'matched_rule_priority',\n",
              "       'request_creation_time', 'actions_executed', 'redirect_url',\n",
              "       'target_port_list', 'target_status_code_list'],\n",
              "      dtype='object')"
            ]
          },
          "execution_count": 90,
          "metadata": {},
          "output_type": "execute_result"
        }
      ],
      "source": [
        "logs_df.columns"
      ]
    },
    {
      "cell_type": "code",
      "execution_count": 91,
      "metadata": {},
      "outputs": [
        {
          "data": {
            "text/plain": [
              "0         1660\n",
              "1         1660\n",
              "2         1660\n",
              "3         1660\n",
              "4         1660\n",
              "          ... \n",
              "468923    1660\n",
              "468924    1660\n",
              "468925    1660\n",
              "468926    1660\n",
              "468927    1660\n",
              "Name: matched_rule_priority, Length: 2478762, dtype: object"
            ]
          },
          "execution_count": 91,
          "metadata": {},
          "output_type": "execute_result"
        }
      ],
      "source": [
        "logs_df.matched_rule_priority[logs_df.matched_rule_priority.apply(lambda x: isinstance(x, int))]"
      ]
    },
    {
      "cell_type": "code",
      "execution_count": 92,
      "metadata": {},
      "outputs": [
        {
          "data": {
            "text/plain": [
              "104204    -\n",
              "104344    -\n",
              "104372    -\n",
              "104401    -\n",
              "141492    -\n",
              "432094    -\n",
              "Name: matched_rule_priority, dtype: object"
            ]
          },
          "execution_count": 92,
          "metadata": {},
          "output_type": "execute_result"
        }
      ],
      "source": [
        "logs_df.matched_rule_priority[logs_df.matched_rule_priority == \"-\"]"
      ]
    },
    {
      "cell_type": "code",
      "execution_count": 93,
      "metadata": {},
      "outputs": [
        {
          "data": {
            "text/plain": [
              "array(['-', '0', '1609', '1660', '91'], dtype=object)"
            ]
          },
          "execution_count": 93,
          "metadata": {},
          "output_type": "execute_result"
        }
      ],
      "source": [
        "logs_df.matched_rule_priority = logs_df.matched_rule_priority.astype('str', copy=False)\n",
        "np.unique(logs_df.matched_rule_priority)"
      ]
    },
    {
      "cell_type": "code",
      "execution_count": 94,
      "metadata": {},
      "outputs": [
        {
          "name": "stdout",
          "output_type": "stream",
          "text": [
            "type cardinality: 2577066\n",
            "client_port cardinality: 2577066\n",
            "target_port cardinality: 2577066\n",
            "elb_status_code cardinality: 2577066\n",
            "target_status_code cardinality: 2577066\n",
            "request cardinality: 2577066\n",
            "user_agent cardinality: 2577066\n",
            "ssl_cipher cardinality: 2577066\n",
            "ssl_protocol cardinality: 2577066\n",
            "target_group_arn cardinality: 2577066\n",
            "trace_id cardinality: 2577066\n",
            "domain_name cardinality: 2577066\n",
            "chosen_cert_arn cardinality: 2577066\n",
            "matched_rule_priority cardinality: 2577066\n",
            "request_creation_time cardinality: 2577066\n",
            "actions_executed cardinality: 2577066\n",
            "redirect_url cardinality: 2577066\n",
            "target_port_list cardinality: 2577066\n",
            "target_status_code_list cardinality: 2577066\n"
          ]
        }
      ],
      "source": [
        "for column in logs_df.columns:\n",
        "    if column not in non_encode_columns:\n",
        "        print(\"{0} cardinality: {1}\".format(column, sum(np.unique(logs_df[column], return_counts=True)[1])))"
      ]
    },
    {
      "cell_type": "code",
      "execution_count": 95,
      "metadata": {},
      "outputs": [
        {
          "data": {
            "text/plain": [
              "2577066"
            ]
          },
          "execution_count": 95,
          "metadata": {},
          "output_type": "execute_result"
        }
      ],
      "source": [
        "logs_df.shape[0]"
      ]
    },
    {
      "cell_type": "markdown",
      "metadata": {},
      "source": [
        "We cannot use one hot encoding as features have high cardinality\n"
      ]
    },
    {
      "cell_type": "markdown",
      "metadata": {
        "id": "gqL-6pozqSWg"
      },
      "source": [
        "# Statistical model for anomaly detection"
      ]
    },
    {
      "cell_type": "markdown",
      "metadata": {
        "id": "H0sxGFSqqSWh"
      },
      "source": [
        "For statistical method we will use the leverage statistic.\n",
        "\n",
        "We will computer leverage statistic:\n",
        "\n",
        "1. For multidimensional vectors as in mutlidimensional setting it is possible to have an observation that is well within the range of each individual predictor’s values, but that is unusual in terms of the full set of predictors\n",
        "2. For unidimensional vectors as it is possible to have an observation that is well within the range of each individual predictor’s values except for one predictor as in multidimensional settting we need to summariyze leverage statistics for all predictors (summary statistics)\n",
        "\n",
        "This method will try to uncover high leverage points that have high leverage because of values of all predictors and that have high leverage because of single predictor value\n",
        "\n",
        "The leverage statistic hi is always between 1/n and 1, and the average leverage for all the observations is always equal to (p + 1)/n. So if a given observation has a leverage statistic that greatly exceeds (p+1)/n, then we may suspect that the corresponding point has high leverage.\n",
        "\n",
        "Leverage statistic values will be interpreted based on https://online.stat.psu.edu/stat501/lesson/11/11.2 and https://stats.stackexchange.com/questions/112777/leverage-influential-points"
      ]
    },
    {
      "cell_type": "markdown",
      "metadata": {
        "id": "2eEKQKtA-8o1"
      },
      "source": [
        "# Probabilistic model for anomaly detection"
      ]
    },
    {
      "cell_type": "markdown",
      "metadata": {
        "id": "yl3RwdgM_idt"
      },
      "source": [
        "https://otexts.com/fpp3/stationarity.html\n",
        "\n",
        "https://otexts.com/fpp3/backshift.html\n",
        "\n",
        "https://otexts.com/fpp3/AR.html\n",
        "\n",
        "https://otexts.com/fpp3/MA.html\n",
        "\n",
        "https://otexts.com/fpp3/non-seasonal-arima.html\n",
        "\n",
        "https://otexts.com/fpp3/arima-estimation.html\n",
        "\n",
        "https://otexts.com/fpp3/seasonal-arima.html"
      ]
    },
    {
      "cell_type": "markdown",
      "metadata": {},
      "source": [
        "## ACF plot"
      ]
    },
    {
      "cell_type": "markdown",
      "metadata": {},
      "source": [
        "https://stats.stackexchange.com/questions/77248/what-is-autocorrelation-function"
      ]
    },
    {
      "cell_type": "code",
      "execution_count": 96,
      "metadata": {},
      "outputs": [
        {
          "data": {
            "text/plain": [
              "' from statsmodels.graphics.tsaplots import plot_acf\\nplot_acf(logs_df.request_processing_time, title=\"Autocorrelation request_processing_time\")\\nplot_acf(logs_df.target_processing_time, title=\"Autocorrelation target_processing_time\")\\nplot_acf(logs_df.response_processing_time, title=\"Autocorrelation response_processing_time\")\\nplot_acf(logs_df.received_bytes, title=\"Autocorrelation received_bytes\")\\nplot_acf(logs_df.sent_bytes, title=\"Autocorrelation sent_bytes\") '"
            ]
          },
          "execution_count": 96,
          "metadata": {},
          "output_type": "execute_result"
        }
      ],
      "source": [
        "\"\"\" from statsmodels.graphics.tsaplots import plot_acf\n",
        "plot_acf(logs_df.request_processing_time, title=\"Autocorrelation request_processing_time\")\n",
        "plot_acf(logs_df.target_processing_time, title=\"Autocorrelation target_processing_time\")\n",
        "plot_acf(logs_df.response_processing_time, title=\"Autocorrelation response_processing_time\")\n",
        "plot_acf(logs_df.received_bytes, title=\"Autocorrelation received_bytes\")\n",
        "plot_acf(logs_df.sent_bytes, title=\"Autocorrelation sent_bytes\") \"\"\""
      ]
    },
    {
      "cell_type": "markdown",
      "metadata": {},
      "source": [
        "plot_acf takes too long to computer values and to plot"
      ]
    },
    {
      "cell_type": "markdown",
      "metadata": {},
      "source": [
        "## Unit root tests"
      ]
    },
    {
      "cell_type": "markdown",
      "metadata": {},
      "source": [
        "https://otexts.com/fpp3/stationarity.html#unit-root-tests\n",
        "\n",
        "We will use statistical hypothesis test to determine if differencing is required, to determine if data is stationary."
      ]
    },
    {
      "cell_type": "markdown",
      "metadata": {},
      "source": [
        "### KPSS test"
      ]
    },
    {
      "cell_type": "markdown",
      "metadata": {},
      "source": [
        "https://www.youtube.com/watch?v=ZPtVV-a0pks\n",
        "\n",
        "We will use KPSS test (H0: stationary) as we do not want to difference unless we have strong evidence of rejecting H0, unless we have strong evidence of non-stationarity\n",
        "\n",
        "For ADF test, we will not difference unless we have strong evidence of rejecting H0 (H0: non-stationary), unless we have strong evidence of stationarity.\n",
        "\n",
        "Therefore, it is better to difference already stationary time series and time series that are not stationarity then to not difference already stationary time series and time series that are not stationary as differencing is not an expensive computational operation."
      ]
    },
    {
      "cell_type": "code",
      "execution_count": 97,
      "metadata": {},
      "outputs": [],
      "source": [
        "from statsmodels.tsa.stattools import kpss"
      ]
    },
    {
      "cell_type": "code",
      "execution_count": 98,
      "metadata": {},
      "outputs": [
        {
          "data": {
            "text/plain": [
              "['time',\n",
              " 'request_processing_time',\n",
              " 'target_processing_time',\n",
              " 'response_processing_time',\n",
              " 'received_bytes',\n",
              " 'sent_bytes']"
            ]
          },
          "execution_count": 98,
          "metadata": {},
          "output_type": "execute_result"
        }
      ],
      "source": [
        "non_encode_columns"
      ]
    },
    {
      "cell_type": "code",
      "execution_count": 99,
      "metadata": {},
      "outputs": [
        {
          "data": {
            "text/plain": [
              "(0.6744170784335176,\n",
              " 0.015871174687862033,\n",
              " 856,\n",
              " {'10%': 0.347, '5%': 0.463, '2.5%': 0.574, '1%': 0.739})"
            ]
          },
          "execution_count": 99,
          "metadata": {},
          "output_type": "execute_result"
        }
      ],
      "source": [
        "kpss(logs_df.request_processing_time)"
      ]
    },
    {
      "cell_type": "markdown",
      "metadata": {},
      "source": [
        "p-value is smaller than 0.05\n",
        "\n",
        "It is unlikely to see such an extreme value of test statistic under the assumptuon that H0 is true\n",
        "\n",
        "At the significance level of 0.05 we can reject H0 and concldue that time series is non-stationary"
      ]
    },
    {
      "cell_type": "code",
      "execution_count": 100,
      "metadata": {},
      "outputs": [
        {
          "name": "stderr",
          "output_type": "stream",
          "text": [
            "/var/folders/bx/p1dzn6l159n6mrzq69ybb3340000gn/T/ipykernel_1462/3274900074.py:1: InterpolationWarning: The test statistic is outside of the range of p-values available in the\n",
            "look-up table. The actual p-value is smaller than the p-value returned.\n",
            "\n",
            "  kpss(logs_df.target_processing_time)\n"
          ]
        },
        {
          "data": {
            "text/plain": [
              "(15.134016131644149,\n",
              " 0.01,\n",
              " 823,\n",
              " {'10%': 0.347, '5%': 0.463, '2.5%': 0.574, '1%': 0.739})"
            ]
          },
          "execution_count": 100,
          "metadata": {},
          "output_type": "execute_result"
        }
      ],
      "source": [
        "kpss(logs_df.target_processing_time)"
      ]
    },
    {
      "cell_type": "markdown",
      "metadata": {},
      "source": [
        "The actual p-value is smaller than the p-value returned --> p-value is smaller than 0.01\n",
        "\n",
        "It is unlikely to see such an extreme value of test statistic under the assumption that H0 is true\n",
        "\n",
        "At the significance level of 0.05 we can reject H0 and concldue that time series is non-stationary"
      ]
    },
    {
      "cell_type": "code",
      "execution_count": 101,
      "metadata": {},
      "outputs": [
        {
          "name": "stderr",
          "output_type": "stream",
          "text": [
            "/var/folders/bx/p1dzn6l159n6mrzq69ybb3340000gn/T/ipykernel_1462/1375394382.py:1: InterpolationWarning: The test statistic is outside of the range of p-values available in the\n",
            "look-up table. The actual p-value is smaller than the p-value returned.\n",
            "\n",
            "  kpss(logs_df.response_processing_time)\n"
          ]
        },
        {
          "data": {
            "text/plain": [
              "(2.6449130981061995,\n",
              " 0.01,\n",
              " 872,\n",
              " {'10%': 0.347, '5%': 0.463, '2.5%': 0.574, '1%': 0.739})"
            ]
          },
          "execution_count": 101,
          "metadata": {},
          "output_type": "execute_result"
        }
      ],
      "source": [
        "kpss(logs_df.response_processing_time)"
      ]
    },
    {
      "cell_type": "markdown",
      "metadata": {},
      "source": [
        "The actual p-value is smaller than the p-value returned --> p-value is smaller than 0.01\n",
        "\n",
        "It is unlikely to see such an extreme value of test statistic under the assumption that H0 is true\n",
        "\n",
        "At the significance level of 0.05 we can reject H0 and concldue that time series is non-stationary"
      ]
    },
    {
      "cell_type": "code",
      "execution_count": 102,
      "metadata": {},
      "outputs": [
        {
          "name": "stderr",
          "output_type": "stream",
          "text": [
            "/var/folders/bx/p1dzn6l159n6mrzq69ybb3340000gn/T/ipykernel_1462/2685193260.py:1: InterpolationWarning: The test statistic is outside of the range of p-values available in the\n",
            "look-up table. The actual p-value is smaller than the p-value returned.\n",
            "\n",
            "  kpss(logs_df.received_bytes)\n"
          ]
        },
        {
          "data": {
            "text/plain": [
              "(2.8437949544519436,\n",
              " 0.01,\n",
              " 670,\n",
              " {'10%': 0.347, '5%': 0.463, '2.5%': 0.574, '1%': 0.739})"
            ]
          },
          "execution_count": 102,
          "metadata": {},
          "output_type": "execute_result"
        }
      ],
      "source": [
        "kpss(logs_df.received_bytes)"
      ]
    },
    {
      "cell_type": "markdown",
      "metadata": {},
      "source": [
        "The actual p-value is smaller than the p-value returned --> p-value is smaller than 0.01\n",
        "\n",
        "It is unlikely to see such an extreme value of test statistic under the assumption that H0 is true\n",
        "\n",
        "At the significance level of 0.05 we can reject H0 and concldue that time series is non-stationary"
      ]
    },
    {
      "cell_type": "code",
      "execution_count": 103,
      "metadata": {},
      "outputs": [
        {
          "name": "stderr",
          "output_type": "stream",
          "text": [
            "/var/folders/bx/p1dzn6l159n6mrzq69ybb3340000gn/T/ipykernel_1462/1747336929.py:1: InterpolationWarning: The test statistic is outside of the range of p-values available in the\n",
            "look-up table. The actual p-value is smaller than the p-value returned.\n",
            "\n",
            "  kpss(logs_df.sent_bytes)\n"
          ]
        },
        {
          "data": {
            "text/plain": [
              "(2.531316849777976,\n",
              " 0.01,\n",
              " 689,\n",
              " {'10%': 0.347, '5%': 0.463, '2.5%': 0.574, '1%': 0.739})"
            ]
          },
          "execution_count": 103,
          "metadata": {},
          "output_type": "execute_result"
        }
      ],
      "source": [
        "kpss(logs_df.sent_bytes)"
      ]
    },
    {
      "cell_type": "markdown",
      "metadata": {},
      "source": [
        "The actual p-value is smaller than the p-value returned --> p-value is smaller than 0.01\n",
        "\n",
        "It is unlikely to see such an extreme value of test statistic under the assumption that H0 is true\n",
        "\n",
        "At the significance level of 0.05 we can reject H0 and concldue that time series is non-stationary"
      ]
    },
    {
      "cell_type": "markdown",
      "metadata": {},
      "source": [
        "## Differencing"
      ]
    },
    {
      "cell_type": "code",
      "execution_count": 104,
      "metadata": {},
      "outputs": [
        {
          "name": "stderr",
          "output_type": "stream",
          "text": [
            "/var/folders/bx/p1dzn6l159n6mrzq69ybb3340000gn/T/ipykernel_1462/3404550323.py:2: InterpolationWarning: The test statistic is outside of the range of p-values available in the\n",
            "look-up table. The actual p-value is greater than the p-value returned.\n",
            "\n",
            "  kpss(request_processing_time_differenced)\n"
          ]
        },
        {
          "data": {
            "text/plain": [
              "(0.0014290323602178274,\n",
              " 0.1,\n",
              " 7008,\n",
              " {'10%': 0.347, '5%': 0.463, '2.5%': 0.574, '1%': 0.739})"
            ]
          },
          "execution_count": 104,
          "metadata": {},
          "output_type": "execute_result"
        }
      ],
      "source": [
        "request_processing_time_differenced = logs_df.request_processing_time.diff()[1:]\n",
        "kpss(request_processing_time_differenced)"
      ]
    },
    {
      "cell_type": "markdown",
      "metadata": {},
      "source": [
        "The actual p-value is greater than the p-value returned. --> p-value is greater than 0.1\n",
        "\n",
        "At the significance level of 0.05 we can not reject H0. We can conclude that time series is stationary."
      ]
    },
    {
      "cell_type": "code",
      "execution_count": 105,
      "metadata": {},
      "outputs": [
        {
          "name": "stderr",
          "output_type": "stream",
          "text": [
            "/var/folders/bx/p1dzn6l159n6mrzq69ybb3340000gn/T/ipykernel_1462/2088291174.py:2: InterpolationWarning: The test statistic is outside of the range of p-values available in the\n",
            "look-up table. The actual p-value is greater than the p-value returned.\n",
            "\n",
            "  kpss(target_processing_time_differenced)\n"
          ]
        },
        {
          "data": {
            "text/plain": [
              "(0.0005239616741651002,\n",
              " 0.1,\n",
              " 2332,\n",
              " {'10%': 0.347, '5%': 0.463, '2.5%': 0.574, '1%': 0.739})"
            ]
          },
          "execution_count": 105,
          "metadata": {},
          "output_type": "execute_result"
        }
      ],
      "source": [
        "target_processing_time_differenced = logs_df.target_processing_time.diff()[1:]\n",
        "kpss(target_processing_time_differenced)"
      ]
    },
    {
      "cell_type": "markdown",
      "metadata": {},
      "source": [
        "The actual p-value is greater than the p-value returned. --> p-value is greater than 0.1\n",
        "\n",
        "At the significance level of 0.05 we can not reject H0. We can conclude that time series is stationary."
      ]
    },
    {
      "cell_type": "code",
      "execution_count": 106,
      "metadata": {},
      "outputs": [
        {
          "name": "stderr",
          "output_type": "stream",
          "text": [
            "/var/folders/bx/p1dzn6l159n6mrzq69ybb3340000gn/T/ipykernel_1462/3299289381.py:2: InterpolationWarning: The test statistic is outside of the range of p-values available in the\n",
            "look-up table. The actual p-value is greater than the p-value returned.\n",
            "\n",
            "  kpss(response_processing_time_differenced)\n"
          ]
        },
        {
          "data": {
            "text/plain": [
              "(0.002088811316702719,\n",
              " 0.1,\n",
              " 4848,\n",
              " {'10%': 0.347, '5%': 0.463, '2.5%': 0.574, '1%': 0.739})"
            ]
          },
          "execution_count": 106,
          "metadata": {},
          "output_type": "execute_result"
        }
      ],
      "source": [
        "response_processing_time_differenced = logs_df.response_processing_time.diff()[1:]\n",
        "kpss(response_processing_time_differenced)"
      ]
    },
    {
      "cell_type": "markdown",
      "metadata": {},
      "source": [
        "The actual p-value is greater than the p-value returned. --> p-value is greater than 0.1\n",
        "\n",
        "At the significance level of 0.05 we can not reject H0. We can conclude that time series is stationary."
      ]
    },
    {
      "cell_type": "code",
      "execution_count": 107,
      "metadata": {},
      "outputs": [
        {
          "name": "stderr",
          "output_type": "stream",
          "text": [
            "/var/folders/bx/p1dzn6l159n6mrzq69ybb3340000gn/T/ipykernel_1462/2829730457.py:2: InterpolationWarning: The test statistic is outside of the range of p-values available in the\n",
            "look-up table. The actual p-value is greater than the p-value returned.\n",
            "\n",
            "  kpss(received_bytes_differenced)\n"
          ]
        },
        {
          "data": {
            "text/plain": [
              "(0.002295849110692068,\n",
              " 0.1,\n",
              " 10009,\n",
              " {'10%': 0.347, '5%': 0.463, '2.5%': 0.574, '1%': 0.739})"
            ]
          },
          "execution_count": 107,
          "metadata": {},
          "output_type": "execute_result"
        }
      ],
      "source": [
        "received_bytes_differenced = logs_df.received_bytes.diff()[1:]\n",
        "kpss(received_bytes_differenced)"
      ]
    },
    {
      "cell_type": "markdown",
      "metadata": {},
      "source": [
        "The actual p-value is greater than the p-value returned. --> p-value is greater than 0.1\n",
        "\n",
        "At the significance level of 0.05 we can not reject H0. We can conclude that time series is stationary."
      ]
    },
    {
      "cell_type": "code",
      "execution_count": 108,
      "metadata": {},
      "outputs": [
        {
          "name": "stderr",
          "output_type": "stream",
          "text": [
            "/var/folders/bx/p1dzn6l159n6mrzq69ybb3340000gn/T/ipykernel_1462/2906885728.py:2: InterpolationWarning: The test statistic is outside of the range of p-values available in the\n",
            "look-up table. The actual p-value is greater than the p-value returned.\n",
            "\n",
            "  kpss(sent_bytes_differenced)\n"
          ]
        },
        {
          "data": {
            "text/plain": [
              "(0.003221307538170796,\n",
              " 0.1,\n",
              " 15315,\n",
              " {'10%': 0.347, '5%': 0.463, '2.5%': 0.574, '1%': 0.739})"
            ]
          },
          "execution_count": 108,
          "metadata": {},
          "output_type": "execute_result"
        }
      ],
      "source": [
        "sent_bytes_differenced = logs_df.sent_bytes.diff()[1:]\n",
        "kpss(sent_bytes_differenced)"
      ]
    },
    {
      "cell_type": "markdown",
      "metadata": {},
      "source": [
        "The actual p-value is greater than the p-value returned. --> p-value is greater than 0.1\n",
        "\n",
        "At the significance level of 0.05 we can not reject H0. We can conclude that time series is stationary."
      ]
    },
    {
      "cell_type": "markdown",
      "metadata": {},
      "source": [
        "## Test for heteroscedasticity"
      ]
    },
    {
      "cell_type": "markdown",
      "metadata": {},
      "source": [
        "Available RAM is consumed when we use the White Breusch-Pagan statistical test and machine crashes\n",
        "\n",
        "KPSS test confirmed for every time series that time series is stationary. We will visually inspect time series and decide if transformation is needed for the stabilization of variance becasue of type 1 error.\n"
      ]
    },
    {
      "cell_type": "code",
      "execution_count": 109,
      "metadata": {},
      "outputs": [
        {
          "data": {
            "text/plain": [
              "[<matplotlib.lines.Line2D at 0x3a43d6800>]"
            ]
          },
          "execution_count": 109,
          "metadata": {},
          "output_type": "execute_result"
        },
        {
          "data": {
            "image/png": "[encoded data removed]",
            "text/plain": [
              "<Figure size 1500x1000 with 1 Axes>"
            ]
          },
          "metadata": {},
          "output_type": "display_data"
        }
      ],
      "source": [
        "figure(figsize=(15, 10))\n",
        "plt.plot(request_processing_time_differenced)"
      ]
    },
    {
      "cell_type": "markdown",
      "metadata": {},
      "source": [
        "Time series is homoscedastic"
      ]
    },
    {
      "cell_type": "code",
      "execution_count": 110,
      "metadata": {},
      "outputs": [
        {
          "data": {
            "text/plain": [
              "[<matplotlib.lines.Line2D at 0x3a4460f10>]"
            ]
          },
          "execution_count": 110,
          "metadata": {},
          "output_type": "execute_result"
        },
        {
          "data": {
            "image/png": "[encoded data removed]",
            "text/plain": [
              "<Figure size 1500x1000 with 1 Axes>"
            ]
          },
          "metadata": {},
          "output_type": "display_data"
        }
      ],
      "source": [
        "figure(figsize=(15, 10))\n",
        "plt.plot(target_processing_time_differenced)"
      ]
    },
    {
      "cell_type": "markdown",
      "metadata": {},
      "source": [
        "Time series is homoscedastic"
      ]
    },
    {
      "cell_type": "code",
      "execution_count": 111,
      "metadata": {},
      "outputs": [
        {
          "data": {
            "text/plain": [
              "[<matplotlib.lines.Line2D at 0x3a44e0e80>]"
            ]
          },
          "execution_count": 111,
          "metadata": {},
          "output_type": "execute_result"
        },
        {
          "data": {
            "image/png": "[encoded data removed]",
            "text/plain": [
              "<Figure size 1500x1000 with 1 Axes>"
            ]
          },
          "metadata": {},
          "output_type": "display_data"
        }
      ],
      "source": [
        "figure(figsize=(15, 10))\n",
        "plt.plot(response_processing_time_differenced)"
      ]
    },
    {
      "cell_type": "markdown",
      "metadata": {},
      "source": [
        "Time series is homoscedastic"
      ]
    },
    {
      "cell_type": "code",
      "execution_count": 112,
      "metadata": {},
      "outputs": [
        {
          "data": {
            "text/plain": [
              "[<matplotlib.lines.Line2D at 0x3a454af50>]"
            ]
          },
          "execution_count": 112,
          "metadata": {},
          "output_type": "execute_result"
        },
        {
          "data": {
            "image/png": "[encoded data removed]",
            "text/plain": [
              "<Figure size 1500x1000 with 1 Axes>"
            ]
          },
          "metadata": {},
          "output_type": "display_data"
        }
      ],
      "source": [
        "figure(figsize=(15, 10))\n",
        "plt.plot(received_bytes_differenced)"
      ]
    },
    {
      "cell_type": "markdown",
      "metadata": {},
      "source": [
        "Time series is homoscedastic"
      ]
    },
    {
      "cell_type": "code",
      "execution_count": 113,
      "metadata": {},
      "outputs": [
        {
          "data": {
            "text/plain": [
              "[<matplotlib.lines.Line2D at 0x3a45e8520>]"
            ]
          },
          "execution_count": 113,
          "metadata": {},
          "output_type": "execute_result"
        },
        {
          "data": {
            "image/png": "[encoded data removed]",
            "text/plain": [
              "<Figure size 1500x1000 with 1 Axes>"
            ]
          },
          "metadata": {},
          "output_type": "display_data"
        }
      ],
      "source": [
        "figure(figsize=(15, 10))\n",
        "plt.plot(sent_bytes_differenced)"
      ]
    },
    {
      "cell_type": "markdown",
      "metadata": {},
      "source": [
        "Time series is homoscedastic"
      ]
    },
    {
      "cell_type": "markdown",
      "metadata": {},
      "source": [
        "## Building and training the model"
      ]
    },
    {
      "cell_type": "markdown",
      "metadata": {},
      "source": [
        "Model will be trained in R as R has an automatic procedure for finding the best possible coefficient for an ARIMA model based on the data\n",
        "\n",
        "Screenshots of output of the procedure will be attached here\n",
        "\n",
        "Following steps will be used"
      ]
    },
    {
      "attachments": {
        "arimaflowchart.png": {
          "image/png": "[encoded data removed]"
        }
      },
      "cell_type": "markdown",
      "metadata": {},
      "source": [
        "![arimaflowchart.png](attachment:arimaflowchart.png)"
      ]
    },
    {
      "cell_type": "code",
      "execution_count": 130,
      "metadata": {},
      "outputs": [
        {
          "name": "stdout",
          "output_type": "stream",
          "text": [
            "2577066\n",
            "1376043\n"
          ]
        }
      ],
      "source": [
        "print(logs_df.shape[0])\n",
        "print(len(np.unique(logs_df[\"time\"].diff())))"
      ]
    },
    {
      "cell_type": "code",
      "execution_count": 132,
      "metadata": {},
      "outputs": [],
      "source": [
        "logs_df[[\"time\", \"request_processing_time\"]].to_csv(\"request_processing_time.csv\")"
      ]
    },
    {
      "cell_type": "code",
      "execution_count": 133,
      "metadata": {},
      "outputs": [],
      "source": [
        "logs_df[[\"time\", \"target_processing_time\"]].to_csv(\"target_processing_time.csv\")"
      ]
    },
    {
      "cell_type": "code",
      "execution_count": 134,
      "metadata": {},
      "outputs": [],
      "source": [
        "logs_df[[\"time\", \"response_processing_time\"]].to_csv(\"response_processing_time.csv\")"
      ]
    },
    {
      "cell_type": "code",
      "execution_count": 135,
      "metadata": {},
      "outputs": [],
      "source": [
        "logs_df[[\"time\", \"received_bytes\"]].to_csv(\"received_bytes.csv\")"
      ]
    },
    {
      "cell_type": "code",
      "execution_count": 136,
      "metadata": {},
      "outputs": [],
      "source": [
        "logs_df[[\"time\", \"sent_bytes\"]].to_csv(\"sent_bytes.csv\")"
      ]
    },
    {
      "cell_type": "markdown",
      "metadata": {},
      "source": [
        "### 1."
      ]
    },
    {
      "cell_type": "code",
      "execution_count": 137,
      "metadata": {},
      "outputs": [
        {
          "data": {
            "text/plain": [
              "[<matplotlib.lines.Line2D at 0x4160f8490>]"
            ]
          },
          "execution_count": 137,
          "metadata": {},
          "output_type": "execute_result"
        },
        {
          "data": {
            "image/png": "[encoded data removed]",
            "text/plain": [
              "<Figure size 1500x1000 with 1 Axes>"
            ]
          },
          "metadata": {},
          "output_type": "display_data"
        }
      ],
      "source": [
        "figure(figsize=(15, 10))\n",
        "plt.plot(logs_df[\"request_processing_time\"])"
      ]
    },
    {
      "cell_type": "code",
      "execution_count": 138,
      "metadata": {},
      "outputs": [
        {
          "data": {
            "text/plain": [
              "[<matplotlib.lines.Line2D at 0x416199ab0>]"
            ]
          },
          "execution_count": 138,
          "metadata": {},
          "output_type": "execute_result"
        },
        {
          "data": {
            "image/png": "[encoded data removed]",
            "text/plain": [
              "<Figure size 1500x1000 with 1 Axes>"
            ]
          },
          "metadata": {},
          "output_type": "display_data"
        }
      ],
      "source": [
        "figure(figsize=(15, 10))\n",
        "plt.plot(logs_df[\"response_processing_time\"])"
      ]
    },
    {
      "cell_type": "code",
      "execution_count": 139,
      "metadata": {},
      "outputs": [
        {
          "data": {
            "text/plain": [
              "[<matplotlib.lines.Line2D at 0x41615dab0>]"
            ]
          },
          "execution_count": 139,
          "metadata": {},
          "output_type": "execute_result"
        },
        {
          "data": {
            "image/png": "[encoded data removed]",
            "text/plain": [
              "<Figure size 1500x1000 with 1 Axes>"
            ]
          },
          "metadata": {},
          "output_type": "display_data"
        }
      ],
      "source": [
        "figure(figsize=(15, 10))\n",
        "plt.plot(logs_df[\"target_processing_time\"])"
      ]
    },
    {
      "cell_type": "code",
      "execution_count": 140,
      "metadata": {},
      "outputs": [
        {
          "data": {
            "text/plain": [
              "[<matplotlib.lines.Line2D at 0x41612e860>]"
            ]
          },
          "execution_count": 140,
          "metadata": {},
          "output_type": "execute_result"
        },
        {
          "data": {
            "image/png": "[encoded data removed]",
            "text/plain": [
              "<Figure size 1500x1000 with 1 Axes>"
            ]
          },
          "metadata": {},
          "output_type": "display_data"
        }
      ],
      "source": [
        "figure(figsize=(15, 10))\n",
        "plt.plot(logs_df[\"received_bytes\"])"
      ]
    },
    {
      "cell_type": "code",
      "execution_count": 141,
      "metadata": {},
      "outputs": [
        {
          "data": {
            "text/plain": [
              "[<matplotlib.lines.Line2D at 0x417a0b490>]"
            ]
          },
          "execution_count": 141,
          "metadata": {},
          "output_type": "execute_result"
        },
        {
          "data": {
            "image/png": "[encoded data removed]",
            "text/plain": [
              "<Figure size 1500x1000 with 1 Axes>"
            ]
          },
          "metadata": {},
          "output_type": "display_data"
        }
      ],
      "source": [
        "figure(figsize=(15, 10))\n",
        "plt.plot(logs_df[\"sent_bytes\"])"
      ]
    },
    {
      "cell_type": "markdown",
      "metadata": {},
      "source": [
        "### 2."
      ]
    },
    {
      "cell_type": "markdown",
      "metadata": {},
      "source": [
        "There is no need to apply Box-Cox transformation to stabilize the variance for all time series"
      ]
    }
  ],
  "metadata": {
    "colab": {
      "provenance": []
    },
    "kernelspec": {
      "display_name": "Python 3",
      "language": "python",
      "name": "python3"
    },
    "language_info": {
      "codemirror_mode": {
        "name": "ipython",
        "version": 3
      },
      "file_extension": ".py",
      "mimetype": "text/x-python",
      "name": "python",
      "nbconvert_exporter": "python",
      "pygments_lexer": "ipython3",
      "version": "3.10.10"
    },
    "orig_nbformat": 4
  },
  "nbformat": 4,
  "nbformat_minor": 0
}
